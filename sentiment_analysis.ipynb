{
 "cells": [
  {
   "cell_type": "code",
   "execution_count": 1,
   "metadata": {
    "pycharm": {
     "name": "#%%\n"
    }
   },
   "outputs": [
    {
     "data": {
      "text/html": [
       "        <script type=\"text/javascript\">\n",
       "        window.PlotlyConfig = {MathJaxConfig: 'local'};\n",
       "        if (window.MathJax) {MathJax.Hub.Config({SVG: {font: \"STIX-Web\"}});}\n",
       "        if (typeof require !== 'undefined') {\n",
       "        require.undef(\"plotly\");\n",
       "        requirejs.config({\n",
       "            paths: {\n",
       "                'plotly': ['https://cdn.plot.ly/plotly-latest.min']\n",
       "            }\n",
       "        });\n",
       "        require(['plotly'], function(Plotly) {\n",
       "            window._Plotly = Plotly;\n",
       "        });\n",
       "        }\n",
       "        </script>\n",
       "        "
      ]
     },
     "metadata": {},
     "output_type": "display_data"
    }
   ],
   "source": [
    "import spacy\n",
    "import pandas as pd\n",
    "import matplotlib.pyplot as plt\n",
    "import seaborn as sns\n",
    "color = sns.color_palette()\n",
    "%matplotlib inline\n",
    "import plotly.offline as py\n",
    "py.init_notebook_mode(connected=True)\n",
    "import plotly.graph_objs as go\n",
    "import plotly.tools as tls\n",
    "import plotly.express as px\n",
    "import chart_studio\n",
    "import chart_studio.plotly as py\n",
    "import chart_studio.tools as tls\n",
    "import nltk\n",
    "from nltk.corpus import stopwords\n",
    "from wordcloud import WordCloud\n",
    "import numpy as np"
   ]
  },
  {
   "cell_type": "code",
   "execution_count": 2,
   "metadata": {},
   "outputs": [],
   "source": [
    "path = '/Users/yahya/Downloads/reviews.csv'\n",
    "data = pd.read_csv(path)"
   ]
  },
  {
   "cell_type": "code",
   "execution_count": 3,
   "metadata": {},
   "outputs": [
    {
     "data": {
      "text/html": [
       "<div>\n",
       "<style scoped>\n",
       "    .dataframe tbody tr th:only-of-type {\n",
       "        vertical-align: middle;\n",
       "    }\n",
       "\n",
       "    .dataframe tbody tr th {\n",
       "        vertical-align: top;\n",
       "    }\n",
       "\n",
       "    .dataframe thead th {\n",
       "        text-align: right;\n",
       "    }\n",
       "</style>\n",
       "<table border=\"1\" class=\"dataframe\">\n",
       "  <thead>\n",
       "    <tr style=\"text-align: right;\">\n",
       "      <th></th>\n",
       "      <th>S</th>\n",
       "      <th>UserName</th>\n",
       "      <th>Rating</th>\n",
       "      <th>Subject</th>\n",
       "      <th>ReviewDate</th>\n",
       "      <th>Review</th>\n",
       "    </tr>\n",
       "  </thead>\n",
       "  <tbody>\n",
       "    <tr>\n",
       "      <th>0</th>\n",
       "      <td>B0767KYP92</td>\n",
       "      <td>rachel staman</td>\n",
       "      <td>1.0 out of 5 stars</td>\n",
       "      <td>GAVE ME AN ARMPIT LUMP lol</td>\n",
       "      <td>Reviewed in the United States on May 2, 2018</td>\n",
       "      <td>I love the idea of natural deodorant and every...</td>\n",
       "    </tr>\n",
       "    <tr>\n",
       "      <th>1</th>\n",
       "      <td>B0767KYP92</td>\n",
       "      <td>Grammy</td>\n",
       "      <td>5.0 out of 5 stars</td>\n",
       "      <td>Best natural deodorant that I have tried.</td>\n",
       "      <td>Reviewed in the United States on February 20, ...</td>\n",
       "      <td>This is by far the best natural deodorant that...</td>\n",
       "    </tr>\n",
       "    <tr>\n",
       "      <th>2</th>\n",
       "      <td>B0767KYP92</td>\n",
       "      <td>Clarissa Wilson</td>\n",
       "      <td>1.0 out of 5 stars</td>\n",
       "      <td>I'm just disappointed I can't find a natural d...</td>\n",
       "      <td>Reviewed in the United States on July 16, 2018</td>\n",
       "      <td>I've tried quite a few of the natural deodoran...</td>\n",
       "    </tr>\n",
       "    <tr>\n",
       "      <th>3</th>\n",
       "      <td>B0767KYP92</td>\n",
       "      <td>YTrevino</td>\n",
       "      <td>1.0 out of 5 stars</td>\n",
       "      <td>Bad batch!!!</td>\n",
       "      <td>Reviewed in the United States on April 22, 2018</td>\n",
       "      <td>I odered a bulk batch of Charcoal and Magnesiu...</td>\n",
       "    </tr>\n",
       "    <tr>\n",
       "      <th>4</th>\n",
       "      <td>B0767KYP92</td>\n",
       "      <td>GenuineImitation</td>\n",
       "      <td>1.0 out of 5 stars</td>\n",
       "      <td>Great Deodorant but STAINS</td>\n",
       "      <td>Reviewed in the United States on May 14, 2018</td>\n",
       "      <td>bought this a couple of times.. really a good ...</td>\n",
       "    </tr>\n",
       "    <tr>\n",
       "      <th>...</th>\n",
       "      <td>...</td>\n",
       "      <td>...</td>\n",
       "      <td>...</td>\n",
       "      <td>...</td>\n",
       "      <td>...</td>\n",
       "      <td>...</td>\n",
       "    </tr>\n",
       "    <tr>\n",
       "      <th>613</th>\n",
       "      <td>B0767KYP92</td>\n",
       "      <td>Lyndz</td>\n",
       "      <td>5.0 out of 5 stars</td>\n",
       "      <td>Works great</td>\n",
       "      <td>Reviewed in the United States on May 5, 2018</td>\n",
       "      <td>Works great for my husband. No sores or rashes...</td>\n",
       "    </tr>\n",
       "    <tr>\n",
       "      <th>614</th>\n",
       "      <td>B0767KYP92</td>\n",
       "      <td>GB Wizzard</td>\n",
       "      <td>1.0 out of 5 stars</td>\n",
       "      <td>BEWARE OF REACTIONS TO USAGE</td>\n",
       "      <td>Reviewed in the United States on March 17, 2019</td>\n",
       "      <td>Purchased at Costco when they promoted the pro...</td>\n",
       "    </tr>\n",
       "    <tr>\n",
       "      <th>615</th>\n",
       "      <td>B0767KYP92</td>\n",
       "      <td>Grace</td>\n",
       "      <td>5.0 out of 5 stars</td>\n",
       "      <td>Great Smell, and Works</td>\n",
       "      <td>Reviewed in the United States on September 5, ...</td>\n",
       "      <td>I love the smell of this deodorant! It smells ...</td>\n",
       "    </tr>\n",
       "    <tr>\n",
       "      <th>616</th>\n",
       "      <td>B0767KYP92</td>\n",
       "      <td>Tamra Kjormoe</td>\n",
       "      <td>4.0 out of 5 stars</td>\n",
       "      <td>IT works so I put up with treating stains</td>\n",
       "      <td>Reviewed in the United States on January 27, 2019</td>\n",
       "      <td>I love this.  It si the only thing that works ...</td>\n",
       "    </tr>\n",
       "    <tr>\n",
       "      <th>617</th>\n",
       "      <td>B0767KYP92</td>\n",
       "      <td>Renee Kollar</td>\n",
       "      <td>5.0 out of 5 stars</td>\n",
       "      <td>No Aluminum and Keeps you dry !</td>\n",
       "      <td>Reviewed in the United States on February 19, ...</td>\n",
       "      <td>No Aluminum no parabens and keeps me dry. Blow...</td>\n",
       "    </tr>\n",
       "  </tbody>\n",
       "</table>\n",
       "<p>618 rows × 6 columns</p>\n",
       "</div>"
      ],
      "text/plain": [
       "              S          UserName              Rating  \\\n",
       "0    B0767KYP92     rachel staman  1.0 out of 5 stars   \n",
       "1    B0767KYP92            Grammy  5.0 out of 5 stars   \n",
       "2    B0767KYP92   Clarissa Wilson  1.0 out of 5 stars   \n",
       "3    B0767KYP92          YTrevino  1.0 out of 5 stars   \n",
       "4    B0767KYP92  GenuineImitation  1.0 out of 5 stars   \n",
       "..          ...               ...                 ...   \n",
       "613  B0767KYP92             Lyndz  5.0 out of 5 stars   \n",
       "614  B0767KYP92        GB Wizzard  1.0 out of 5 stars   \n",
       "615  B0767KYP92             Grace  5.0 out of 5 stars   \n",
       "616  B0767KYP92     Tamra Kjormoe  4.0 out of 5 stars   \n",
       "617  B0767KYP92      Renee Kollar  5.0 out of 5 stars   \n",
       "\n",
       "                                               Subject  \\\n",
       "0                           GAVE ME AN ARMPIT LUMP lol   \n",
       "1            Best natural deodorant that I have tried.   \n",
       "2    I'm just disappointed I can't find a natural d...   \n",
       "3                                         Bad batch!!!   \n",
       "4                           Great Deodorant but STAINS   \n",
       "..                                                 ...   \n",
       "613                                        Works great   \n",
       "614                       BEWARE OF REACTIONS TO USAGE   \n",
       "615                             Great Smell, and Works   \n",
       "616          IT works so I put up with treating stains   \n",
       "617                    No Aluminum and Keeps you dry !   \n",
       "\n",
       "                                            ReviewDate  \\\n",
       "0         Reviewed in the United States on May 2, 2018   \n",
       "1    Reviewed in the United States on February 20, ...   \n",
       "2       Reviewed in the United States on July 16, 2018   \n",
       "3      Reviewed in the United States on April 22, 2018   \n",
       "4        Reviewed in the United States on May 14, 2018   \n",
       "..                                                 ...   \n",
       "613       Reviewed in the United States on May 5, 2018   \n",
       "614    Reviewed in the United States on March 17, 2019   \n",
       "615  Reviewed in the United States on September 5, ...   \n",
       "616  Reviewed in the United States on January 27, 2019   \n",
       "617  Reviewed in the United States on February 19, ...   \n",
       "\n",
       "                                                Review  \n",
       "0    I love the idea of natural deodorant and every...  \n",
       "1    This is by far the best natural deodorant that...  \n",
       "2    I've tried quite a few of the natural deodoran...  \n",
       "3    I odered a bulk batch of Charcoal and Magnesiu...  \n",
       "4    bought this a couple of times.. really a good ...  \n",
       "..                                                 ...  \n",
       "613  Works great for my husband. No sores or rashes...  \n",
       "614  Purchased at Costco when they promoted the pro...  \n",
       "615  I love the smell of this deodorant! It smells ...  \n",
       "616  I love this.  It si the only thing that works ...  \n",
       "617  No Aluminum no parabens and keeps me dry. Blow...  \n",
       "\n",
       "[618 rows x 6 columns]"
      ]
     },
     "execution_count": 3,
     "metadata": {},
     "output_type": "execute_result"
    }
   ],
   "source": [
    "data"
   ]
  },
  {
   "cell_type": "code",
   "execution_count": 4,
   "metadata": {},
   "outputs": [],
   "source": [
    "x = data['Rating'].str.split(' out of 5 stars', expand=True)"
   ]
  },
  {
   "cell_type": "code",
   "execution_count": 5,
   "metadata": {
    "scrolled": true
   },
   "outputs": [],
   "source": [
    "data['rating'] = x[0]"
   ]
  },
  {
   "cell_type": "code",
   "execution_count": 6,
   "metadata": {},
   "outputs": [
    {
     "data": {
      "text/html": [
       "<div>\n",
       "<style scoped>\n",
       "    .dataframe tbody tr th:only-of-type {\n",
       "        vertical-align: middle;\n",
       "    }\n",
       "\n",
       "    .dataframe tbody tr th {\n",
       "        vertical-align: top;\n",
       "    }\n",
       "\n",
       "    .dataframe thead th {\n",
       "        text-align: right;\n",
       "    }\n",
       "</style>\n",
       "<table border=\"1\" class=\"dataframe\">\n",
       "  <thead>\n",
       "    <tr style=\"text-align: right;\">\n",
       "      <th></th>\n",
       "      <th>S</th>\n",
       "      <th>UserName</th>\n",
       "      <th>Rating</th>\n",
       "      <th>Subject</th>\n",
       "      <th>ReviewDate</th>\n",
       "      <th>Review</th>\n",
       "      <th>rating</th>\n",
       "    </tr>\n",
       "  </thead>\n",
       "  <tbody>\n",
       "    <tr>\n",
       "      <th>0</th>\n",
       "      <td>B0767KYP92</td>\n",
       "      <td>rachel staman</td>\n",
       "      <td>1.0 out of 5 stars</td>\n",
       "      <td>GAVE ME AN ARMPIT LUMP lol</td>\n",
       "      <td>Reviewed in the United States on May 2, 2018</td>\n",
       "      <td>I love the idea of natural deodorant and every...</td>\n",
       "      <td>1.0</td>\n",
       "    </tr>\n",
       "    <tr>\n",
       "      <th>1</th>\n",
       "      <td>B0767KYP92</td>\n",
       "      <td>Grammy</td>\n",
       "      <td>5.0 out of 5 stars</td>\n",
       "      <td>Best natural deodorant that I have tried.</td>\n",
       "      <td>Reviewed in the United States on February 20, ...</td>\n",
       "      <td>This is by far the best natural deodorant that...</td>\n",
       "      <td>5.0</td>\n",
       "    </tr>\n",
       "    <tr>\n",
       "      <th>2</th>\n",
       "      <td>B0767KYP92</td>\n",
       "      <td>Clarissa Wilson</td>\n",
       "      <td>1.0 out of 5 stars</td>\n",
       "      <td>I'm just disappointed I can't find a natural d...</td>\n",
       "      <td>Reviewed in the United States on July 16, 2018</td>\n",
       "      <td>I've tried quite a few of the natural deodoran...</td>\n",
       "      <td>1.0</td>\n",
       "    </tr>\n",
       "    <tr>\n",
       "      <th>3</th>\n",
       "      <td>B0767KYP92</td>\n",
       "      <td>YTrevino</td>\n",
       "      <td>1.0 out of 5 stars</td>\n",
       "      <td>Bad batch!!!</td>\n",
       "      <td>Reviewed in the United States on April 22, 2018</td>\n",
       "      <td>I odered a bulk batch of Charcoal and Magnesiu...</td>\n",
       "      <td>1.0</td>\n",
       "    </tr>\n",
       "    <tr>\n",
       "      <th>4</th>\n",
       "      <td>B0767KYP92</td>\n",
       "      <td>GenuineImitation</td>\n",
       "      <td>1.0 out of 5 stars</td>\n",
       "      <td>Great Deodorant but STAINS</td>\n",
       "      <td>Reviewed in the United States on May 14, 2018</td>\n",
       "      <td>bought this a couple of times.. really a good ...</td>\n",
       "      <td>1.0</td>\n",
       "    </tr>\n",
       "    <tr>\n",
       "      <th>...</th>\n",
       "      <td>...</td>\n",
       "      <td>...</td>\n",
       "      <td>...</td>\n",
       "      <td>...</td>\n",
       "      <td>...</td>\n",
       "      <td>...</td>\n",
       "      <td>...</td>\n",
       "    </tr>\n",
       "    <tr>\n",
       "      <th>613</th>\n",
       "      <td>B0767KYP92</td>\n",
       "      <td>Lyndz</td>\n",
       "      <td>5.0 out of 5 stars</td>\n",
       "      <td>Works great</td>\n",
       "      <td>Reviewed in the United States on May 5, 2018</td>\n",
       "      <td>Works great for my husband. No sores or rashes...</td>\n",
       "      <td>5.0</td>\n",
       "    </tr>\n",
       "    <tr>\n",
       "      <th>614</th>\n",
       "      <td>B0767KYP92</td>\n",
       "      <td>GB Wizzard</td>\n",
       "      <td>1.0 out of 5 stars</td>\n",
       "      <td>BEWARE OF REACTIONS TO USAGE</td>\n",
       "      <td>Reviewed in the United States on March 17, 2019</td>\n",
       "      <td>Purchased at Costco when they promoted the pro...</td>\n",
       "      <td>1.0</td>\n",
       "    </tr>\n",
       "    <tr>\n",
       "      <th>615</th>\n",
       "      <td>B0767KYP92</td>\n",
       "      <td>Grace</td>\n",
       "      <td>5.0 out of 5 stars</td>\n",
       "      <td>Great Smell, and Works</td>\n",
       "      <td>Reviewed in the United States on September 5, ...</td>\n",
       "      <td>I love the smell of this deodorant! It smells ...</td>\n",
       "      <td>5.0</td>\n",
       "    </tr>\n",
       "    <tr>\n",
       "      <th>616</th>\n",
       "      <td>B0767KYP92</td>\n",
       "      <td>Tamra Kjormoe</td>\n",
       "      <td>4.0 out of 5 stars</td>\n",
       "      <td>IT works so I put up with treating stains</td>\n",
       "      <td>Reviewed in the United States on January 27, 2019</td>\n",
       "      <td>I love this.  It si the only thing that works ...</td>\n",
       "      <td>4.0</td>\n",
       "    </tr>\n",
       "    <tr>\n",
       "      <th>617</th>\n",
       "      <td>B0767KYP92</td>\n",
       "      <td>Renee Kollar</td>\n",
       "      <td>5.0 out of 5 stars</td>\n",
       "      <td>No Aluminum and Keeps you dry !</td>\n",
       "      <td>Reviewed in the United States on February 19, ...</td>\n",
       "      <td>No Aluminum no parabens and keeps me dry. Blow...</td>\n",
       "      <td>5.0</td>\n",
       "    </tr>\n",
       "  </tbody>\n",
       "</table>\n",
       "<p>618 rows × 7 columns</p>\n",
       "</div>"
      ],
      "text/plain": [
       "              S          UserName              Rating  \\\n",
       "0    B0767KYP92     rachel staman  1.0 out of 5 stars   \n",
       "1    B0767KYP92            Grammy  5.0 out of 5 stars   \n",
       "2    B0767KYP92   Clarissa Wilson  1.0 out of 5 stars   \n",
       "3    B0767KYP92          YTrevino  1.0 out of 5 stars   \n",
       "4    B0767KYP92  GenuineImitation  1.0 out of 5 stars   \n",
       "..          ...               ...                 ...   \n",
       "613  B0767KYP92             Lyndz  5.0 out of 5 stars   \n",
       "614  B0767KYP92        GB Wizzard  1.0 out of 5 stars   \n",
       "615  B0767KYP92             Grace  5.0 out of 5 stars   \n",
       "616  B0767KYP92     Tamra Kjormoe  4.0 out of 5 stars   \n",
       "617  B0767KYP92      Renee Kollar  5.0 out of 5 stars   \n",
       "\n",
       "                                               Subject  \\\n",
       "0                           GAVE ME AN ARMPIT LUMP lol   \n",
       "1            Best natural deodorant that I have tried.   \n",
       "2    I'm just disappointed I can't find a natural d...   \n",
       "3                                         Bad batch!!!   \n",
       "4                           Great Deodorant but STAINS   \n",
       "..                                                 ...   \n",
       "613                                        Works great   \n",
       "614                       BEWARE OF REACTIONS TO USAGE   \n",
       "615                             Great Smell, and Works   \n",
       "616          IT works so I put up with treating stains   \n",
       "617                    No Aluminum and Keeps you dry !   \n",
       "\n",
       "                                            ReviewDate  \\\n",
       "0         Reviewed in the United States on May 2, 2018   \n",
       "1    Reviewed in the United States on February 20, ...   \n",
       "2       Reviewed in the United States on July 16, 2018   \n",
       "3      Reviewed in the United States on April 22, 2018   \n",
       "4        Reviewed in the United States on May 14, 2018   \n",
       "..                                                 ...   \n",
       "613       Reviewed in the United States on May 5, 2018   \n",
       "614    Reviewed in the United States on March 17, 2019   \n",
       "615  Reviewed in the United States on September 5, ...   \n",
       "616  Reviewed in the United States on January 27, 2019   \n",
       "617  Reviewed in the United States on February 19, ...   \n",
       "\n",
       "                                                Review rating  \n",
       "0    I love the idea of natural deodorant and every...    1.0  \n",
       "1    This is by far the best natural deodorant that...    5.0  \n",
       "2    I've tried quite a few of the natural deodoran...    1.0  \n",
       "3    I odered a bulk batch of Charcoal and Magnesiu...    1.0  \n",
       "4    bought this a couple of times.. really a good ...    1.0  \n",
       "..                                                 ...    ...  \n",
       "613  Works great for my husband. No sores or rashes...    5.0  \n",
       "614  Purchased at Costco when they promoted the pro...    1.0  \n",
       "615  I love the smell of this deodorant! It smells ...    5.0  \n",
       "616  I love this.  It si the only thing that works ...    4.0  \n",
       "617  No Aluminum no parabens and keeps me dry. Blow...    5.0  \n",
       "\n",
       "[618 rows x 7 columns]"
      ]
     },
     "execution_count": 6,
     "metadata": {},
     "output_type": "execute_result"
    }
   ],
   "source": [
    "data"
   ]
  },
  {
   "cell_type": "code",
   "execution_count": 7,
   "metadata": {},
   "outputs": [
    {
     "data": {
      "text/plain": [
       "count     618\n",
       "unique      5\n",
       "top       5.0\n",
       "freq      343\n",
       "Name: rating, dtype: object"
      ]
     },
     "execution_count": 7,
     "metadata": {},
     "output_type": "execute_result"
    }
   ],
   "source": [
    "data['rating'].describe()"
   ]
  },
  {
   "cell_type": "code",
   "execution_count": 8,
   "metadata": {
    "scrolled": true
   },
   "outputs": [],
   "source": [
    "fig = px.histogram(data, x=\"rating\", title=\"Histogram of Schmidt's Ratings in Amazon Reviews\",\n",
    "                  labels={\n",
    "                      \"count\": \"Count\",\n",
    "                      \"rating\": \"Review Rating Out of 5\",\n",
    "                      \n",
    "                  })\n"
   ]
  },
  {
   "cell_type": "code",
   "execution_count": 9,
   "metadata": {},
   "outputs": [
    {
     "data": {
      "application/vnd.plotly.v1+json": {
       "config": {
        "plotlyServerURL": "https://plotly.com"
       },
       "data": [
        {
         "alignmentgroup": "True",
         "bingroup": "x",
         "hovertemplate": "Review Rating Out of 5=%{x}<br>count=%{y}<extra></extra>",
         "legendgroup": "",
         "marker": {
          "color": "#636efa"
         },
         "name": "",
         "offsetgroup": "",
         "orientation": "v",
         "showlegend": false,
         "type": "histogram",
         "x": [
          "1.0",
          "5.0",
          "1.0",
          "1.0",
          "1.0",
          "5.0",
          "3.0",
          "5.0",
          "1.0",
          "1.0",
          "4.0",
          "3.0",
          "5.0",
          "5.0",
          "5.0",
          "1.0",
          "4.0",
          "4.0",
          "1.0",
          "5.0",
          "1.0",
          "5.0",
          "1.0",
          "5.0",
          "5.0",
          "5.0",
          "4.0",
          "5.0",
          "5.0",
          "5.0",
          "5.0",
          "1.0",
          "5.0",
          "5.0",
          "2.0",
          "5.0",
          "1.0",
          "1.0",
          "4.0",
          "5.0",
          "1.0",
          "5.0",
          "2.0",
          "5.0",
          "1.0",
          "5.0",
          "5.0",
          "1.0",
          "5.0",
          "5.0",
          "1.0",
          "5.0",
          "3.0",
          "5.0",
          "1.0",
          "5.0",
          "5.0",
          "2.0",
          "1.0",
          "2.0",
          "5.0",
          "5.0",
          "1.0",
          "5.0",
          "5.0",
          "5.0",
          "5.0",
          "4.0",
          "1.0",
          "5.0",
          "3.0",
          "4.0",
          "3.0",
          "3.0",
          "1.0",
          "2.0",
          "2.0",
          "5.0",
          "5.0",
          "4.0",
          "4.0",
          "1.0",
          "1.0",
          "3.0",
          "3.0",
          "3.0",
          "5.0",
          "4.0",
          "1.0",
          "5.0",
          "5.0",
          "1.0",
          "5.0",
          "5.0",
          "5.0",
          "2.0",
          "1.0",
          "4.0",
          "5.0",
          "1.0",
          "3.0",
          "5.0",
          "5.0",
          "4.0",
          "1.0",
          "4.0",
          "5.0",
          "3.0",
          "5.0",
          "5.0",
          "5.0",
          "5.0",
          "4.0",
          "5.0",
          "5.0",
          "2.0",
          "5.0",
          "5.0",
          "5.0",
          "1.0",
          "4.0",
          "3.0",
          "5.0",
          "5.0",
          "5.0",
          "5.0",
          "5.0",
          "3.0",
          "5.0",
          "2.0",
          "5.0",
          "1.0",
          "5.0",
          "4.0",
          "5.0",
          "5.0",
          "5.0",
          "4.0",
          "5.0",
          "5.0",
          "5.0",
          "5.0",
          "5.0",
          "5.0",
          "5.0",
          "5.0",
          "5.0",
          "1.0",
          "5.0",
          "5.0",
          "5.0",
          "3.0",
          "5.0",
          "5.0",
          "5.0",
          "5.0",
          "5.0",
          "4.0",
          "5.0",
          "5.0",
          "5.0",
          "5.0",
          "5.0",
          "5.0",
          "5.0",
          "5.0",
          "2.0",
          "5.0",
          "4.0",
          "5.0",
          "5.0",
          "5.0",
          "4.0",
          "4.0",
          "5.0",
          "5.0",
          "5.0",
          "5.0",
          "3.0",
          "5.0",
          "5.0",
          "5.0",
          "5.0",
          "5.0",
          "5.0",
          "5.0",
          "1.0",
          "1.0",
          "5.0",
          "5.0",
          "5.0",
          "3.0",
          "5.0",
          "5.0",
          "5.0",
          "5.0",
          "5.0",
          "5.0",
          "5.0",
          "5.0",
          "2.0",
          "5.0",
          "5.0",
          "5.0",
          "3.0",
          "5.0",
          "5.0",
          "5.0",
          "5.0",
          "5.0",
          "3.0",
          "5.0",
          "3.0",
          "2.0",
          "5.0",
          "5.0",
          "5.0",
          "5.0",
          "5.0",
          "5.0",
          "5.0",
          "5.0",
          "5.0",
          "5.0",
          "5.0",
          "5.0",
          "5.0",
          "5.0",
          "5.0",
          "5.0",
          "5.0",
          "5.0",
          "1.0",
          "5.0",
          "1.0",
          "5.0",
          "2.0",
          "5.0",
          "2.0",
          "3.0",
          "5.0",
          "5.0",
          "5.0",
          "5.0",
          "5.0",
          "5.0",
          "5.0",
          "1.0",
          "5.0",
          "2.0",
          "5.0",
          "1.0",
          "5.0",
          "5.0",
          "2.0",
          "5.0",
          "5.0",
          "5.0",
          "5.0",
          "5.0",
          "5.0",
          "1.0",
          "5.0",
          "4.0",
          "5.0",
          "5.0",
          "5.0",
          "5.0",
          "5.0",
          "5.0",
          "5.0",
          "4.0",
          "2.0",
          "5.0",
          "5.0",
          "5.0",
          "5.0",
          "5.0",
          "5.0",
          "5.0",
          "5.0",
          "5.0",
          "5.0",
          "2.0",
          "5.0",
          "5.0",
          "5.0",
          "1.0",
          "2.0",
          "5.0",
          "5.0",
          "1.0",
          "3.0",
          "5.0",
          "1.0",
          "5.0",
          "5.0",
          "1.0",
          "5.0",
          "4.0",
          "1.0",
          "1.0",
          "1.0",
          "1.0",
          "1.0",
          "1.0",
          "1.0",
          "1.0",
          "1.0",
          "1.0",
          "5.0",
          "4.0",
          "1.0",
          "1.0",
          "1.0",
          "1.0",
          "1.0",
          "5.0",
          "1.0",
          "3.0",
          "1.0",
          "1.0",
          "1.0",
          "3.0",
          "1.0",
          "5.0",
          "3.0",
          "1.0",
          "1.0",
          "5.0",
          "1.0",
          "5.0",
          "2.0",
          "1.0",
          "1.0",
          "1.0",
          "5.0",
          "5.0",
          "1.0",
          "5.0",
          "1.0",
          "5.0",
          "5.0",
          "1.0",
          "5.0",
          "3.0",
          "2.0",
          "5.0",
          "5.0",
          "1.0",
          "4.0",
          "1.0",
          "5.0",
          "2.0",
          "1.0",
          "1.0",
          "1.0",
          "2.0",
          "1.0",
          "1.0",
          "1.0",
          "1.0",
          "5.0",
          "5.0",
          "1.0",
          "1.0",
          "5.0",
          "5.0",
          "5.0",
          "1.0",
          "1.0",
          "5.0",
          "2.0",
          "5.0",
          "1.0",
          "5.0",
          "1.0",
          "1.0",
          "5.0",
          "1.0",
          "1.0",
          "1.0",
          "5.0",
          "5.0",
          "3.0",
          "3.0",
          "1.0",
          "4.0",
          "5.0",
          "2.0",
          "4.0",
          "2.0",
          "5.0",
          "1.0",
          "1.0",
          "1.0",
          "1.0",
          "5.0",
          "1.0",
          "2.0",
          "4.0",
          "1.0",
          "4.0",
          "5.0",
          "1.0",
          "1.0",
          "1.0",
          "3.0",
          "5.0",
          "3.0",
          "4.0",
          "5.0",
          "5.0",
          "5.0",
          "5.0",
          "5.0",
          "5.0",
          "5.0",
          "4.0",
          "3.0",
          "5.0",
          "1.0",
          "5.0",
          "5.0",
          "3.0",
          "5.0",
          "2.0",
          "3.0",
          "5.0",
          "3.0",
          "3.0",
          "2.0",
          "4.0",
          "3.0",
          "2.0",
          "5.0",
          "2.0",
          "4.0",
          "5.0",
          "5.0",
          "2.0",
          "5.0",
          "3.0",
          "1.0",
          "5.0",
          "5.0",
          "5.0",
          "4.0",
          "5.0",
          "5.0",
          "5.0",
          "4.0",
          "1.0",
          "5.0",
          "4.0",
          "3.0",
          "1.0",
          "5.0",
          "5.0",
          "4.0",
          "1.0",
          "5.0",
          "3.0",
          "2.0",
          "3.0",
          "5.0",
          "5.0",
          "2.0",
          "5.0",
          "1.0",
          "2.0",
          "2.0",
          "5.0",
          "2.0",
          "2.0",
          "1.0",
          "5.0",
          "5.0",
          "5.0",
          "5.0",
          "4.0",
          "5.0",
          "5.0",
          "5.0",
          "5.0",
          "5.0",
          "5.0",
          "5.0",
          "5.0",
          "5.0",
          "3.0",
          "5.0",
          "5.0",
          "5.0",
          "1.0",
          "5.0",
          "1.0",
          "5.0",
          "1.0",
          "5.0",
          "5.0",
          "2.0",
          "5.0",
          "5.0",
          "5.0",
          "5.0",
          "5.0",
          "5.0",
          "5.0",
          "5.0",
          "4.0",
          "5.0",
          "5.0",
          "4.0",
          "5.0",
          "2.0",
          "5.0",
          "5.0",
          "2.0",
          "4.0",
          "5.0",
          "5.0",
          "5.0",
          "5.0",
          "5.0",
          "5.0",
          "5.0",
          "5.0",
          "5.0",
          "4.0",
          "1.0",
          "5.0",
          "5.0",
          "5.0",
          "4.0",
          "5.0",
          "5.0",
          "5.0",
          "4.0",
          "5.0",
          "5.0",
          "5.0",
          "5.0",
          "5.0",
          "5.0",
          "5.0",
          "5.0",
          "5.0",
          "5.0",
          "5.0",
          "5.0",
          "5.0",
          "5.0",
          "5.0",
          "5.0",
          "5.0",
          "3.0",
          "5.0",
          "5.0",
          "2.0",
          "5.0",
          "1.0",
          "2.0",
          "2.0",
          "2.0",
          "5.0",
          "1.0",
          "4.0",
          "5.0",
          "3.0",
          "1.0",
          "5.0",
          "4.0",
          "5.0",
          "5.0",
          "4.0",
          "5.0",
          "5.0",
          "5.0",
          "1.0",
          "1.0",
          "5.0",
          "5.0",
          "4.0",
          "5.0",
          "1.0",
          "4.0",
          "2.0",
          "5.0",
          "3.0",
          "5.0",
          "4.0",
          "1.0",
          "2.0",
          "5.0",
          "1.0",
          "5.0",
          "5.0",
          "3.0",
          "1.0",
          "5.0",
          "1.0",
          "1.0",
          "1.0",
          "1.0",
          "1.0",
          "1.0",
          "4.0",
          "5.0",
          "1.0",
          "5.0",
          "1.0",
          "4.0",
          "5.0",
          "1.0",
          "5.0",
          "4.0",
          "5.0"
         ],
         "xaxis": "x",
         "yaxis": "y"
        }
       ],
       "layout": {
        "barmode": "relative",
        "legend": {
         "tracegroupgap": 0
        },
        "template": {
         "data": {
          "bar": [
           {
            "error_x": {
             "color": "#2a3f5f"
            },
            "error_y": {
             "color": "#2a3f5f"
            },
            "marker": {
             "line": {
              "color": "#E5ECF6",
              "width": 0.5
             }
            },
            "type": "bar"
           }
          ],
          "barpolar": [
           {
            "marker": {
             "line": {
              "color": "#E5ECF6",
              "width": 0.5
             }
            },
            "type": "barpolar"
           }
          ],
          "carpet": [
           {
            "aaxis": {
             "endlinecolor": "#2a3f5f",
             "gridcolor": "white",
             "linecolor": "white",
             "minorgridcolor": "white",
             "startlinecolor": "#2a3f5f"
            },
            "baxis": {
             "endlinecolor": "#2a3f5f",
             "gridcolor": "white",
             "linecolor": "white",
             "minorgridcolor": "white",
             "startlinecolor": "#2a3f5f"
            },
            "type": "carpet"
           }
          ],
          "choropleth": [
           {
            "colorbar": {
             "outlinewidth": 0,
             "ticks": ""
            },
            "type": "choropleth"
           }
          ],
          "contour": [
           {
            "colorbar": {
             "outlinewidth": 0,
             "ticks": ""
            },
            "colorscale": [
             [
              0,
              "#0d0887"
             ],
             [
              0.1111111111111111,
              "#46039f"
             ],
             [
              0.2222222222222222,
              "#7201a8"
             ],
             [
              0.3333333333333333,
              "#9c179e"
             ],
             [
              0.4444444444444444,
              "#bd3786"
             ],
             [
              0.5555555555555556,
              "#d8576b"
             ],
             [
              0.6666666666666666,
              "#ed7953"
             ],
             [
              0.7777777777777778,
              "#fb9f3a"
             ],
             [
              0.8888888888888888,
              "#fdca26"
             ],
             [
              1,
              "#f0f921"
             ]
            ],
            "type": "contour"
           }
          ],
          "contourcarpet": [
           {
            "colorbar": {
             "outlinewidth": 0,
             "ticks": ""
            },
            "type": "contourcarpet"
           }
          ],
          "heatmap": [
           {
            "colorbar": {
             "outlinewidth": 0,
             "ticks": ""
            },
            "colorscale": [
             [
              0,
              "#0d0887"
             ],
             [
              0.1111111111111111,
              "#46039f"
             ],
             [
              0.2222222222222222,
              "#7201a8"
             ],
             [
              0.3333333333333333,
              "#9c179e"
             ],
             [
              0.4444444444444444,
              "#bd3786"
             ],
             [
              0.5555555555555556,
              "#d8576b"
             ],
             [
              0.6666666666666666,
              "#ed7953"
             ],
             [
              0.7777777777777778,
              "#fb9f3a"
             ],
             [
              0.8888888888888888,
              "#fdca26"
             ],
             [
              1,
              "#f0f921"
             ]
            ],
            "type": "heatmap"
           }
          ],
          "heatmapgl": [
           {
            "colorbar": {
             "outlinewidth": 0,
             "ticks": ""
            },
            "colorscale": [
             [
              0,
              "#0d0887"
             ],
             [
              0.1111111111111111,
              "#46039f"
             ],
             [
              0.2222222222222222,
              "#7201a8"
             ],
             [
              0.3333333333333333,
              "#9c179e"
             ],
             [
              0.4444444444444444,
              "#bd3786"
             ],
             [
              0.5555555555555556,
              "#d8576b"
             ],
             [
              0.6666666666666666,
              "#ed7953"
             ],
             [
              0.7777777777777778,
              "#fb9f3a"
             ],
             [
              0.8888888888888888,
              "#fdca26"
             ],
             [
              1,
              "#f0f921"
             ]
            ],
            "type": "heatmapgl"
           }
          ],
          "histogram": [
           {
            "marker": {
             "colorbar": {
              "outlinewidth": 0,
              "ticks": ""
             }
            },
            "type": "histogram"
           }
          ],
          "histogram2d": [
           {
            "colorbar": {
             "outlinewidth": 0,
             "ticks": ""
            },
            "colorscale": [
             [
              0,
              "#0d0887"
             ],
             [
              0.1111111111111111,
              "#46039f"
             ],
             [
              0.2222222222222222,
              "#7201a8"
             ],
             [
              0.3333333333333333,
              "#9c179e"
             ],
             [
              0.4444444444444444,
              "#bd3786"
             ],
             [
              0.5555555555555556,
              "#d8576b"
             ],
             [
              0.6666666666666666,
              "#ed7953"
             ],
             [
              0.7777777777777778,
              "#fb9f3a"
             ],
             [
              0.8888888888888888,
              "#fdca26"
             ],
             [
              1,
              "#f0f921"
             ]
            ],
            "type": "histogram2d"
           }
          ],
          "histogram2dcontour": [
           {
            "colorbar": {
             "outlinewidth": 0,
             "ticks": ""
            },
            "colorscale": [
             [
              0,
              "#0d0887"
             ],
             [
              0.1111111111111111,
              "#46039f"
             ],
             [
              0.2222222222222222,
              "#7201a8"
             ],
             [
              0.3333333333333333,
              "#9c179e"
             ],
             [
              0.4444444444444444,
              "#bd3786"
             ],
             [
              0.5555555555555556,
              "#d8576b"
             ],
             [
              0.6666666666666666,
              "#ed7953"
             ],
             [
              0.7777777777777778,
              "#fb9f3a"
             ],
             [
              0.8888888888888888,
              "#fdca26"
             ],
             [
              1,
              "#f0f921"
             ]
            ],
            "type": "histogram2dcontour"
           }
          ],
          "mesh3d": [
           {
            "colorbar": {
             "outlinewidth": 0,
             "ticks": ""
            },
            "type": "mesh3d"
           }
          ],
          "parcoords": [
           {
            "line": {
             "colorbar": {
              "outlinewidth": 0,
              "ticks": ""
             }
            },
            "type": "parcoords"
           }
          ],
          "pie": [
           {
            "automargin": true,
            "type": "pie"
           }
          ],
          "scatter": [
           {
            "marker": {
             "colorbar": {
              "outlinewidth": 0,
              "ticks": ""
             }
            },
            "type": "scatter"
           }
          ],
          "scatter3d": [
           {
            "line": {
             "colorbar": {
              "outlinewidth": 0,
              "ticks": ""
             }
            },
            "marker": {
             "colorbar": {
              "outlinewidth": 0,
              "ticks": ""
             }
            },
            "type": "scatter3d"
           }
          ],
          "scattercarpet": [
           {
            "marker": {
             "colorbar": {
              "outlinewidth": 0,
              "ticks": ""
             }
            },
            "type": "scattercarpet"
           }
          ],
          "scattergeo": [
           {
            "marker": {
             "colorbar": {
              "outlinewidth": 0,
              "ticks": ""
             }
            },
            "type": "scattergeo"
           }
          ],
          "scattergl": [
           {
            "marker": {
             "colorbar": {
              "outlinewidth": 0,
              "ticks": ""
             }
            },
            "type": "scattergl"
           }
          ],
          "scattermapbox": [
           {
            "marker": {
             "colorbar": {
              "outlinewidth": 0,
              "ticks": ""
             }
            },
            "type": "scattermapbox"
           }
          ],
          "scatterpolar": [
           {
            "marker": {
             "colorbar": {
              "outlinewidth": 0,
              "ticks": ""
             }
            },
            "type": "scatterpolar"
           }
          ],
          "scatterpolargl": [
           {
            "marker": {
             "colorbar": {
              "outlinewidth": 0,
              "ticks": ""
             }
            },
            "type": "scatterpolargl"
           }
          ],
          "scatterternary": [
           {
            "marker": {
             "colorbar": {
              "outlinewidth": 0,
              "ticks": ""
             }
            },
            "type": "scatterternary"
           }
          ],
          "surface": [
           {
            "colorbar": {
             "outlinewidth": 0,
             "ticks": ""
            },
            "colorscale": [
             [
              0,
              "#0d0887"
             ],
             [
              0.1111111111111111,
              "#46039f"
             ],
             [
              0.2222222222222222,
              "#7201a8"
             ],
             [
              0.3333333333333333,
              "#9c179e"
             ],
             [
              0.4444444444444444,
              "#bd3786"
             ],
             [
              0.5555555555555556,
              "#d8576b"
             ],
             [
              0.6666666666666666,
              "#ed7953"
             ],
             [
              0.7777777777777778,
              "#fb9f3a"
             ],
             [
              0.8888888888888888,
              "#fdca26"
             ],
             [
              1,
              "#f0f921"
             ]
            ],
            "type": "surface"
           }
          ],
          "table": [
           {
            "cells": {
             "fill": {
              "color": "#EBF0F8"
             },
             "line": {
              "color": "white"
             }
            },
            "header": {
             "fill": {
              "color": "#C8D4E3"
             },
             "line": {
              "color": "white"
             }
            },
            "type": "table"
           }
          ]
         },
         "layout": {
          "annotationdefaults": {
           "arrowcolor": "#2a3f5f",
           "arrowhead": 0,
           "arrowwidth": 1
          },
          "coloraxis": {
           "colorbar": {
            "outlinewidth": 0,
            "ticks": ""
           }
          },
          "colorscale": {
           "diverging": [
            [
             0,
             "#8e0152"
            ],
            [
             0.1,
             "#c51b7d"
            ],
            [
             0.2,
             "#de77ae"
            ],
            [
             0.3,
             "#f1b6da"
            ],
            [
             0.4,
             "#fde0ef"
            ],
            [
             0.5,
             "#f7f7f7"
            ],
            [
             0.6,
             "#e6f5d0"
            ],
            [
             0.7,
             "#b8e186"
            ],
            [
             0.8,
             "#7fbc41"
            ],
            [
             0.9,
             "#4d9221"
            ],
            [
             1,
             "#276419"
            ]
           ],
           "sequential": [
            [
             0,
             "#0d0887"
            ],
            [
             0.1111111111111111,
             "#46039f"
            ],
            [
             0.2222222222222222,
             "#7201a8"
            ],
            [
             0.3333333333333333,
             "#9c179e"
            ],
            [
             0.4444444444444444,
             "#bd3786"
            ],
            [
             0.5555555555555556,
             "#d8576b"
            ],
            [
             0.6666666666666666,
             "#ed7953"
            ],
            [
             0.7777777777777778,
             "#fb9f3a"
            ],
            [
             0.8888888888888888,
             "#fdca26"
            ],
            [
             1,
             "#f0f921"
            ]
           ],
           "sequentialminus": [
            [
             0,
             "#0d0887"
            ],
            [
             0.1111111111111111,
             "#46039f"
            ],
            [
             0.2222222222222222,
             "#7201a8"
            ],
            [
             0.3333333333333333,
             "#9c179e"
            ],
            [
             0.4444444444444444,
             "#bd3786"
            ],
            [
             0.5555555555555556,
             "#d8576b"
            ],
            [
             0.6666666666666666,
             "#ed7953"
            ],
            [
             0.7777777777777778,
             "#fb9f3a"
            ],
            [
             0.8888888888888888,
             "#fdca26"
            ],
            [
             1,
             "#f0f921"
            ]
           ]
          },
          "colorway": [
           "#636efa",
           "#EF553B",
           "#00cc96",
           "#ab63fa",
           "#FFA15A",
           "#19d3f3",
           "#FF6692",
           "#B6E880",
           "#FF97FF",
           "#FECB52"
          ],
          "font": {
           "color": "#2a3f5f"
          },
          "geo": {
           "bgcolor": "white",
           "lakecolor": "white",
           "landcolor": "#E5ECF6",
           "showlakes": true,
           "showland": true,
           "subunitcolor": "white"
          },
          "hoverlabel": {
           "align": "left"
          },
          "hovermode": "closest",
          "mapbox": {
           "style": "light"
          },
          "paper_bgcolor": "white",
          "plot_bgcolor": "#E5ECF6",
          "polar": {
           "angularaxis": {
            "gridcolor": "white",
            "linecolor": "white",
            "ticks": ""
           },
           "bgcolor": "#E5ECF6",
           "radialaxis": {
            "gridcolor": "white",
            "linecolor": "white",
            "ticks": ""
           }
          },
          "scene": {
           "xaxis": {
            "backgroundcolor": "#E5ECF6",
            "gridcolor": "white",
            "gridwidth": 2,
            "linecolor": "white",
            "showbackground": true,
            "ticks": "",
            "zerolinecolor": "white"
           },
           "yaxis": {
            "backgroundcolor": "#E5ECF6",
            "gridcolor": "white",
            "gridwidth": 2,
            "linecolor": "white",
            "showbackground": true,
            "ticks": "",
            "zerolinecolor": "white"
           },
           "zaxis": {
            "backgroundcolor": "#E5ECF6",
            "gridcolor": "white",
            "gridwidth": 2,
            "linecolor": "white",
            "showbackground": true,
            "ticks": "",
            "zerolinecolor": "white"
           }
          },
          "shapedefaults": {
           "line": {
            "color": "#2a3f5f"
           }
          },
          "ternary": {
           "aaxis": {
            "gridcolor": "white",
            "linecolor": "white",
            "ticks": ""
           },
           "baxis": {
            "gridcolor": "white",
            "linecolor": "white",
            "ticks": ""
           },
           "bgcolor": "#E5ECF6",
           "caxis": {
            "gridcolor": "white",
            "linecolor": "white",
            "ticks": ""
           }
          },
          "title": {
           "x": 0.05
          },
          "xaxis": {
           "automargin": true,
           "gridcolor": "white",
           "linecolor": "white",
           "ticks": "",
           "title": {
            "standoff": 15
           },
           "zerolinecolor": "white",
           "zerolinewidth": 2
          },
          "yaxis": {
           "automargin": true,
           "gridcolor": "white",
           "linecolor": "white",
           "ticks": "",
           "title": {
            "standoff": 15
           },
           "zerolinecolor": "white",
           "zerolinewidth": 2
          }
         }
        },
        "title": {
         "text": "Histogram of Schmidt's Ratings in Amazon Reviews"
        },
        "xaxis": {
         "anchor": "y",
         "domain": [
          0,
          1
         ],
         "title": {
          "text": "Review Rating Out of 5"
         }
        },
        "yaxis": {
         "anchor": "x",
         "domain": [
          0,
          1
         ],
         "title": {
          "text": "count"
         }
        }
       }
      },
      "text/html": [
       "<div>                            <div id=\"8c0d3c53-0108-4e79-b62f-c12c15bba44b\" class=\"plotly-graph-div\" style=\"height:525px; width:100%;\"></div>            <script type=\"text/javascript\">                require([\"plotly\"], function(Plotly) {                    window.PLOTLYENV=window.PLOTLYENV || {};                                    if (document.getElementById(\"8c0d3c53-0108-4e79-b62f-c12c15bba44b\")) {                    Plotly.newPlot(                        \"8c0d3c53-0108-4e79-b62f-c12c15bba44b\",                        [{\"alignmentgroup\": \"True\", \"bingroup\": \"x\", \"hovertemplate\": \"Review Rating Out of 5=%{x}<br>count=%{y}<extra></extra>\", \"legendgroup\": \"\", \"marker\": {\"color\": \"#636efa\"}, \"name\": \"\", \"offsetgroup\": \"\", \"orientation\": \"v\", \"showlegend\": false, \"type\": \"histogram\", \"x\": [\"1.0\", \"5.0\", \"1.0\", \"1.0\", \"1.0\", \"5.0\", \"3.0\", \"5.0\", \"1.0\", \"1.0\", \"4.0\", \"3.0\", \"5.0\", \"5.0\", \"5.0\", \"1.0\", \"4.0\", \"4.0\", \"1.0\", \"5.0\", \"1.0\", \"5.0\", \"1.0\", \"5.0\", \"5.0\", \"5.0\", \"4.0\", \"5.0\", \"5.0\", \"5.0\", \"5.0\", \"1.0\", \"5.0\", \"5.0\", \"2.0\", \"5.0\", \"1.0\", \"1.0\", \"4.0\", \"5.0\", \"1.0\", \"5.0\", \"2.0\", \"5.0\", \"1.0\", \"5.0\", \"5.0\", \"1.0\", \"5.0\", \"5.0\", \"1.0\", \"5.0\", \"3.0\", \"5.0\", \"1.0\", \"5.0\", \"5.0\", \"2.0\", \"1.0\", \"2.0\", \"5.0\", \"5.0\", \"1.0\", \"5.0\", \"5.0\", \"5.0\", \"5.0\", \"4.0\", \"1.0\", \"5.0\", \"3.0\", \"4.0\", \"3.0\", \"3.0\", \"1.0\", \"2.0\", \"2.0\", \"5.0\", \"5.0\", \"4.0\", \"4.0\", \"1.0\", \"1.0\", \"3.0\", \"3.0\", \"3.0\", \"5.0\", \"4.0\", \"1.0\", \"5.0\", \"5.0\", \"1.0\", \"5.0\", \"5.0\", \"5.0\", \"2.0\", \"1.0\", \"4.0\", \"5.0\", \"1.0\", \"3.0\", \"5.0\", \"5.0\", \"4.0\", \"1.0\", \"4.0\", \"5.0\", \"3.0\", \"5.0\", \"5.0\", \"5.0\", \"5.0\", \"4.0\", \"5.0\", \"5.0\", \"2.0\", \"5.0\", \"5.0\", \"5.0\", \"1.0\", \"4.0\", \"3.0\", \"5.0\", \"5.0\", \"5.0\", \"5.0\", \"5.0\", \"3.0\", \"5.0\", \"2.0\", \"5.0\", \"1.0\", \"5.0\", \"4.0\", \"5.0\", \"5.0\", \"5.0\", \"4.0\", \"5.0\", \"5.0\", \"5.0\", \"5.0\", \"5.0\", \"5.0\", \"5.0\", \"5.0\", \"5.0\", \"1.0\", \"5.0\", \"5.0\", \"5.0\", \"3.0\", \"5.0\", \"5.0\", \"5.0\", \"5.0\", \"5.0\", \"4.0\", \"5.0\", \"5.0\", \"5.0\", \"5.0\", \"5.0\", \"5.0\", \"5.0\", \"5.0\", \"2.0\", \"5.0\", \"4.0\", \"5.0\", \"5.0\", \"5.0\", \"4.0\", \"4.0\", \"5.0\", \"5.0\", \"5.0\", \"5.0\", \"3.0\", \"5.0\", \"5.0\", \"5.0\", \"5.0\", \"5.0\", \"5.0\", \"5.0\", \"1.0\", \"1.0\", \"5.0\", \"5.0\", \"5.0\", \"3.0\", \"5.0\", \"5.0\", \"5.0\", \"5.0\", \"5.0\", \"5.0\", \"5.0\", \"5.0\", \"2.0\", \"5.0\", \"5.0\", \"5.0\", \"3.0\", \"5.0\", \"5.0\", \"5.0\", \"5.0\", \"5.0\", \"3.0\", \"5.0\", \"3.0\", \"2.0\", \"5.0\", \"5.0\", \"5.0\", \"5.0\", \"5.0\", \"5.0\", \"5.0\", \"5.0\", \"5.0\", \"5.0\", \"5.0\", \"5.0\", \"5.0\", \"5.0\", \"5.0\", \"5.0\", \"5.0\", \"5.0\", \"1.0\", \"5.0\", \"1.0\", \"5.0\", \"2.0\", \"5.0\", \"2.0\", \"3.0\", \"5.0\", \"5.0\", \"5.0\", \"5.0\", \"5.0\", \"5.0\", \"5.0\", \"1.0\", \"5.0\", \"2.0\", \"5.0\", \"1.0\", \"5.0\", \"5.0\", \"2.0\", \"5.0\", \"5.0\", \"5.0\", \"5.0\", \"5.0\", \"5.0\", \"1.0\", \"5.0\", \"4.0\", \"5.0\", \"5.0\", \"5.0\", \"5.0\", \"5.0\", \"5.0\", \"5.0\", \"4.0\", \"2.0\", \"5.0\", \"5.0\", \"5.0\", \"5.0\", \"5.0\", \"5.0\", \"5.0\", \"5.0\", \"5.0\", \"5.0\", \"2.0\", \"5.0\", \"5.0\", \"5.0\", \"1.0\", \"2.0\", \"5.0\", \"5.0\", \"1.0\", \"3.0\", \"5.0\", \"1.0\", \"5.0\", \"5.0\", \"1.0\", \"5.0\", \"4.0\", \"1.0\", \"1.0\", \"1.0\", \"1.0\", \"1.0\", \"1.0\", \"1.0\", \"1.0\", \"1.0\", \"1.0\", \"5.0\", \"4.0\", \"1.0\", \"1.0\", \"1.0\", \"1.0\", \"1.0\", \"5.0\", \"1.0\", \"3.0\", \"1.0\", \"1.0\", \"1.0\", \"3.0\", \"1.0\", \"5.0\", \"3.0\", \"1.0\", \"1.0\", \"5.0\", \"1.0\", \"5.0\", \"2.0\", \"1.0\", \"1.0\", \"1.0\", \"5.0\", \"5.0\", \"1.0\", \"5.0\", \"1.0\", \"5.0\", \"5.0\", \"1.0\", \"5.0\", \"3.0\", \"2.0\", \"5.0\", \"5.0\", \"1.0\", \"4.0\", \"1.0\", \"5.0\", \"2.0\", \"1.0\", \"1.0\", \"1.0\", \"2.0\", \"1.0\", \"1.0\", \"1.0\", \"1.0\", \"5.0\", \"5.0\", \"1.0\", \"1.0\", \"5.0\", \"5.0\", \"5.0\", \"1.0\", \"1.0\", \"5.0\", \"2.0\", \"5.0\", \"1.0\", \"5.0\", \"1.0\", \"1.0\", \"5.0\", \"1.0\", \"1.0\", \"1.0\", \"5.0\", \"5.0\", \"3.0\", \"3.0\", \"1.0\", \"4.0\", \"5.0\", \"2.0\", \"4.0\", \"2.0\", \"5.0\", \"1.0\", \"1.0\", \"1.0\", \"1.0\", \"5.0\", \"1.0\", \"2.0\", \"4.0\", \"1.0\", \"4.0\", \"5.0\", \"1.0\", \"1.0\", \"1.0\", \"3.0\", \"5.0\", \"3.0\", \"4.0\", \"5.0\", \"5.0\", \"5.0\", \"5.0\", \"5.0\", \"5.0\", \"5.0\", \"4.0\", \"3.0\", \"5.0\", \"1.0\", \"5.0\", \"5.0\", \"3.0\", \"5.0\", \"2.0\", \"3.0\", \"5.0\", \"3.0\", \"3.0\", \"2.0\", \"4.0\", \"3.0\", \"2.0\", \"5.0\", \"2.0\", \"4.0\", \"5.0\", \"5.0\", \"2.0\", \"5.0\", \"3.0\", \"1.0\", \"5.0\", \"5.0\", \"5.0\", \"4.0\", \"5.0\", \"5.0\", \"5.0\", \"4.0\", \"1.0\", \"5.0\", \"4.0\", \"3.0\", \"1.0\", \"5.0\", \"5.0\", \"4.0\", \"1.0\", \"5.0\", \"3.0\", \"2.0\", \"3.0\", \"5.0\", \"5.0\", \"2.0\", \"5.0\", \"1.0\", \"2.0\", \"2.0\", \"5.0\", \"2.0\", \"2.0\", \"1.0\", \"5.0\", \"5.0\", \"5.0\", \"5.0\", \"4.0\", \"5.0\", \"5.0\", \"5.0\", \"5.0\", \"5.0\", \"5.0\", \"5.0\", \"5.0\", \"5.0\", \"3.0\", \"5.0\", \"5.0\", \"5.0\", \"1.0\", \"5.0\", \"1.0\", \"5.0\", \"1.0\", \"5.0\", \"5.0\", \"2.0\", \"5.0\", \"5.0\", \"5.0\", \"5.0\", \"5.0\", \"5.0\", \"5.0\", \"5.0\", \"4.0\", \"5.0\", \"5.0\", \"4.0\", \"5.0\", \"2.0\", \"5.0\", \"5.0\", \"2.0\", \"4.0\", \"5.0\", \"5.0\", \"5.0\", \"5.0\", \"5.0\", \"5.0\", \"5.0\", \"5.0\", \"5.0\", \"4.0\", \"1.0\", \"5.0\", \"5.0\", \"5.0\", \"4.0\", \"5.0\", \"5.0\", \"5.0\", \"4.0\", \"5.0\", \"5.0\", \"5.0\", \"5.0\", \"5.0\", \"5.0\", \"5.0\", \"5.0\", \"5.0\", \"5.0\", \"5.0\", \"5.0\", \"5.0\", \"5.0\", \"5.0\", \"5.0\", \"5.0\", \"3.0\", \"5.0\", \"5.0\", \"2.0\", \"5.0\", \"1.0\", \"2.0\", \"2.0\", \"2.0\", \"5.0\", \"1.0\", \"4.0\", \"5.0\", \"3.0\", \"1.0\", \"5.0\", \"4.0\", \"5.0\", \"5.0\", \"4.0\", \"5.0\", \"5.0\", \"5.0\", \"1.0\", \"1.0\", \"5.0\", \"5.0\", \"4.0\", \"5.0\", \"1.0\", \"4.0\", \"2.0\", \"5.0\", \"3.0\", \"5.0\", \"4.0\", \"1.0\", \"2.0\", \"5.0\", \"1.0\", \"5.0\", \"5.0\", \"3.0\", \"1.0\", \"5.0\", \"1.0\", \"1.0\", \"1.0\", \"1.0\", \"1.0\", \"1.0\", \"4.0\", \"5.0\", \"1.0\", \"5.0\", \"1.0\", \"4.0\", \"5.0\", \"1.0\", \"5.0\", \"4.0\", \"5.0\"], \"xaxis\": \"x\", \"yaxis\": \"y\"}],                        {\"barmode\": \"relative\", \"legend\": {\"tracegroupgap\": 0}, \"template\": {\"data\": {\"bar\": [{\"error_x\": {\"color\": \"#2a3f5f\"}, \"error_y\": {\"color\": \"#2a3f5f\"}, \"marker\": {\"line\": {\"color\": \"#E5ECF6\", \"width\": 0.5}}, \"type\": \"bar\"}], \"barpolar\": [{\"marker\": {\"line\": {\"color\": \"#E5ECF6\", \"width\": 0.5}}, \"type\": \"barpolar\"}], \"carpet\": [{\"aaxis\": {\"endlinecolor\": \"#2a3f5f\", \"gridcolor\": \"white\", \"linecolor\": \"white\", \"minorgridcolor\": \"white\", \"startlinecolor\": \"#2a3f5f\"}, \"baxis\": {\"endlinecolor\": \"#2a3f5f\", \"gridcolor\": \"white\", \"linecolor\": \"white\", \"minorgridcolor\": \"white\", \"startlinecolor\": \"#2a3f5f\"}, \"type\": \"carpet\"}], \"choropleth\": [{\"colorbar\": {\"outlinewidth\": 0, \"ticks\": \"\"}, \"type\": \"choropleth\"}], \"contour\": [{\"colorbar\": {\"outlinewidth\": 0, \"ticks\": \"\"}, \"colorscale\": [[0.0, \"#0d0887\"], [0.1111111111111111, \"#46039f\"], [0.2222222222222222, \"#7201a8\"], [0.3333333333333333, \"#9c179e\"], [0.4444444444444444, \"#bd3786\"], [0.5555555555555556, \"#d8576b\"], [0.6666666666666666, \"#ed7953\"], [0.7777777777777778, \"#fb9f3a\"], [0.8888888888888888, \"#fdca26\"], [1.0, \"#f0f921\"]], \"type\": \"contour\"}], \"contourcarpet\": [{\"colorbar\": {\"outlinewidth\": 0, \"ticks\": \"\"}, \"type\": \"contourcarpet\"}], \"heatmap\": [{\"colorbar\": {\"outlinewidth\": 0, \"ticks\": \"\"}, \"colorscale\": [[0.0, \"#0d0887\"], [0.1111111111111111, \"#46039f\"], [0.2222222222222222, \"#7201a8\"], [0.3333333333333333, \"#9c179e\"], [0.4444444444444444, \"#bd3786\"], [0.5555555555555556, \"#d8576b\"], [0.6666666666666666, \"#ed7953\"], [0.7777777777777778, \"#fb9f3a\"], [0.8888888888888888, \"#fdca26\"], [1.0, \"#f0f921\"]], \"type\": \"heatmap\"}], \"heatmapgl\": [{\"colorbar\": {\"outlinewidth\": 0, \"ticks\": \"\"}, \"colorscale\": [[0.0, \"#0d0887\"], [0.1111111111111111, \"#46039f\"], [0.2222222222222222, \"#7201a8\"], [0.3333333333333333, \"#9c179e\"], [0.4444444444444444, \"#bd3786\"], [0.5555555555555556, \"#d8576b\"], [0.6666666666666666, \"#ed7953\"], [0.7777777777777778, \"#fb9f3a\"], [0.8888888888888888, \"#fdca26\"], [1.0, \"#f0f921\"]], \"type\": \"heatmapgl\"}], \"histogram\": [{\"marker\": {\"colorbar\": {\"outlinewidth\": 0, \"ticks\": \"\"}}, \"type\": \"histogram\"}], \"histogram2d\": [{\"colorbar\": {\"outlinewidth\": 0, \"ticks\": \"\"}, \"colorscale\": [[0.0, \"#0d0887\"], [0.1111111111111111, \"#46039f\"], [0.2222222222222222, \"#7201a8\"], [0.3333333333333333, \"#9c179e\"], [0.4444444444444444, \"#bd3786\"], [0.5555555555555556, \"#d8576b\"], [0.6666666666666666, \"#ed7953\"], [0.7777777777777778, \"#fb9f3a\"], [0.8888888888888888, \"#fdca26\"], [1.0, \"#f0f921\"]], \"type\": \"histogram2d\"}], \"histogram2dcontour\": [{\"colorbar\": {\"outlinewidth\": 0, \"ticks\": \"\"}, \"colorscale\": [[0.0, \"#0d0887\"], [0.1111111111111111, \"#46039f\"], [0.2222222222222222, \"#7201a8\"], [0.3333333333333333, \"#9c179e\"], [0.4444444444444444, \"#bd3786\"], [0.5555555555555556, \"#d8576b\"], [0.6666666666666666, \"#ed7953\"], [0.7777777777777778, \"#fb9f3a\"], [0.8888888888888888, \"#fdca26\"], [1.0, \"#f0f921\"]], \"type\": \"histogram2dcontour\"}], \"mesh3d\": [{\"colorbar\": {\"outlinewidth\": 0, \"ticks\": \"\"}, \"type\": \"mesh3d\"}], \"parcoords\": [{\"line\": {\"colorbar\": {\"outlinewidth\": 0, \"ticks\": \"\"}}, \"type\": \"parcoords\"}], \"pie\": [{\"automargin\": true, \"type\": \"pie\"}], \"scatter\": [{\"marker\": {\"colorbar\": {\"outlinewidth\": 0, \"ticks\": \"\"}}, \"type\": \"scatter\"}], \"scatter3d\": [{\"line\": {\"colorbar\": {\"outlinewidth\": 0, \"ticks\": \"\"}}, \"marker\": {\"colorbar\": {\"outlinewidth\": 0, \"ticks\": \"\"}}, \"type\": \"scatter3d\"}], \"scattercarpet\": [{\"marker\": {\"colorbar\": {\"outlinewidth\": 0, \"ticks\": \"\"}}, \"type\": \"scattercarpet\"}], \"scattergeo\": [{\"marker\": {\"colorbar\": {\"outlinewidth\": 0, \"ticks\": \"\"}}, \"type\": \"scattergeo\"}], \"scattergl\": [{\"marker\": {\"colorbar\": {\"outlinewidth\": 0, \"ticks\": \"\"}}, \"type\": \"scattergl\"}], \"scattermapbox\": [{\"marker\": {\"colorbar\": {\"outlinewidth\": 0, \"ticks\": \"\"}}, \"type\": \"scattermapbox\"}], \"scatterpolar\": [{\"marker\": {\"colorbar\": {\"outlinewidth\": 0, \"ticks\": \"\"}}, \"type\": \"scatterpolar\"}], \"scatterpolargl\": [{\"marker\": {\"colorbar\": {\"outlinewidth\": 0, \"ticks\": \"\"}}, \"type\": \"scatterpolargl\"}], \"scatterternary\": [{\"marker\": {\"colorbar\": {\"outlinewidth\": 0, \"ticks\": \"\"}}, \"type\": \"scatterternary\"}], \"surface\": [{\"colorbar\": {\"outlinewidth\": 0, \"ticks\": \"\"}, \"colorscale\": [[0.0, \"#0d0887\"], [0.1111111111111111, \"#46039f\"], [0.2222222222222222, \"#7201a8\"], [0.3333333333333333, \"#9c179e\"], [0.4444444444444444, \"#bd3786\"], [0.5555555555555556, \"#d8576b\"], [0.6666666666666666, \"#ed7953\"], [0.7777777777777778, \"#fb9f3a\"], [0.8888888888888888, \"#fdca26\"], [1.0, \"#f0f921\"]], \"type\": \"surface\"}], \"table\": [{\"cells\": {\"fill\": {\"color\": \"#EBF0F8\"}, \"line\": {\"color\": \"white\"}}, \"header\": {\"fill\": {\"color\": \"#C8D4E3\"}, \"line\": {\"color\": \"white\"}}, \"type\": \"table\"}]}, \"layout\": {\"annotationdefaults\": {\"arrowcolor\": \"#2a3f5f\", \"arrowhead\": 0, \"arrowwidth\": 1}, \"coloraxis\": {\"colorbar\": {\"outlinewidth\": 0, \"ticks\": \"\"}}, \"colorscale\": {\"diverging\": [[0, \"#8e0152\"], [0.1, \"#c51b7d\"], [0.2, \"#de77ae\"], [0.3, \"#f1b6da\"], [0.4, \"#fde0ef\"], [0.5, \"#f7f7f7\"], [0.6, \"#e6f5d0\"], [0.7, \"#b8e186\"], [0.8, \"#7fbc41\"], [0.9, \"#4d9221\"], [1, \"#276419\"]], \"sequential\": [[0.0, \"#0d0887\"], [0.1111111111111111, \"#46039f\"], [0.2222222222222222, \"#7201a8\"], [0.3333333333333333, \"#9c179e\"], [0.4444444444444444, \"#bd3786\"], [0.5555555555555556, \"#d8576b\"], [0.6666666666666666, \"#ed7953\"], [0.7777777777777778, \"#fb9f3a\"], [0.8888888888888888, \"#fdca26\"], [1.0, \"#f0f921\"]], \"sequentialminus\": [[0.0, \"#0d0887\"], [0.1111111111111111, \"#46039f\"], [0.2222222222222222, \"#7201a8\"], [0.3333333333333333, \"#9c179e\"], [0.4444444444444444, \"#bd3786\"], [0.5555555555555556, \"#d8576b\"], [0.6666666666666666, \"#ed7953\"], [0.7777777777777778, \"#fb9f3a\"], [0.8888888888888888, \"#fdca26\"], [1.0, \"#f0f921\"]]}, \"colorway\": [\"#636efa\", \"#EF553B\", \"#00cc96\", \"#ab63fa\", \"#FFA15A\", \"#19d3f3\", \"#FF6692\", \"#B6E880\", \"#FF97FF\", \"#FECB52\"], \"font\": {\"color\": \"#2a3f5f\"}, \"geo\": {\"bgcolor\": \"white\", \"lakecolor\": \"white\", \"landcolor\": \"#E5ECF6\", \"showlakes\": true, \"showland\": true, \"subunitcolor\": \"white\"}, \"hoverlabel\": {\"align\": \"left\"}, \"hovermode\": \"closest\", \"mapbox\": {\"style\": \"light\"}, \"paper_bgcolor\": \"white\", \"plot_bgcolor\": \"#E5ECF6\", \"polar\": {\"angularaxis\": {\"gridcolor\": \"white\", \"linecolor\": \"white\", \"ticks\": \"\"}, \"bgcolor\": \"#E5ECF6\", \"radialaxis\": {\"gridcolor\": \"white\", \"linecolor\": \"white\", \"ticks\": \"\"}}, \"scene\": {\"xaxis\": {\"backgroundcolor\": \"#E5ECF6\", \"gridcolor\": \"white\", \"gridwidth\": 2, \"linecolor\": \"white\", \"showbackground\": true, \"ticks\": \"\", \"zerolinecolor\": \"white\"}, \"yaxis\": {\"backgroundcolor\": \"#E5ECF6\", \"gridcolor\": \"white\", \"gridwidth\": 2, \"linecolor\": \"white\", \"showbackground\": true, \"ticks\": \"\", \"zerolinecolor\": \"white\"}, \"zaxis\": {\"backgroundcolor\": \"#E5ECF6\", \"gridcolor\": \"white\", \"gridwidth\": 2, \"linecolor\": \"white\", \"showbackground\": true, \"ticks\": \"\", \"zerolinecolor\": \"white\"}}, \"shapedefaults\": {\"line\": {\"color\": \"#2a3f5f\"}}, \"ternary\": {\"aaxis\": {\"gridcolor\": \"white\", \"linecolor\": \"white\", \"ticks\": \"\"}, \"baxis\": {\"gridcolor\": \"white\", \"linecolor\": \"white\", \"ticks\": \"\"}, \"bgcolor\": \"#E5ECF6\", \"caxis\": {\"gridcolor\": \"white\", \"linecolor\": \"white\", \"ticks\": \"\"}}, \"title\": {\"x\": 0.05}, \"xaxis\": {\"automargin\": true, \"gridcolor\": \"white\", \"linecolor\": \"white\", \"ticks\": \"\", \"title\": {\"standoff\": 15}, \"zerolinecolor\": \"white\", \"zerolinewidth\": 2}, \"yaxis\": {\"automargin\": true, \"gridcolor\": \"white\", \"linecolor\": \"white\", \"ticks\": \"\", \"title\": {\"standoff\": 15}, \"zerolinecolor\": \"white\", \"zerolinewidth\": 2}}}, \"title\": {\"text\": \"Histogram of Schmidt's Ratings in Amazon Reviews\"}, \"xaxis\": {\"anchor\": \"y\", \"domain\": [0.0, 1.0], \"title\": {\"text\": \"Review Rating Out of 5\"}}, \"yaxis\": {\"anchor\": \"x\", \"domain\": [0.0, 1.0], \"title\": {\"text\": \"count\"}}},                        {\"responsive\": true}                    ).then(function(){\n",
       "                            \n",
       "var gd = document.getElementById('8c0d3c53-0108-4e79-b62f-c12c15bba44b');\n",
       "var x = new MutationObserver(function (mutations, observer) {{\n",
       "        var display = window.getComputedStyle(gd).display;\n",
       "        if (!display || display === 'none') {{\n",
       "            console.log([gd, 'removed!']);\n",
       "            Plotly.purge(gd);\n",
       "            observer.disconnect();\n",
       "        }}\n",
       "}});\n",
       "\n",
       "// Listen for the removal of the full notebook cells\n",
       "var notebookContainer = gd.closest('#notebook-container');\n",
       "if (notebookContainer) {{\n",
       "    x.observe(notebookContainer, {childList: true});\n",
       "}}\n",
       "\n",
       "// Listen for the clearing of the current output cell\n",
       "var outputEl = gd.closest('.output');\n",
       "if (outputEl) {{\n",
       "    x.observe(outputEl, {childList: true});\n",
       "}}\n",
       "\n",
       "                        })                };                });            </script>        </div>"
      ]
     },
     "metadata": {},
     "output_type": "display_data"
    }
   ],
   "source": [
    "fig.show()"
   ]
  },
  {
   "cell_type": "code",
   "execution_count": 10,
   "metadata": {},
   "outputs": [
    {
     "data": {
      "text/html": [
       "<div>\n",
       "<style scoped>\n",
       "    .dataframe tbody tr th:only-of-type {\n",
       "        vertical-align: middle;\n",
       "    }\n",
       "\n",
       "    .dataframe tbody tr th {\n",
       "        vertical-align: top;\n",
       "    }\n",
       "\n",
       "    .dataframe thead th {\n",
       "        text-align: right;\n",
       "    }\n",
       "</style>\n",
       "<table border=\"1\" class=\"dataframe\">\n",
       "  <thead>\n",
       "    <tr style=\"text-align: right;\">\n",
       "      <th></th>\n",
       "      <th>S</th>\n",
       "      <th>UserName</th>\n",
       "      <th>Rating</th>\n",
       "      <th>Subject</th>\n",
       "      <th>ReviewDate</th>\n",
       "      <th>Review</th>\n",
       "      <th>rating</th>\n",
       "    </tr>\n",
       "  </thead>\n",
       "  <tbody>\n",
       "    <tr>\n",
       "      <th>0</th>\n",
       "      <td>B0767KYP92</td>\n",
       "      <td>rachel staman</td>\n",
       "      <td>1.0 out of 5 stars</td>\n",
       "      <td>GAVE ME AN ARMPIT LUMP lol</td>\n",
       "      <td>Reviewed in the United States on May 2, 2018</td>\n",
       "      <td>I love the idea of natural deodorant and every...</td>\n",
       "      <td>1.0</td>\n",
       "    </tr>\n",
       "    <tr>\n",
       "      <th>1</th>\n",
       "      <td>B0767KYP92</td>\n",
       "      <td>Grammy</td>\n",
       "      <td>5.0 out of 5 stars</td>\n",
       "      <td>Best natural deodorant that I have tried.</td>\n",
       "      <td>Reviewed in the United States on February 20, ...</td>\n",
       "      <td>This is by far the best natural deodorant that...</td>\n",
       "      <td>5.0</td>\n",
       "    </tr>\n",
       "    <tr>\n",
       "      <th>2</th>\n",
       "      <td>B0767KYP92</td>\n",
       "      <td>Clarissa Wilson</td>\n",
       "      <td>1.0 out of 5 stars</td>\n",
       "      <td>I'm just disappointed I can't find a natural d...</td>\n",
       "      <td>Reviewed in the United States on July 16, 2018</td>\n",
       "      <td>I've tried quite a few of the natural deodoran...</td>\n",
       "      <td>1.0</td>\n",
       "    </tr>\n",
       "    <tr>\n",
       "      <th>3</th>\n",
       "      <td>B0767KYP92</td>\n",
       "      <td>YTrevino</td>\n",
       "      <td>1.0 out of 5 stars</td>\n",
       "      <td>Bad batch!!!</td>\n",
       "      <td>Reviewed in the United States on April 22, 2018</td>\n",
       "      <td>I odered a bulk batch of Charcoal and Magnesiu...</td>\n",
       "      <td>1.0</td>\n",
       "    </tr>\n",
       "    <tr>\n",
       "      <th>4</th>\n",
       "      <td>B0767KYP92</td>\n",
       "      <td>GenuineImitation</td>\n",
       "      <td>1.0 out of 5 stars</td>\n",
       "      <td>Great Deodorant but STAINS</td>\n",
       "      <td>Reviewed in the United States on May 14, 2018</td>\n",
       "      <td>bought this a couple of times.. really a good ...</td>\n",
       "      <td>1.0</td>\n",
       "    </tr>\n",
       "    <tr>\n",
       "      <th>...</th>\n",
       "      <td>...</td>\n",
       "      <td>...</td>\n",
       "      <td>...</td>\n",
       "      <td>...</td>\n",
       "      <td>...</td>\n",
       "      <td>...</td>\n",
       "      <td>...</td>\n",
       "    </tr>\n",
       "    <tr>\n",
       "      <th>613</th>\n",
       "      <td>B0767KYP92</td>\n",
       "      <td>Lyndz</td>\n",
       "      <td>5.0 out of 5 stars</td>\n",
       "      <td>Works great</td>\n",
       "      <td>Reviewed in the United States on May 5, 2018</td>\n",
       "      <td>Works great for my husband. No sores or rashes...</td>\n",
       "      <td>5.0</td>\n",
       "    </tr>\n",
       "    <tr>\n",
       "      <th>614</th>\n",
       "      <td>B0767KYP92</td>\n",
       "      <td>GB Wizzard</td>\n",
       "      <td>1.0 out of 5 stars</td>\n",
       "      <td>BEWARE OF REACTIONS TO USAGE</td>\n",
       "      <td>Reviewed in the United States on March 17, 2019</td>\n",
       "      <td>Purchased at Costco when they promoted the pro...</td>\n",
       "      <td>1.0</td>\n",
       "    </tr>\n",
       "    <tr>\n",
       "      <th>615</th>\n",
       "      <td>B0767KYP92</td>\n",
       "      <td>Grace</td>\n",
       "      <td>5.0 out of 5 stars</td>\n",
       "      <td>Great Smell, and Works</td>\n",
       "      <td>Reviewed in the United States on September 5, ...</td>\n",
       "      <td>I love the smell of this deodorant! It smells ...</td>\n",
       "      <td>5.0</td>\n",
       "    </tr>\n",
       "    <tr>\n",
       "      <th>616</th>\n",
       "      <td>B0767KYP92</td>\n",
       "      <td>Tamra Kjormoe</td>\n",
       "      <td>4.0 out of 5 stars</td>\n",
       "      <td>IT works so I put up with treating stains</td>\n",
       "      <td>Reviewed in the United States on January 27, 2019</td>\n",
       "      <td>I love this.  It si the only thing that works ...</td>\n",
       "      <td>4.0</td>\n",
       "    </tr>\n",
       "    <tr>\n",
       "      <th>617</th>\n",
       "      <td>B0767KYP92</td>\n",
       "      <td>Renee Kollar</td>\n",
       "      <td>5.0 out of 5 stars</td>\n",
       "      <td>No Aluminum and Keeps you dry !</td>\n",
       "      <td>Reviewed in the United States on February 19, ...</td>\n",
       "      <td>No Aluminum no parabens and keeps me dry. Blow...</td>\n",
       "      <td>5.0</td>\n",
       "    </tr>\n",
       "  </tbody>\n",
       "</table>\n",
       "<p>618 rows × 7 columns</p>\n",
       "</div>"
      ],
      "text/plain": [
       "              S          UserName              Rating  \\\n",
       "0    B0767KYP92     rachel staman  1.0 out of 5 stars   \n",
       "1    B0767KYP92            Grammy  5.0 out of 5 stars   \n",
       "2    B0767KYP92   Clarissa Wilson  1.0 out of 5 stars   \n",
       "3    B0767KYP92          YTrevino  1.0 out of 5 stars   \n",
       "4    B0767KYP92  GenuineImitation  1.0 out of 5 stars   \n",
       "..          ...               ...                 ...   \n",
       "613  B0767KYP92             Lyndz  5.0 out of 5 stars   \n",
       "614  B0767KYP92        GB Wizzard  1.0 out of 5 stars   \n",
       "615  B0767KYP92             Grace  5.0 out of 5 stars   \n",
       "616  B0767KYP92     Tamra Kjormoe  4.0 out of 5 stars   \n",
       "617  B0767KYP92      Renee Kollar  5.0 out of 5 stars   \n",
       "\n",
       "                                               Subject  \\\n",
       "0                           GAVE ME AN ARMPIT LUMP lol   \n",
       "1            Best natural deodorant that I have tried.   \n",
       "2    I'm just disappointed I can't find a natural d...   \n",
       "3                                         Bad batch!!!   \n",
       "4                           Great Deodorant but STAINS   \n",
       "..                                                 ...   \n",
       "613                                        Works great   \n",
       "614                       BEWARE OF REACTIONS TO USAGE   \n",
       "615                             Great Smell, and Works   \n",
       "616          IT works so I put up with treating stains   \n",
       "617                    No Aluminum and Keeps you dry !   \n",
       "\n",
       "                                            ReviewDate  \\\n",
       "0         Reviewed in the United States on May 2, 2018   \n",
       "1    Reviewed in the United States on February 20, ...   \n",
       "2       Reviewed in the United States on July 16, 2018   \n",
       "3      Reviewed in the United States on April 22, 2018   \n",
       "4        Reviewed in the United States on May 14, 2018   \n",
       "..                                                 ...   \n",
       "613       Reviewed in the United States on May 5, 2018   \n",
       "614    Reviewed in the United States on March 17, 2019   \n",
       "615  Reviewed in the United States on September 5, ...   \n",
       "616  Reviewed in the United States on January 27, 2019   \n",
       "617  Reviewed in the United States on February 19, ...   \n",
       "\n",
       "                                                Review rating  \n",
       "0    I love the idea of natural deodorant and every...    1.0  \n",
       "1    This is by far the best natural deodorant that...    5.0  \n",
       "2    I've tried quite a few of the natural deodoran...    1.0  \n",
       "3    I odered a bulk batch of Charcoal and Magnesiu...    1.0  \n",
       "4    bought this a couple of times.. really a good ...    1.0  \n",
       "..                                                 ...    ...  \n",
       "613  Works great for my husband. No sores or rashes...    5.0  \n",
       "614  Purchased at Costco when they promoted the pro...    1.0  \n",
       "615  I love the smell of this deodorant! It smells ...    5.0  \n",
       "616  I love this.  It si the only thing that works ...    4.0  \n",
       "617  No Aluminum no parabens and keeps me dry. Blow...    5.0  \n",
       "\n",
       "[618 rows x 7 columns]"
      ]
     },
     "execution_count": 10,
     "metadata": {},
     "output_type": "execute_result"
    }
   ],
   "source": [
    "data"
   ]
  },
  {
   "cell_type": "code",
   "execution_count": 11,
   "metadata": {},
   "outputs": [],
   "source": [
    "data['subject_review'] = data['Subject'] + data['Review']"
   ]
  },
  {
   "cell_type": "code",
   "execution_count": 12,
   "metadata": {
    "scrolled": true
   },
   "outputs": [
    {
     "data": {
      "text/html": [
       "<div>\n",
       "<style scoped>\n",
       "    .dataframe tbody tr th:only-of-type {\n",
       "        vertical-align: middle;\n",
       "    }\n",
       "\n",
       "    .dataframe tbody tr th {\n",
       "        vertical-align: top;\n",
       "    }\n",
       "\n",
       "    .dataframe thead th {\n",
       "        text-align: right;\n",
       "    }\n",
       "</style>\n",
       "<table border=\"1\" class=\"dataframe\">\n",
       "  <thead>\n",
       "    <tr style=\"text-align: right;\">\n",
       "      <th></th>\n",
       "      <th>S</th>\n",
       "      <th>UserName</th>\n",
       "      <th>Rating</th>\n",
       "      <th>Subject</th>\n",
       "      <th>ReviewDate</th>\n",
       "      <th>Review</th>\n",
       "      <th>rating</th>\n",
       "      <th>subject_review</th>\n",
       "    </tr>\n",
       "  </thead>\n",
       "  <tbody>\n",
       "    <tr>\n",
       "      <th>0</th>\n",
       "      <td>B0767KYP92</td>\n",
       "      <td>rachel staman</td>\n",
       "      <td>1.0 out of 5 stars</td>\n",
       "      <td>GAVE ME AN ARMPIT LUMP lol</td>\n",
       "      <td>Reviewed in the United States on May 2, 2018</td>\n",
       "      <td>I love the idea of natural deodorant and every...</td>\n",
       "      <td>1.0</td>\n",
       "      <td>GAVE ME AN ARMPIT LUMP lolI love the idea of n...</td>\n",
       "    </tr>\n",
       "    <tr>\n",
       "      <th>1</th>\n",
       "      <td>B0767KYP92</td>\n",
       "      <td>Grammy</td>\n",
       "      <td>5.0 out of 5 stars</td>\n",
       "      <td>Best natural deodorant that I have tried.</td>\n",
       "      <td>Reviewed in the United States on February 20, ...</td>\n",
       "      <td>This is by far the best natural deodorant that...</td>\n",
       "      <td>5.0</td>\n",
       "      <td>Best natural deodorant that I have tried.This ...</td>\n",
       "    </tr>\n",
       "    <tr>\n",
       "      <th>2</th>\n",
       "      <td>B0767KYP92</td>\n",
       "      <td>Clarissa Wilson</td>\n",
       "      <td>1.0 out of 5 stars</td>\n",
       "      <td>I'm just disappointed I can't find a natural d...</td>\n",
       "      <td>Reviewed in the United States on July 16, 2018</td>\n",
       "      <td>I've tried quite a few of the natural deodoran...</td>\n",
       "      <td>1.0</td>\n",
       "      <td>I'm just disappointed I can't find a natural d...</td>\n",
       "    </tr>\n",
       "    <tr>\n",
       "      <th>3</th>\n",
       "      <td>B0767KYP92</td>\n",
       "      <td>YTrevino</td>\n",
       "      <td>1.0 out of 5 stars</td>\n",
       "      <td>Bad batch!!!</td>\n",
       "      <td>Reviewed in the United States on April 22, 2018</td>\n",
       "      <td>I odered a bulk batch of Charcoal and Magnesiu...</td>\n",
       "      <td>1.0</td>\n",
       "      <td>Bad batch!!!I odered a bulk batch of Charcoal ...</td>\n",
       "    </tr>\n",
       "    <tr>\n",
       "      <th>4</th>\n",
       "      <td>B0767KYP92</td>\n",
       "      <td>GenuineImitation</td>\n",
       "      <td>1.0 out of 5 stars</td>\n",
       "      <td>Great Deodorant but STAINS</td>\n",
       "      <td>Reviewed in the United States on May 14, 2018</td>\n",
       "      <td>bought this a couple of times.. really a good ...</td>\n",
       "      <td>1.0</td>\n",
       "      <td>Great Deodorant but STAINSbought this a couple...</td>\n",
       "    </tr>\n",
       "    <tr>\n",
       "      <th>...</th>\n",
       "      <td>...</td>\n",
       "      <td>...</td>\n",
       "      <td>...</td>\n",
       "      <td>...</td>\n",
       "      <td>...</td>\n",
       "      <td>...</td>\n",
       "      <td>...</td>\n",
       "      <td>...</td>\n",
       "    </tr>\n",
       "    <tr>\n",
       "      <th>613</th>\n",
       "      <td>B0767KYP92</td>\n",
       "      <td>Lyndz</td>\n",
       "      <td>5.0 out of 5 stars</td>\n",
       "      <td>Works great</td>\n",
       "      <td>Reviewed in the United States on May 5, 2018</td>\n",
       "      <td>Works great for my husband. No sores or rashes...</td>\n",
       "      <td>5.0</td>\n",
       "      <td>Works greatWorks great for my husband. No sore...</td>\n",
       "    </tr>\n",
       "    <tr>\n",
       "      <th>614</th>\n",
       "      <td>B0767KYP92</td>\n",
       "      <td>GB Wizzard</td>\n",
       "      <td>1.0 out of 5 stars</td>\n",
       "      <td>BEWARE OF REACTIONS TO USAGE</td>\n",
       "      <td>Reviewed in the United States on March 17, 2019</td>\n",
       "      <td>Purchased at Costco when they promoted the pro...</td>\n",
       "      <td>1.0</td>\n",
       "      <td>BEWARE OF REACTIONS TO USAGEPurchased at Costc...</td>\n",
       "    </tr>\n",
       "    <tr>\n",
       "      <th>615</th>\n",
       "      <td>B0767KYP92</td>\n",
       "      <td>Grace</td>\n",
       "      <td>5.0 out of 5 stars</td>\n",
       "      <td>Great Smell, and Works</td>\n",
       "      <td>Reviewed in the United States on September 5, ...</td>\n",
       "      <td>I love the smell of this deodorant! It smells ...</td>\n",
       "      <td>5.0</td>\n",
       "      <td>Great Smell, and WorksI love the smell of this...</td>\n",
       "    </tr>\n",
       "    <tr>\n",
       "      <th>616</th>\n",
       "      <td>B0767KYP92</td>\n",
       "      <td>Tamra Kjormoe</td>\n",
       "      <td>4.0 out of 5 stars</td>\n",
       "      <td>IT works so I put up with treating stains</td>\n",
       "      <td>Reviewed in the United States on January 27, 2019</td>\n",
       "      <td>I love this.  It si the only thing that works ...</td>\n",
       "      <td>4.0</td>\n",
       "      <td>IT works so I put up with treating stainsI lov...</td>\n",
       "    </tr>\n",
       "    <tr>\n",
       "      <th>617</th>\n",
       "      <td>B0767KYP92</td>\n",
       "      <td>Renee Kollar</td>\n",
       "      <td>5.0 out of 5 stars</td>\n",
       "      <td>No Aluminum and Keeps you dry !</td>\n",
       "      <td>Reviewed in the United States on February 19, ...</td>\n",
       "      <td>No Aluminum no parabens and keeps me dry. Blow...</td>\n",
       "      <td>5.0</td>\n",
       "      <td>No Aluminum and Keeps you dry !No Aluminum no ...</td>\n",
       "    </tr>\n",
       "  </tbody>\n",
       "</table>\n",
       "<p>618 rows × 8 columns</p>\n",
       "</div>"
      ],
      "text/plain": [
       "              S          UserName              Rating  \\\n",
       "0    B0767KYP92     rachel staman  1.0 out of 5 stars   \n",
       "1    B0767KYP92            Grammy  5.0 out of 5 stars   \n",
       "2    B0767KYP92   Clarissa Wilson  1.0 out of 5 stars   \n",
       "3    B0767KYP92          YTrevino  1.0 out of 5 stars   \n",
       "4    B0767KYP92  GenuineImitation  1.0 out of 5 stars   \n",
       "..          ...               ...                 ...   \n",
       "613  B0767KYP92             Lyndz  5.0 out of 5 stars   \n",
       "614  B0767KYP92        GB Wizzard  1.0 out of 5 stars   \n",
       "615  B0767KYP92             Grace  5.0 out of 5 stars   \n",
       "616  B0767KYP92     Tamra Kjormoe  4.0 out of 5 stars   \n",
       "617  B0767KYP92      Renee Kollar  5.0 out of 5 stars   \n",
       "\n",
       "                                               Subject  \\\n",
       "0                           GAVE ME AN ARMPIT LUMP lol   \n",
       "1            Best natural deodorant that I have tried.   \n",
       "2    I'm just disappointed I can't find a natural d...   \n",
       "3                                         Bad batch!!!   \n",
       "4                           Great Deodorant but STAINS   \n",
       "..                                                 ...   \n",
       "613                                        Works great   \n",
       "614                       BEWARE OF REACTIONS TO USAGE   \n",
       "615                             Great Smell, and Works   \n",
       "616          IT works so I put up with treating stains   \n",
       "617                    No Aluminum and Keeps you dry !   \n",
       "\n",
       "                                            ReviewDate  \\\n",
       "0         Reviewed in the United States on May 2, 2018   \n",
       "1    Reviewed in the United States on February 20, ...   \n",
       "2       Reviewed in the United States on July 16, 2018   \n",
       "3      Reviewed in the United States on April 22, 2018   \n",
       "4        Reviewed in the United States on May 14, 2018   \n",
       "..                                                 ...   \n",
       "613       Reviewed in the United States on May 5, 2018   \n",
       "614    Reviewed in the United States on March 17, 2019   \n",
       "615  Reviewed in the United States on September 5, ...   \n",
       "616  Reviewed in the United States on January 27, 2019   \n",
       "617  Reviewed in the United States on February 19, ...   \n",
       "\n",
       "                                                Review rating  \\\n",
       "0    I love the idea of natural deodorant and every...    1.0   \n",
       "1    This is by far the best natural deodorant that...    5.0   \n",
       "2    I've tried quite a few of the natural deodoran...    1.0   \n",
       "3    I odered a bulk batch of Charcoal and Magnesiu...    1.0   \n",
       "4    bought this a couple of times.. really a good ...    1.0   \n",
       "..                                                 ...    ...   \n",
       "613  Works great for my husband. No sores or rashes...    5.0   \n",
       "614  Purchased at Costco when they promoted the pro...    1.0   \n",
       "615  I love the smell of this deodorant! It smells ...    5.0   \n",
       "616  I love this.  It si the only thing that works ...    4.0   \n",
       "617  No Aluminum no parabens and keeps me dry. Blow...    5.0   \n",
       "\n",
       "                                        subject_review  \n",
       "0    GAVE ME AN ARMPIT LUMP lolI love the idea of n...  \n",
       "1    Best natural deodorant that I have tried.This ...  \n",
       "2    I'm just disappointed I can't find a natural d...  \n",
       "3    Bad batch!!!I odered a bulk batch of Charcoal ...  \n",
       "4    Great Deodorant but STAINSbought this a couple...  \n",
       "..                                                 ...  \n",
       "613  Works greatWorks great for my husband. No sore...  \n",
       "614  BEWARE OF REACTIONS TO USAGEPurchased at Costc...  \n",
       "615  Great Smell, and WorksI love the smell of this...  \n",
       "616  IT works so I put up with treating stainsI lov...  \n",
       "617  No Aluminum and Keeps you dry !No Aluminum no ...  \n",
       "\n",
       "[618 rows x 8 columns]"
      ]
     },
     "execution_count": 12,
     "metadata": {},
     "output_type": "execute_result"
    }
   ],
   "source": [
    "data\n"
   ]
  },
  {
   "cell_type": "code",
   "execution_count": 15,
   "metadata": {},
   "outputs": [],
   "source": [
    "nlp = spacy.load('en')"
   ]
  },
  {
   "cell_type": "code",
   "execution_count": 16,
   "metadata": {},
   "outputs": [
    {
     "data": {
      "text/html": [
       "<div>\n",
       "<style scoped>\n",
       "    .dataframe tbody tr th:only-of-type {\n",
       "        vertical-align: middle;\n",
       "    }\n",
       "\n",
       "    .dataframe tbody tr th {\n",
       "        vertical-align: top;\n",
       "    }\n",
       "\n",
       "    .dataframe thead th {\n",
       "        text-align: right;\n",
       "    }\n",
       "</style>\n",
       "<table border=\"1\" class=\"dataframe\">\n",
       "  <thead>\n",
       "    <tr style=\"text-align: right;\">\n",
       "      <th></th>\n",
       "      <th>S</th>\n",
       "      <th>UserName</th>\n",
       "      <th>Rating</th>\n",
       "      <th>Subject</th>\n",
       "      <th>ReviewDate</th>\n",
       "      <th>Review</th>\n",
       "      <th>rating</th>\n",
       "      <th>subject_review</th>\n",
       "    </tr>\n",
       "  </thead>\n",
       "  <tbody>\n",
       "    <tr>\n",
       "      <th>0</th>\n",
       "      <td>B0767KYP92</td>\n",
       "      <td>rachel staman</td>\n",
       "      <td>1.0 out of 5 stars</td>\n",
       "      <td>GAVE ME AN ARMPIT LUMP lol</td>\n",
       "      <td>Reviewed in the United States on May 2, 2018</td>\n",
       "      <td>I love the idea of natural deodorant and every...</td>\n",
       "      <td>1.0</td>\n",
       "      <td>GAVE ME AN ARMPIT LUMP lolI love the idea of n...</td>\n",
       "    </tr>\n",
       "    <tr>\n",
       "      <th>1</th>\n",
       "      <td>B0767KYP92</td>\n",
       "      <td>Grammy</td>\n",
       "      <td>5.0 out of 5 stars</td>\n",
       "      <td>Best natural deodorant that I have tried.</td>\n",
       "      <td>Reviewed in the United States on February 20, ...</td>\n",
       "      <td>This is by far the best natural deodorant that...</td>\n",
       "      <td>5.0</td>\n",
       "      <td>Best natural deodorant that I have tried.This ...</td>\n",
       "    </tr>\n",
       "    <tr>\n",
       "      <th>2</th>\n",
       "      <td>B0767KYP92</td>\n",
       "      <td>Clarissa Wilson</td>\n",
       "      <td>1.0 out of 5 stars</td>\n",
       "      <td>I'm just disappointed I can't find a natural d...</td>\n",
       "      <td>Reviewed in the United States on July 16, 2018</td>\n",
       "      <td>I've tried quite a few of the natural deodoran...</td>\n",
       "      <td>1.0</td>\n",
       "      <td>I'm just disappointed I can't find a natural d...</td>\n",
       "    </tr>\n",
       "    <tr>\n",
       "      <th>3</th>\n",
       "      <td>B0767KYP92</td>\n",
       "      <td>YTrevino</td>\n",
       "      <td>1.0 out of 5 stars</td>\n",
       "      <td>Bad batch!!!</td>\n",
       "      <td>Reviewed in the United States on April 22, 2018</td>\n",
       "      <td>I odered a bulk batch of Charcoal and Magnesiu...</td>\n",
       "      <td>1.0</td>\n",
       "      <td>Bad batch!!!I odered a bulk batch of Charcoal ...</td>\n",
       "    </tr>\n",
       "    <tr>\n",
       "      <th>4</th>\n",
       "      <td>B0767KYP92</td>\n",
       "      <td>GenuineImitation</td>\n",
       "      <td>1.0 out of 5 stars</td>\n",
       "      <td>Great Deodorant but STAINS</td>\n",
       "      <td>Reviewed in the United States on May 14, 2018</td>\n",
       "      <td>bought this a couple of times.. really a good ...</td>\n",
       "      <td>1.0</td>\n",
       "      <td>Great Deodorant but STAINSbought this a couple...</td>\n",
       "    </tr>\n",
       "    <tr>\n",
       "      <th>...</th>\n",
       "      <td>...</td>\n",
       "      <td>...</td>\n",
       "      <td>...</td>\n",
       "      <td>...</td>\n",
       "      <td>...</td>\n",
       "      <td>...</td>\n",
       "      <td>...</td>\n",
       "      <td>...</td>\n",
       "    </tr>\n",
       "    <tr>\n",
       "      <th>613</th>\n",
       "      <td>B0767KYP92</td>\n",
       "      <td>Lyndz</td>\n",
       "      <td>5.0 out of 5 stars</td>\n",
       "      <td>Works great</td>\n",
       "      <td>Reviewed in the United States on May 5, 2018</td>\n",
       "      <td>Works great for my husband. No sores or rashes...</td>\n",
       "      <td>5.0</td>\n",
       "      <td>Works greatWorks great for my husband. No sore...</td>\n",
       "    </tr>\n",
       "    <tr>\n",
       "      <th>614</th>\n",
       "      <td>B0767KYP92</td>\n",
       "      <td>GB Wizzard</td>\n",
       "      <td>1.0 out of 5 stars</td>\n",
       "      <td>BEWARE OF REACTIONS TO USAGE</td>\n",
       "      <td>Reviewed in the United States on March 17, 2019</td>\n",
       "      <td>Purchased at Costco when they promoted the pro...</td>\n",
       "      <td>1.0</td>\n",
       "      <td>BEWARE OF REACTIONS TO USAGEPurchased at Costc...</td>\n",
       "    </tr>\n",
       "    <tr>\n",
       "      <th>615</th>\n",
       "      <td>B0767KYP92</td>\n",
       "      <td>Grace</td>\n",
       "      <td>5.0 out of 5 stars</td>\n",
       "      <td>Great Smell, and Works</td>\n",
       "      <td>Reviewed in the United States on September 5, ...</td>\n",
       "      <td>I love the smell of this deodorant! It smells ...</td>\n",
       "      <td>5.0</td>\n",
       "      <td>Great Smell, and WorksI love the smell of this...</td>\n",
       "    </tr>\n",
       "    <tr>\n",
       "      <th>616</th>\n",
       "      <td>B0767KYP92</td>\n",
       "      <td>Tamra Kjormoe</td>\n",
       "      <td>4.0 out of 5 stars</td>\n",
       "      <td>IT works so I put up with treating stains</td>\n",
       "      <td>Reviewed in the United States on January 27, 2019</td>\n",
       "      <td>I love this.  It si the only thing that works ...</td>\n",
       "      <td>4.0</td>\n",
       "      <td>IT works so I put up with treating stainsI lov...</td>\n",
       "    </tr>\n",
       "    <tr>\n",
       "      <th>617</th>\n",
       "      <td>B0767KYP92</td>\n",
       "      <td>Renee Kollar</td>\n",
       "      <td>5.0 out of 5 stars</td>\n",
       "      <td>No Aluminum and Keeps you dry !</td>\n",
       "      <td>Reviewed in the United States on February 19, ...</td>\n",
       "      <td>No Aluminum no parabens and keeps me dry. Blow...</td>\n",
       "      <td>5.0</td>\n",
       "      <td>No Aluminum and Keeps you dry !No Aluminum no ...</td>\n",
       "    </tr>\n",
       "  </tbody>\n",
       "</table>\n",
       "<p>618 rows × 8 columns</p>\n",
       "</div>"
      ],
      "text/plain": [
       "              S          UserName              Rating  \\\n",
       "0    B0767KYP92     rachel staman  1.0 out of 5 stars   \n",
       "1    B0767KYP92            Grammy  5.0 out of 5 stars   \n",
       "2    B0767KYP92   Clarissa Wilson  1.0 out of 5 stars   \n",
       "3    B0767KYP92          YTrevino  1.0 out of 5 stars   \n",
       "4    B0767KYP92  GenuineImitation  1.0 out of 5 stars   \n",
       "..          ...               ...                 ...   \n",
       "613  B0767KYP92             Lyndz  5.0 out of 5 stars   \n",
       "614  B0767KYP92        GB Wizzard  1.0 out of 5 stars   \n",
       "615  B0767KYP92             Grace  5.0 out of 5 stars   \n",
       "616  B0767KYP92     Tamra Kjormoe  4.0 out of 5 stars   \n",
       "617  B0767KYP92      Renee Kollar  5.0 out of 5 stars   \n",
       "\n",
       "                                               Subject  \\\n",
       "0                           GAVE ME AN ARMPIT LUMP lol   \n",
       "1            Best natural deodorant that I have tried.   \n",
       "2    I'm just disappointed I can't find a natural d...   \n",
       "3                                         Bad batch!!!   \n",
       "4                           Great Deodorant but STAINS   \n",
       "..                                                 ...   \n",
       "613                                        Works great   \n",
       "614                       BEWARE OF REACTIONS TO USAGE   \n",
       "615                             Great Smell, and Works   \n",
       "616          IT works so I put up with treating stains   \n",
       "617                    No Aluminum and Keeps you dry !   \n",
       "\n",
       "                                            ReviewDate  \\\n",
       "0         Reviewed in the United States on May 2, 2018   \n",
       "1    Reviewed in the United States on February 20, ...   \n",
       "2       Reviewed in the United States on July 16, 2018   \n",
       "3      Reviewed in the United States on April 22, 2018   \n",
       "4        Reviewed in the United States on May 14, 2018   \n",
       "..                                                 ...   \n",
       "613       Reviewed in the United States on May 5, 2018   \n",
       "614    Reviewed in the United States on March 17, 2019   \n",
       "615  Reviewed in the United States on September 5, ...   \n",
       "616  Reviewed in the United States on January 27, 2019   \n",
       "617  Reviewed in the United States on February 19, ...   \n",
       "\n",
       "                                                Review rating  \\\n",
       "0    I love the idea of natural deodorant and every...    1.0   \n",
       "1    This is by far the best natural deodorant that...    5.0   \n",
       "2    I've tried quite a few of the natural deodoran...    1.0   \n",
       "3    I odered a bulk batch of Charcoal and Magnesiu...    1.0   \n",
       "4    bought this a couple of times.. really a good ...    1.0   \n",
       "..                                                 ...    ...   \n",
       "613  Works great for my husband. No sores or rashes...    5.0   \n",
       "614  Purchased at Costco when they promoted the pro...    1.0   \n",
       "615  I love the smell of this deodorant! It smells ...    5.0   \n",
       "616  I love this.  It si the only thing that works ...    4.0   \n",
       "617  No Aluminum no parabens and keeps me dry. Blow...    5.0   \n",
       "\n",
       "                                        subject_review  \n",
       "0    GAVE ME AN ARMPIT LUMP lolI love the idea of n...  \n",
       "1    Best natural deodorant that I have tried.This ...  \n",
       "2    I'm just disappointed I can't find a natural d...  \n",
       "3    Bad batch!!!I odered a bulk batch of Charcoal ...  \n",
       "4    Great Deodorant but STAINSbought this a couple...  \n",
       "..                                                 ...  \n",
       "613  Works greatWorks great for my husband. No sore...  \n",
       "614  BEWARE OF REACTIONS TO USAGEPurchased at Costc...  \n",
       "615  Great Smell, and WorksI love the smell of this...  \n",
       "616  IT works so I put up with treating stainsI lov...  \n",
       "617  No Aluminum and Keeps you dry !No Aluminum no ...  \n",
       "\n",
       "[618 rows x 8 columns]"
      ]
     },
     "execution_count": 16,
     "metadata": {},
     "output_type": "execute_result"
    }
   ],
   "source": [
    "data"
   ]
  },
  {
   "cell_type": "code",
   "execution_count": 17,
   "metadata": {},
   "outputs": [
    {
     "data": {
      "text/plain": [
       "<spacy.lang.en.English at 0x7ff740a58370>"
      ]
     },
     "execution_count": 17,
     "metadata": {},
     "output_type": "execute_result"
    }
   ],
   "source": [
    "nlp"
   ]
  },
  {
   "cell_type": "code",
   "execution_count": 18,
   "metadata": {},
   "outputs": [],
   "source": [
    "data['subject_review_lemme'] = data['subject_review'].apply(nlp)"
   ]
  },
  {
   "cell_type": "code",
   "execution_count": 19,
   "metadata": {},
   "outputs": [],
   "source": [
    "from spacy.lang.en.stop_words import STOP_WORDS"
   ]
  },
  {
   "cell_type": "code",
   "execution_count": 20,
   "metadata": {},
   "outputs": [],
   "source": [
    "stopwords = STOP_WORDS"
   ]
  },
  {
   "cell_type": "code",
   "execution_count": 22,
   "metadata": {
    "scrolled": false
   },
   "outputs": [
    {
     "data": {
      "text/html": [
       "<div>\n",
       "<style scoped>\n",
       "    .dataframe tbody tr th:only-of-type {\n",
       "        vertical-align: middle;\n",
       "    }\n",
       "\n",
       "    .dataframe tbody tr th {\n",
       "        vertical-align: top;\n",
       "    }\n",
       "\n",
       "    .dataframe thead th {\n",
       "        text-align: right;\n",
       "    }\n",
       "</style>\n",
       "<table border=\"1\" class=\"dataframe\">\n",
       "  <thead>\n",
       "    <tr style=\"text-align: right;\">\n",
       "      <th></th>\n",
       "      <th>S</th>\n",
       "      <th>UserName</th>\n",
       "      <th>Rating</th>\n",
       "      <th>Subject</th>\n",
       "      <th>ReviewDate</th>\n",
       "      <th>Review</th>\n",
       "      <th>rating</th>\n",
       "      <th>subject_review</th>\n",
       "      <th>subject_review_lemme</th>\n",
       "    </tr>\n",
       "  </thead>\n",
       "  <tbody>\n",
       "    <tr>\n",
       "      <th>0</th>\n",
       "      <td>B0767KYP92</td>\n",
       "      <td>rachel staman</td>\n",
       "      <td>1.0 out of 5 stars</td>\n",
       "      <td>GAVE ME AN ARMPIT LUMP lol</td>\n",
       "      <td>Reviewed in the United States on May 2, 2018</td>\n",
       "      <td>I love the idea of natural deodorant and every...</td>\n",
       "      <td>1.0</td>\n",
       "      <td>GAVE ME AN ARMPIT LUMP lolI love the idea of n...</td>\n",
       "      <td>(GAVE, ME, AN, ARMPIT, LUMP, lolI, love, the, ...</td>\n",
       "    </tr>\n",
       "    <tr>\n",
       "      <th>1</th>\n",
       "      <td>B0767KYP92</td>\n",
       "      <td>Grammy</td>\n",
       "      <td>5.0 out of 5 stars</td>\n",
       "      <td>Best natural deodorant that I have tried.</td>\n",
       "      <td>Reviewed in the United States on February 20, ...</td>\n",
       "      <td>This is by far the best natural deodorant that...</td>\n",
       "      <td>5.0</td>\n",
       "      <td>Best natural deodorant that I have tried.This ...</td>\n",
       "      <td>(Best, natural, deodorant, that, I, have, trie...</td>\n",
       "    </tr>\n",
       "    <tr>\n",
       "      <th>2</th>\n",
       "      <td>B0767KYP92</td>\n",
       "      <td>Clarissa Wilson</td>\n",
       "      <td>1.0 out of 5 stars</td>\n",
       "      <td>I'm just disappointed I can't find a natural d...</td>\n",
       "      <td>Reviewed in the United States on July 16, 2018</td>\n",
       "      <td>I've tried quite a few of the natural deodoran...</td>\n",
       "      <td>1.0</td>\n",
       "      <td>I'm just disappointed I can't find a natural d...</td>\n",
       "      <td>(I, 'm, just, disappointed, I, ca, n't, find, ...</td>\n",
       "    </tr>\n",
       "    <tr>\n",
       "      <th>3</th>\n",
       "      <td>B0767KYP92</td>\n",
       "      <td>YTrevino</td>\n",
       "      <td>1.0 out of 5 stars</td>\n",
       "      <td>Bad batch!!!</td>\n",
       "      <td>Reviewed in the United States on April 22, 2018</td>\n",
       "      <td>I odered a bulk batch of Charcoal and Magnesiu...</td>\n",
       "      <td>1.0</td>\n",
       "      <td>Bad batch!!!I odered a bulk batch of Charcoal ...</td>\n",
       "      <td>(Bad, batch!!!I, odered, a, bulk, batch, of, C...</td>\n",
       "    </tr>\n",
       "    <tr>\n",
       "      <th>4</th>\n",
       "      <td>B0767KYP92</td>\n",
       "      <td>GenuineImitation</td>\n",
       "      <td>1.0 out of 5 stars</td>\n",
       "      <td>Great Deodorant but STAINS</td>\n",
       "      <td>Reviewed in the United States on May 14, 2018</td>\n",
       "      <td>bought this a couple of times.. really a good ...</td>\n",
       "      <td>1.0</td>\n",
       "      <td>Great Deodorant but STAINSbought this a couple...</td>\n",
       "      <td>(Great, Deodorant, but, STAINSbought, this, a,...</td>\n",
       "    </tr>\n",
       "    <tr>\n",
       "      <th>...</th>\n",
       "      <td>...</td>\n",
       "      <td>...</td>\n",
       "      <td>...</td>\n",
       "      <td>...</td>\n",
       "      <td>...</td>\n",
       "      <td>...</td>\n",
       "      <td>...</td>\n",
       "      <td>...</td>\n",
       "      <td>...</td>\n",
       "    </tr>\n",
       "    <tr>\n",
       "      <th>613</th>\n",
       "      <td>B0767KYP92</td>\n",
       "      <td>Lyndz</td>\n",
       "      <td>5.0 out of 5 stars</td>\n",
       "      <td>Works great</td>\n",
       "      <td>Reviewed in the United States on May 5, 2018</td>\n",
       "      <td>Works great for my husband. No sores or rashes...</td>\n",
       "      <td>5.0</td>\n",
       "      <td>Works greatWorks great for my husband. No sore...</td>\n",
       "      <td>(Works, greatWorks, great, for, my, husband, ....</td>\n",
       "    </tr>\n",
       "    <tr>\n",
       "      <th>614</th>\n",
       "      <td>B0767KYP92</td>\n",
       "      <td>GB Wizzard</td>\n",
       "      <td>1.0 out of 5 stars</td>\n",
       "      <td>BEWARE OF REACTIONS TO USAGE</td>\n",
       "      <td>Reviewed in the United States on March 17, 2019</td>\n",
       "      <td>Purchased at Costco when they promoted the pro...</td>\n",
       "      <td>1.0</td>\n",
       "      <td>BEWARE OF REACTIONS TO USAGEPurchased at Costc...</td>\n",
       "      <td>(BEWARE, OF, REACTIONS, TO, USAGEPurchased, at...</td>\n",
       "    </tr>\n",
       "    <tr>\n",
       "      <th>615</th>\n",
       "      <td>B0767KYP92</td>\n",
       "      <td>Grace</td>\n",
       "      <td>5.0 out of 5 stars</td>\n",
       "      <td>Great Smell, and Works</td>\n",
       "      <td>Reviewed in the United States on September 5, ...</td>\n",
       "      <td>I love the smell of this deodorant! It smells ...</td>\n",
       "      <td>5.0</td>\n",
       "      <td>Great Smell, and WorksI love the smell of this...</td>\n",
       "      <td>(Great, Smell, ,, and, WorksI, love, the, smel...</td>\n",
       "    </tr>\n",
       "    <tr>\n",
       "      <th>616</th>\n",
       "      <td>B0767KYP92</td>\n",
       "      <td>Tamra Kjormoe</td>\n",
       "      <td>4.0 out of 5 stars</td>\n",
       "      <td>IT works so I put up with treating stains</td>\n",
       "      <td>Reviewed in the United States on January 27, 2019</td>\n",
       "      <td>I love this.  It si the only thing that works ...</td>\n",
       "      <td>4.0</td>\n",
       "      <td>IT works so I put up with treating stainsI lov...</td>\n",
       "      <td>(IT, works, so, I, put, up, with, treating, st...</td>\n",
       "    </tr>\n",
       "    <tr>\n",
       "      <th>617</th>\n",
       "      <td>B0767KYP92</td>\n",
       "      <td>Renee Kollar</td>\n",
       "      <td>5.0 out of 5 stars</td>\n",
       "      <td>No Aluminum and Keeps you dry !</td>\n",
       "      <td>Reviewed in the United States on February 19, ...</td>\n",
       "      <td>No Aluminum no parabens and keeps me dry. Blow...</td>\n",
       "      <td>5.0</td>\n",
       "      <td>No Aluminum and Keeps you dry !No Aluminum no ...</td>\n",
       "      <td>(No, Aluminum, and, Keeps, you, dry, !, No, Al...</td>\n",
       "    </tr>\n",
       "  </tbody>\n",
       "</table>\n",
       "<p>618 rows × 9 columns</p>\n",
       "</div>"
      ],
      "text/plain": [
       "              S          UserName              Rating  \\\n",
       "0    B0767KYP92     rachel staman  1.0 out of 5 stars   \n",
       "1    B0767KYP92            Grammy  5.0 out of 5 stars   \n",
       "2    B0767KYP92   Clarissa Wilson  1.0 out of 5 stars   \n",
       "3    B0767KYP92          YTrevino  1.0 out of 5 stars   \n",
       "4    B0767KYP92  GenuineImitation  1.0 out of 5 stars   \n",
       "..          ...               ...                 ...   \n",
       "613  B0767KYP92             Lyndz  5.0 out of 5 stars   \n",
       "614  B0767KYP92        GB Wizzard  1.0 out of 5 stars   \n",
       "615  B0767KYP92             Grace  5.0 out of 5 stars   \n",
       "616  B0767KYP92     Tamra Kjormoe  4.0 out of 5 stars   \n",
       "617  B0767KYP92      Renee Kollar  5.0 out of 5 stars   \n",
       "\n",
       "                                               Subject  \\\n",
       "0                           GAVE ME AN ARMPIT LUMP lol   \n",
       "1            Best natural deodorant that I have tried.   \n",
       "2    I'm just disappointed I can't find a natural d...   \n",
       "3                                         Bad batch!!!   \n",
       "4                           Great Deodorant but STAINS   \n",
       "..                                                 ...   \n",
       "613                                        Works great   \n",
       "614                       BEWARE OF REACTIONS TO USAGE   \n",
       "615                             Great Smell, and Works   \n",
       "616          IT works so I put up with treating stains   \n",
       "617                    No Aluminum and Keeps you dry !   \n",
       "\n",
       "                                            ReviewDate  \\\n",
       "0         Reviewed in the United States on May 2, 2018   \n",
       "1    Reviewed in the United States on February 20, ...   \n",
       "2       Reviewed in the United States on July 16, 2018   \n",
       "3      Reviewed in the United States on April 22, 2018   \n",
       "4        Reviewed in the United States on May 14, 2018   \n",
       "..                                                 ...   \n",
       "613       Reviewed in the United States on May 5, 2018   \n",
       "614    Reviewed in the United States on March 17, 2019   \n",
       "615  Reviewed in the United States on September 5, ...   \n",
       "616  Reviewed in the United States on January 27, 2019   \n",
       "617  Reviewed in the United States on February 19, ...   \n",
       "\n",
       "                                                Review rating  \\\n",
       "0    I love the idea of natural deodorant and every...    1.0   \n",
       "1    This is by far the best natural deodorant that...    5.0   \n",
       "2    I've tried quite a few of the natural deodoran...    1.0   \n",
       "3    I odered a bulk batch of Charcoal and Magnesiu...    1.0   \n",
       "4    bought this a couple of times.. really a good ...    1.0   \n",
       "..                                                 ...    ...   \n",
       "613  Works great for my husband. No sores or rashes...    5.0   \n",
       "614  Purchased at Costco when they promoted the pro...    1.0   \n",
       "615  I love the smell of this deodorant! It smells ...    5.0   \n",
       "616  I love this.  It si the only thing that works ...    4.0   \n",
       "617  No Aluminum no parabens and keeps me dry. Blow...    5.0   \n",
       "\n",
       "                                        subject_review  \\\n",
       "0    GAVE ME AN ARMPIT LUMP lolI love the idea of n...   \n",
       "1    Best natural deodorant that I have tried.This ...   \n",
       "2    I'm just disappointed I can't find a natural d...   \n",
       "3    Bad batch!!!I odered a bulk batch of Charcoal ...   \n",
       "4    Great Deodorant but STAINSbought this a couple...   \n",
       "..                                                 ...   \n",
       "613  Works greatWorks great for my husband. No sore...   \n",
       "614  BEWARE OF REACTIONS TO USAGEPurchased at Costc...   \n",
       "615  Great Smell, and WorksI love the smell of this...   \n",
       "616  IT works so I put up with treating stainsI lov...   \n",
       "617  No Aluminum and Keeps you dry !No Aluminum no ...   \n",
       "\n",
       "                                  subject_review_lemme  \n",
       "0    (GAVE, ME, AN, ARMPIT, LUMP, lolI, love, the, ...  \n",
       "1    (Best, natural, deodorant, that, I, have, trie...  \n",
       "2    (I, 'm, just, disappointed, I, ca, n't, find, ...  \n",
       "3    (Bad, batch!!!I, odered, a, bulk, batch, of, C...  \n",
       "4    (Great, Deodorant, but, STAINSbought, this, a,...  \n",
       "..                                                 ...  \n",
       "613  (Works, greatWorks, great, for, my, husband, ....  \n",
       "614  (BEWARE, OF, REACTIONS, TO, USAGEPurchased, at...  \n",
       "615  (Great, Smell, ,, and, WorksI, love, the, smel...  \n",
       "616  (IT, works, so, I, put, up, with, treating, st...  \n",
       "617  (No, Aluminum, and, Keeps, you, dry, !, No, Al...  \n",
       "\n",
       "[618 rows x 9 columns]"
      ]
     },
     "execution_count": 22,
     "metadata": {},
     "output_type": "execute_result"
    }
   ],
   "source": [
    "data"
   ]
  },
  {
   "cell_type": "code",
   "execution_count": 23,
   "metadata": {},
   "outputs": [],
   "source": [
    "# data['subject_review_lemme_str'] = data['subject_review_lemme'].apply(nlp)"
   ]
  },
  {
   "cell_type": "code",
   "execution_count": 24,
   "metadata": {},
   "outputs": [],
   "source": [
    "textt = ''.join(review for review in data.subject_review)\n",
    "stopwords.update(['deodorant', 'product', \"I'm\", \"armpit\"])"
   ]
  },
  {
   "cell_type": "code",
   "execution_count": 25,
   "metadata": {
    "scrolled": true
   },
   "outputs": [],
   "source": [
    "wordcloud = WordCloud(stopwords=stopwords, background_color='white').generate(textt)"
   ]
  },
  {
   "cell_type": "code",
   "execution_count": 26,
   "metadata": {},
   "outputs": [
    {
     "data": {
      "image/png": "[encoded data removed]",
      "text/plain": [
       "<Figure size 432x288 with 1 Axes>"
      ]
     },
     "metadata": {
      "needs_background": "light"
     },
     "output_type": "display_data"
    }
   ],
   "source": [
    "plt.imshow(wordcloud, interpolation='bilinear')\n",
    "plt.axis(\"off\")\n",
    "plt.savefig('wordcloud11.png')"
   ]
  },
  {
   "cell_type": "code",
   "execution_count": 27,
   "metadata": {
    "scrolled": true
   },
   "outputs": [
    {
     "data": {
      "text/plain": [
       "<wordcloud.wordcloud.WordCloud at 0x7ff7478a4550>"
      ]
     },
     "execution_count": 27,
     "metadata": {},
     "output_type": "execute_result"
    }
   ],
   "source": [
    "wordcloud.to_file('word.png')"
   ]
  },
  {
   "cell_type": "code",
   "execution_count": 28,
   "metadata": {},
   "outputs": [],
   "source": [
    "df = data[data['rating'] !=3]"
   ]
  },
  {
   "cell_type": "code",
   "execution_count": 29,
   "metadata": {},
   "outputs": [
    {
     "data": {
      "text/html": [
       "<div>\n",
       "<style scoped>\n",
       "    .dataframe tbody tr th:only-of-type {\n",
       "        vertical-align: middle;\n",
       "    }\n",
       "\n",
       "    .dataframe tbody tr th {\n",
       "        vertical-align: top;\n",
       "    }\n",
       "\n",
       "    .dataframe thead th {\n",
       "        text-align: right;\n",
       "    }\n",
       "</style>\n",
       "<table border=\"1\" class=\"dataframe\">\n",
       "  <thead>\n",
       "    <tr style=\"text-align: right;\">\n",
       "      <th></th>\n",
       "      <th>S</th>\n",
       "      <th>UserName</th>\n",
       "      <th>Rating</th>\n",
       "      <th>Subject</th>\n",
       "      <th>ReviewDate</th>\n",
       "      <th>Review</th>\n",
       "      <th>rating</th>\n",
       "      <th>subject_review</th>\n",
       "      <th>subject_review_lemme</th>\n",
       "    </tr>\n",
       "  </thead>\n",
       "  <tbody>\n",
       "    <tr>\n",
       "      <th>0</th>\n",
       "      <td>B0767KYP92</td>\n",
       "      <td>rachel staman</td>\n",
       "      <td>1.0 out of 5 stars</td>\n",
       "      <td>GAVE ME AN ARMPIT LUMP lol</td>\n",
       "      <td>Reviewed in the United States on May 2, 2018</td>\n",
       "      <td>I love the idea of natural deodorant and every...</td>\n",
       "      <td>1.0</td>\n",
       "      <td>GAVE ME AN ARMPIT LUMP lolI love the idea of n...</td>\n",
       "      <td>(GAVE, ME, AN, ARMPIT, LUMP, lolI, love, the, ...</td>\n",
       "    </tr>\n",
       "    <tr>\n",
       "      <th>1</th>\n",
       "      <td>B0767KYP92</td>\n",
       "      <td>Grammy</td>\n",
       "      <td>5.0 out of 5 stars</td>\n",
       "      <td>Best natural deodorant that I have tried.</td>\n",
       "      <td>Reviewed in the United States on February 20, ...</td>\n",
       "      <td>This is by far the best natural deodorant that...</td>\n",
       "      <td>5.0</td>\n",
       "      <td>Best natural deodorant that I have tried.This ...</td>\n",
       "      <td>(Best, natural, deodorant, that, I, have, trie...</td>\n",
       "    </tr>\n",
       "    <tr>\n",
       "      <th>2</th>\n",
       "      <td>B0767KYP92</td>\n",
       "      <td>Clarissa Wilson</td>\n",
       "      <td>1.0 out of 5 stars</td>\n",
       "      <td>I'm just disappointed I can't find a natural d...</td>\n",
       "      <td>Reviewed in the United States on July 16, 2018</td>\n",
       "      <td>I've tried quite a few of the natural deodoran...</td>\n",
       "      <td>1.0</td>\n",
       "      <td>I'm just disappointed I can't find a natural d...</td>\n",
       "      <td>(I, 'm, just, disappointed, I, ca, n't, find, ...</td>\n",
       "    </tr>\n",
       "    <tr>\n",
       "      <th>3</th>\n",
       "      <td>B0767KYP92</td>\n",
       "      <td>YTrevino</td>\n",
       "      <td>1.0 out of 5 stars</td>\n",
       "      <td>Bad batch!!!</td>\n",
       "      <td>Reviewed in the United States on April 22, 2018</td>\n",
       "      <td>I odered a bulk batch of Charcoal and Magnesiu...</td>\n",
       "      <td>1.0</td>\n",
       "      <td>Bad batch!!!I odered a bulk batch of Charcoal ...</td>\n",
       "      <td>(Bad, batch!!!I, odered, a, bulk, batch, of, C...</td>\n",
       "    </tr>\n",
       "    <tr>\n",
       "      <th>4</th>\n",
       "      <td>B0767KYP92</td>\n",
       "      <td>GenuineImitation</td>\n",
       "      <td>1.0 out of 5 stars</td>\n",
       "      <td>Great Deodorant but STAINS</td>\n",
       "      <td>Reviewed in the United States on May 14, 2018</td>\n",
       "      <td>bought this a couple of times.. really a good ...</td>\n",
       "      <td>1.0</td>\n",
       "      <td>Great Deodorant but STAINSbought this a couple...</td>\n",
       "      <td>(Great, Deodorant, but, STAINSbought, this, a,...</td>\n",
       "    </tr>\n",
       "    <tr>\n",
       "      <th>...</th>\n",
       "      <td>...</td>\n",
       "      <td>...</td>\n",
       "      <td>...</td>\n",
       "      <td>...</td>\n",
       "      <td>...</td>\n",
       "      <td>...</td>\n",
       "      <td>...</td>\n",
       "      <td>...</td>\n",
       "      <td>...</td>\n",
       "    </tr>\n",
       "    <tr>\n",
       "      <th>613</th>\n",
       "      <td>B0767KYP92</td>\n",
       "      <td>Lyndz</td>\n",
       "      <td>5.0 out of 5 stars</td>\n",
       "      <td>Works great</td>\n",
       "      <td>Reviewed in the United States on May 5, 2018</td>\n",
       "      <td>Works great for my husband. No sores or rashes...</td>\n",
       "      <td>5.0</td>\n",
       "      <td>Works greatWorks great for my husband. No sore...</td>\n",
       "      <td>(Works, greatWorks, great, for, my, husband, ....</td>\n",
       "    </tr>\n",
       "    <tr>\n",
       "      <th>614</th>\n",
       "      <td>B0767KYP92</td>\n",
       "      <td>GB Wizzard</td>\n",
       "      <td>1.0 out of 5 stars</td>\n",
       "      <td>BEWARE OF REACTIONS TO USAGE</td>\n",
       "      <td>Reviewed in the United States on March 17, 2019</td>\n",
       "      <td>Purchased at Costco when they promoted the pro...</td>\n",
       "      <td>1.0</td>\n",
       "      <td>BEWARE OF REACTIONS TO USAGEPurchased at Costc...</td>\n",
       "      <td>(BEWARE, OF, REACTIONS, TO, USAGEPurchased, at...</td>\n",
       "    </tr>\n",
       "    <tr>\n",
       "      <th>615</th>\n",
       "      <td>B0767KYP92</td>\n",
       "      <td>Grace</td>\n",
       "      <td>5.0 out of 5 stars</td>\n",
       "      <td>Great Smell, and Works</td>\n",
       "      <td>Reviewed in the United States on September 5, ...</td>\n",
       "      <td>I love the smell of this deodorant! It smells ...</td>\n",
       "      <td>5.0</td>\n",
       "      <td>Great Smell, and WorksI love the smell of this...</td>\n",
       "      <td>(Great, Smell, ,, and, WorksI, love, the, smel...</td>\n",
       "    </tr>\n",
       "    <tr>\n",
       "      <th>616</th>\n",
       "      <td>B0767KYP92</td>\n",
       "      <td>Tamra Kjormoe</td>\n",
       "      <td>4.0 out of 5 stars</td>\n",
       "      <td>IT works so I put up with treating stains</td>\n",
       "      <td>Reviewed in the United States on January 27, 2019</td>\n",
       "      <td>I love this.  It si the only thing that works ...</td>\n",
       "      <td>4.0</td>\n",
       "      <td>IT works so I put up with treating stainsI lov...</td>\n",
       "      <td>(IT, works, so, I, put, up, with, treating, st...</td>\n",
       "    </tr>\n",
       "    <tr>\n",
       "      <th>617</th>\n",
       "      <td>B0767KYP92</td>\n",
       "      <td>Renee Kollar</td>\n",
       "      <td>5.0 out of 5 stars</td>\n",
       "      <td>No Aluminum and Keeps you dry !</td>\n",
       "      <td>Reviewed in the United States on February 19, ...</td>\n",
       "      <td>No Aluminum no parabens and keeps me dry. Blow...</td>\n",
       "      <td>5.0</td>\n",
       "      <td>No Aluminum and Keeps you dry !No Aluminum no ...</td>\n",
       "      <td>(No, Aluminum, and, Keeps, you, dry, !, No, Al...</td>\n",
       "    </tr>\n",
       "  </tbody>\n",
       "</table>\n",
       "<p>618 rows × 9 columns</p>\n",
       "</div>"
      ],
      "text/plain": [
       "              S          UserName              Rating  \\\n",
       "0    B0767KYP92     rachel staman  1.0 out of 5 stars   \n",
       "1    B0767KYP92            Grammy  5.0 out of 5 stars   \n",
       "2    B0767KYP92   Clarissa Wilson  1.0 out of 5 stars   \n",
       "3    B0767KYP92          YTrevino  1.0 out of 5 stars   \n",
       "4    B0767KYP92  GenuineImitation  1.0 out of 5 stars   \n",
       "..          ...               ...                 ...   \n",
       "613  B0767KYP92             Lyndz  5.0 out of 5 stars   \n",
       "614  B0767KYP92        GB Wizzard  1.0 out of 5 stars   \n",
       "615  B0767KYP92             Grace  5.0 out of 5 stars   \n",
       "616  B0767KYP92     Tamra Kjormoe  4.0 out of 5 stars   \n",
       "617  B0767KYP92      Renee Kollar  5.0 out of 5 stars   \n",
       "\n",
       "                                               Subject  \\\n",
       "0                           GAVE ME AN ARMPIT LUMP lol   \n",
       "1            Best natural deodorant that I have tried.   \n",
       "2    I'm just disappointed I can't find a natural d...   \n",
       "3                                         Bad batch!!!   \n",
       "4                           Great Deodorant but STAINS   \n",
       "..                                                 ...   \n",
       "613                                        Works great   \n",
       "614                       BEWARE OF REACTIONS TO USAGE   \n",
       "615                             Great Smell, and Works   \n",
       "616          IT works so I put up with treating stains   \n",
       "617                    No Aluminum and Keeps you dry !   \n",
       "\n",
       "                                            ReviewDate  \\\n",
       "0         Reviewed in the United States on May 2, 2018   \n",
       "1    Reviewed in the United States on February 20, ...   \n",
       "2       Reviewed in the United States on July 16, 2018   \n",
       "3      Reviewed in the United States on April 22, 2018   \n",
       "4        Reviewed in the United States on May 14, 2018   \n",
       "..                                                 ...   \n",
       "613       Reviewed in the United States on May 5, 2018   \n",
       "614    Reviewed in the United States on March 17, 2019   \n",
       "615  Reviewed in the United States on September 5, ...   \n",
       "616  Reviewed in the United States on January 27, 2019   \n",
       "617  Reviewed in the United States on February 19, ...   \n",
       "\n",
       "                                                Review rating  \\\n",
       "0    I love the idea of natural deodorant and every...    1.0   \n",
       "1    This is by far the best natural deodorant that...    5.0   \n",
       "2    I've tried quite a few of the natural deodoran...    1.0   \n",
       "3    I odered a bulk batch of Charcoal and Magnesiu...    1.0   \n",
       "4    bought this a couple of times.. really a good ...    1.0   \n",
       "..                                                 ...    ...   \n",
       "613  Works great for my husband. No sores or rashes...    5.0   \n",
       "614  Purchased at Costco when they promoted the pro...    1.0   \n",
       "615  I love the smell of this deodorant! It smells ...    5.0   \n",
       "616  I love this.  It si the only thing that works ...    4.0   \n",
       "617  No Aluminum no parabens and keeps me dry. Blow...    5.0   \n",
       "\n",
       "                                        subject_review  \\\n",
       "0    GAVE ME AN ARMPIT LUMP lolI love the idea of n...   \n",
       "1    Best natural deodorant that I have tried.This ...   \n",
       "2    I'm just disappointed I can't find a natural d...   \n",
       "3    Bad batch!!!I odered a bulk batch of Charcoal ...   \n",
       "4    Great Deodorant but STAINSbought this a couple...   \n",
       "..                                                 ...   \n",
       "613  Works greatWorks great for my husband. No sore...   \n",
       "614  BEWARE OF REACTIONS TO USAGEPurchased at Costc...   \n",
       "615  Great Smell, and WorksI love the smell of this...   \n",
       "616  IT works so I put up with treating stainsI lov...   \n",
       "617  No Aluminum and Keeps you dry !No Aluminum no ...   \n",
       "\n",
       "                                  subject_review_lemme  \n",
       "0    (GAVE, ME, AN, ARMPIT, LUMP, lolI, love, the, ...  \n",
       "1    (Best, natural, deodorant, that, I, have, trie...  \n",
       "2    (I, 'm, just, disappointed, I, ca, n't, find, ...  \n",
       "3    (Bad, batch!!!I, odered, a, bulk, batch, of, C...  \n",
       "4    (Great, Deodorant, but, STAINSbought, this, a,...  \n",
       "..                                                 ...  \n",
       "613  (Works, greatWorks, great, for, my, husband, ....  \n",
       "614  (BEWARE, OF, REACTIONS, TO, USAGEPurchased, at...  \n",
       "615  (Great, Smell, ,, and, WorksI, love, the, smel...  \n",
       "616  (IT, works, so, I, put, up, with, treating, st...  \n",
       "617  (No, Aluminum, and, Keeps, you, dry, !, No, Al...  \n",
       "\n",
       "[618 rows x 9 columns]"
      ]
     },
     "execution_count": 29,
     "metadata": {},
     "output_type": "execute_result"
    }
   ],
   "source": [
    "df\n"
   ]
  },
  {
   "cell_type": "code",
   "execution_count": 41,
   "metadata": {},
   "outputs": [],
   "source": [
    "df['rating'] = pd.to_numeric(df['rating'])"
   ]
  },
  {
   "cell_type": "code",
   "execution_count": 42,
   "metadata": {
    "scrolled": false
   },
   "outputs": [],
   "source": [
    "df['sentiment'] = df['rating'].apply(lambda rating: +1.0 if rating > 3.0 else -1.0)"
   ]
  },
  {
   "cell_type": "code",
   "execution_count": 43,
   "metadata": {
    "scrolled": true
   },
   "outputs": [
    {
     "data": {
      "text/html": [
       "<div>\n",
       "<style scoped>\n",
       "    .dataframe tbody tr th:only-of-type {\n",
       "        vertical-align: middle;\n",
       "    }\n",
       "\n",
       "    .dataframe tbody tr th {\n",
       "        vertical-align: top;\n",
       "    }\n",
       "\n",
       "    .dataframe thead th {\n",
       "        text-align: right;\n",
       "    }\n",
       "</style>\n",
       "<table border=\"1\" class=\"dataframe\">\n",
       "  <thead>\n",
       "    <tr style=\"text-align: right;\">\n",
       "      <th></th>\n",
       "      <th>S</th>\n",
       "      <th>UserName</th>\n",
       "      <th>Rating</th>\n",
       "      <th>Subject</th>\n",
       "      <th>ReviewDate</th>\n",
       "      <th>Review</th>\n",
       "      <th>rating</th>\n",
       "      <th>subject_review</th>\n",
       "      <th>subject_review_lemme</th>\n",
       "      <th>sentiment</th>\n",
       "    </tr>\n",
       "  </thead>\n",
       "  <tbody>\n",
       "    <tr>\n",
       "      <th>0</th>\n",
       "      <td>B0767KYP92</td>\n",
       "      <td>rachel staman</td>\n",
       "      <td>1.0 out of 5 stars</td>\n",
       "      <td>GAVE ME AN ARMPIT LUMP lol</td>\n",
       "      <td>Reviewed in the United States on May 2, 2018</td>\n",
       "      <td>I love the idea of natural deodorant and every...</td>\n",
       "      <td>1.0</td>\n",
       "      <td>GAVE ME AN ARMPIT LUMP lolI love the idea of n...</td>\n",
       "      <td>(GAVE, ME, AN, ARMPIT, LUMP, lolI, love, the, ...</td>\n",
       "      <td>-1.0</td>\n",
       "    </tr>\n",
       "    <tr>\n",
       "      <th>1</th>\n",
       "      <td>B0767KYP92</td>\n",
       "      <td>Grammy</td>\n",
       "      <td>5.0 out of 5 stars</td>\n",
       "      <td>Best natural deodorant that I have tried.</td>\n",
       "      <td>Reviewed in the United States on February 20, ...</td>\n",
       "      <td>This is by far the best natural deodorant that...</td>\n",
       "      <td>5.0</td>\n",
       "      <td>Best natural deodorant that I have tried.This ...</td>\n",
       "      <td>(Best, natural, deodorant, that, I, have, trie...</td>\n",
       "      <td>1.0</td>\n",
       "    </tr>\n",
       "    <tr>\n",
       "      <th>2</th>\n",
       "      <td>B0767KYP92</td>\n",
       "      <td>Clarissa Wilson</td>\n",
       "      <td>1.0 out of 5 stars</td>\n",
       "      <td>I'm just disappointed I can't find a natural d...</td>\n",
       "      <td>Reviewed in the United States on July 16, 2018</td>\n",
       "      <td>I've tried quite a few of the natural deodoran...</td>\n",
       "      <td>1.0</td>\n",
       "      <td>I'm just disappointed I can't find a natural d...</td>\n",
       "      <td>(I, 'm, just, disappointed, I, ca, n't, find, ...</td>\n",
       "      <td>-1.0</td>\n",
       "    </tr>\n",
       "    <tr>\n",
       "      <th>3</th>\n",
       "      <td>B0767KYP92</td>\n",
       "      <td>YTrevino</td>\n",
       "      <td>1.0 out of 5 stars</td>\n",
       "      <td>Bad batch!!!</td>\n",
       "      <td>Reviewed in the United States on April 22, 2018</td>\n",
       "      <td>I odered a bulk batch of Charcoal and Magnesiu...</td>\n",
       "      <td>1.0</td>\n",
       "      <td>Bad batch!!!I odered a bulk batch of Charcoal ...</td>\n",
       "      <td>(Bad, batch!!!I, odered, a, bulk, batch, of, C...</td>\n",
       "      <td>-1.0</td>\n",
       "    </tr>\n",
       "    <tr>\n",
       "      <th>4</th>\n",
       "      <td>B0767KYP92</td>\n",
       "      <td>GenuineImitation</td>\n",
       "      <td>1.0 out of 5 stars</td>\n",
       "      <td>Great Deodorant but STAINS</td>\n",
       "      <td>Reviewed in the United States on May 14, 2018</td>\n",
       "      <td>bought this a couple of times.. really a good ...</td>\n",
       "      <td>1.0</td>\n",
       "      <td>Great Deodorant but STAINSbought this a couple...</td>\n",
       "      <td>(Great, Deodorant, but, STAINSbought, this, a,...</td>\n",
       "      <td>-1.0</td>\n",
       "    </tr>\n",
       "    <tr>\n",
       "      <th>...</th>\n",
       "      <td>...</td>\n",
       "      <td>...</td>\n",
       "      <td>...</td>\n",
       "      <td>...</td>\n",
       "      <td>...</td>\n",
       "      <td>...</td>\n",
       "      <td>...</td>\n",
       "      <td>...</td>\n",
       "      <td>...</td>\n",
       "      <td>...</td>\n",
       "    </tr>\n",
       "    <tr>\n",
       "      <th>613</th>\n",
       "      <td>B0767KYP92</td>\n",
       "      <td>Lyndz</td>\n",
       "      <td>5.0 out of 5 stars</td>\n",
       "      <td>Works great</td>\n",
       "      <td>Reviewed in the United States on May 5, 2018</td>\n",
       "      <td>Works great for my husband. No sores or rashes...</td>\n",
       "      <td>5.0</td>\n",
       "      <td>Works greatWorks great for my husband. No sore...</td>\n",
       "      <td>(Works, greatWorks, great, for, my, husband, ....</td>\n",
       "      <td>1.0</td>\n",
       "    </tr>\n",
       "    <tr>\n",
       "      <th>614</th>\n",
       "      <td>B0767KYP92</td>\n",
       "      <td>GB Wizzard</td>\n",
       "      <td>1.0 out of 5 stars</td>\n",
       "      <td>BEWARE OF REACTIONS TO USAGE</td>\n",
       "      <td>Reviewed in the United States on March 17, 2019</td>\n",
       "      <td>Purchased at Costco when they promoted the pro...</td>\n",
       "      <td>1.0</td>\n",
       "      <td>BEWARE OF REACTIONS TO USAGEPurchased at Costc...</td>\n",
       "      <td>(BEWARE, OF, REACTIONS, TO, USAGEPurchased, at...</td>\n",
       "      <td>-1.0</td>\n",
       "    </tr>\n",
       "    <tr>\n",
       "      <th>615</th>\n",
       "      <td>B0767KYP92</td>\n",
       "      <td>Grace</td>\n",
       "      <td>5.0 out of 5 stars</td>\n",
       "      <td>Great Smell, and Works</td>\n",
       "      <td>Reviewed in the United States on September 5, ...</td>\n",
       "      <td>I love the smell of this deodorant! It smells ...</td>\n",
       "      <td>5.0</td>\n",
       "      <td>Great Smell, and WorksI love the smell of this...</td>\n",
       "      <td>(Great, Smell, ,, and, WorksI, love, the, smel...</td>\n",
       "      <td>1.0</td>\n",
       "    </tr>\n",
       "    <tr>\n",
       "      <th>616</th>\n",
       "      <td>B0767KYP92</td>\n",
       "      <td>Tamra Kjormoe</td>\n",
       "      <td>4.0 out of 5 stars</td>\n",
       "      <td>IT works so I put up with treating stains</td>\n",
       "      <td>Reviewed in the United States on January 27, 2019</td>\n",
       "      <td>I love this.  It si the only thing that works ...</td>\n",
       "      <td>4.0</td>\n",
       "      <td>IT works so I put up with treating stainsI lov...</td>\n",
       "      <td>(IT, works, so, I, put, up, with, treating, st...</td>\n",
       "      <td>1.0</td>\n",
       "    </tr>\n",
       "    <tr>\n",
       "      <th>617</th>\n",
       "      <td>B0767KYP92</td>\n",
       "      <td>Renee Kollar</td>\n",
       "      <td>5.0 out of 5 stars</td>\n",
       "      <td>No Aluminum and Keeps you dry !</td>\n",
       "      <td>Reviewed in the United States on February 19, ...</td>\n",
       "      <td>No Aluminum no parabens and keeps me dry. Blow...</td>\n",
       "      <td>5.0</td>\n",
       "      <td>No Aluminum and Keeps you dry !No Aluminum no ...</td>\n",
       "      <td>(No, Aluminum, and, Keeps, you, dry, !, No, Al...</td>\n",
       "      <td>1.0</td>\n",
       "    </tr>\n",
       "  </tbody>\n",
       "</table>\n",
       "<p>618 rows × 10 columns</p>\n",
       "</div>"
      ],
      "text/plain": [
       "              S          UserName              Rating  \\\n",
       "0    B0767KYP92     rachel staman  1.0 out of 5 stars   \n",
       "1    B0767KYP92            Grammy  5.0 out of 5 stars   \n",
       "2    B0767KYP92   Clarissa Wilson  1.0 out of 5 stars   \n",
       "3    B0767KYP92          YTrevino  1.0 out of 5 stars   \n",
       "4    B0767KYP92  GenuineImitation  1.0 out of 5 stars   \n",
       "..          ...               ...                 ...   \n",
       "613  B0767KYP92             Lyndz  5.0 out of 5 stars   \n",
       "614  B0767KYP92        GB Wizzard  1.0 out of 5 stars   \n",
       "615  B0767KYP92             Grace  5.0 out of 5 stars   \n",
       "616  B0767KYP92     Tamra Kjormoe  4.0 out of 5 stars   \n",
       "617  B0767KYP92      Renee Kollar  5.0 out of 5 stars   \n",
       "\n",
       "                                               Subject  \\\n",
       "0                           GAVE ME AN ARMPIT LUMP lol   \n",
       "1            Best natural deodorant that I have tried.   \n",
       "2    I'm just disappointed I can't find a natural d...   \n",
       "3                                         Bad batch!!!   \n",
       "4                           Great Deodorant but STAINS   \n",
       "..                                                 ...   \n",
       "613                                        Works great   \n",
       "614                       BEWARE OF REACTIONS TO USAGE   \n",
       "615                             Great Smell, and Works   \n",
       "616          IT works so I put up with treating stains   \n",
       "617                    No Aluminum and Keeps you dry !   \n",
       "\n",
       "                                            ReviewDate  \\\n",
       "0         Reviewed in the United States on May 2, 2018   \n",
       "1    Reviewed in the United States on February 20, ...   \n",
       "2       Reviewed in the United States on July 16, 2018   \n",
       "3      Reviewed in the United States on April 22, 2018   \n",
       "4        Reviewed in the United States on May 14, 2018   \n",
       "..                                                 ...   \n",
       "613       Reviewed in the United States on May 5, 2018   \n",
       "614    Reviewed in the United States on March 17, 2019   \n",
       "615  Reviewed in the United States on September 5, ...   \n",
       "616  Reviewed in the United States on January 27, 2019   \n",
       "617  Reviewed in the United States on February 19, ...   \n",
       "\n",
       "                                                Review  rating  \\\n",
       "0    I love the idea of natural deodorant and every...     1.0   \n",
       "1    This is by far the best natural deodorant that...     5.0   \n",
       "2    I've tried quite a few of the natural deodoran...     1.0   \n",
       "3    I odered a bulk batch of Charcoal and Magnesiu...     1.0   \n",
       "4    bought this a couple of times.. really a good ...     1.0   \n",
       "..                                                 ...     ...   \n",
       "613  Works great for my husband. No sores or rashes...     5.0   \n",
       "614  Purchased at Costco when they promoted the pro...     1.0   \n",
       "615  I love the smell of this deodorant! It smells ...     5.0   \n",
       "616  I love this.  It si the only thing that works ...     4.0   \n",
       "617  No Aluminum no parabens and keeps me dry. Blow...     5.0   \n",
       "\n",
       "                                        subject_review  \\\n",
       "0    GAVE ME AN ARMPIT LUMP lolI love the idea of n...   \n",
       "1    Best natural deodorant that I have tried.This ...   \n",
       "2    I'm just disappointed I can't find a natural d...   \n",
       "3    Bad batch!!!I odered a bulk batch of Charcoal ...   \n",
       "4    Great Deodorant but STAINSbought this a couple...   \n",
       "..                                                 ...   \n",
       "613  Works greatWorks great for my husband. No sore...   \n",
       "614  BEWARE OF REACTIONS TO USAGEPurchased at Costc...   \n",
       "615  Great Smell, and WorksI love the smell of this...   \n",
       "616  IT works so I put up with treating stainsI lov...   \n",
       "617  No Aluminum and Keeps you dry !No Aluminum no ...   \n",
       "\n",
       "                                  subject_review_lemme  sentiment  \n",
       "0    (GAVE, ME, AN, ARMPIT, LUMP, lolI, love, the, ...       -1.0  \n",
       "1    (Best, natural, deodorant, that, I, have, trie...        1.0  \n",
       "2    (I, 'm, just, disappointed, I, ca, n't, find, ...       -1.0  \n",
       "3    (Bad, batch!!!I, odered, a, bulk, batch, of, C...       -1.0  \n",
       "4    (Great, Deodorant, but, STAINSbought, this, a,...       -1.0  \n",
       "..                                                 ...        ...  \n",
       "613  (Works, greatWorks, great, for, my, husband, ....        1.0  \n",
       "614  (BEWARE, OF, REACTIONS, TO, USAGEPurchased, at...       -1.0  \n",
       "615  (Great, Smell, ,, and, WorksI, love, the, smel...        1.0  \n",
       "616  (IT, works, so, I, put, up, with, treating, st...        1.0  \n",
       "617  (No, Aluminum, and, Keeps, you, dry, !, No, Al...        1.0  \n",
       "\n",
       "[618 rows x 10 columns]"
      ]
     },
     "execution_count": 43,
     "metadata": {},
     "output_type": "execute_result"
    }
   ],
   "source": [
    "df"
   ]
  },
  {
   "cell_type": "code",
   "execution_count": 44,
   "metadata": {},
   "outputs": [],
   "source": [
    "positive = df[df['sentiment'] == 1]"
   ]
  },
  {
   "cell_type": "code",
   "execution_count": 45,
   "metadata": {},
   "outputs": [],
   "source": [
    "negative = df[df['sentiment'] == -1]"
   ]
  },
  {
   "cell_type": "code",
   "execution_count": 53,
   "metadata": {},
   "outputs": [],
   "source": [
    "pos = ' '.join(review for review in positive.subject_review)"
   ]
  },
  {
   "cell_type": "code",
   "execution_count": 55,
   "metadata": {
    "collapsed": true
   },
   "outputs": [
    {
     "data": {
      "text/plain": [
       "'Best natural deodorant that I have tried.This is by far the best natural deodorant that I have tried.  I realize that different people will have different circumstances, different organic structures, but for me, this deodorant has worked great. To address some of the issues that I have seen other people make:  yes, it will stain light colored clothes because it has charcoal in it.  However, it works so well to eliminate odor and wetness, that I have just taken to wearing darker colored shirts.  On those light color ones that do get stains, I just pretreat with a stain remover, wash, and stain is gone.  Another negative that I have seen in the reviews is that some of the dispensers don\\'t work.  What I have found (and I have had a few that didn\\'t initially work) is that if you will gently warm the dispenser it softens up the product and the dispenser will then go up and down just like it should.  As to the texture of the deodorant.....yes it is a bit grainy, but not uncomfortably so.  I have used some other natural coconut and lime deodorants that left me feeling extremely sticky (yuck!) so given a choice between this one\\'s grainy feel or left feeling sticky all day,  I\\'ll definitely take grainy!  Yes, this product is more expensive than a container of \"Degree\" deodorant bought from Wal-Mart, but have you seriously looked at all of the ingredients in any of those deodorants?  It is worth the extra money to me to know that I am putting all natural ingredients on my skin and with a product that works just as well as the commercial, chemical laden ones! Less is More -- Still WorksWith this deodorant, less is better. With antiperspirant and a previous natural deodorant, I would apply at least 5+ swipes per armpit, and I\\'d still end up stinking by the end of the day. Now, I apply only 2 swipes (I used to apply 3 swipes at first) per armpit with Schmidts. Guess what? I don\\'t stink at the end of the day. I am also a runner and a pretty heavy sweater (I can sweat in the middle of winter while outside) and after a workout, my armpits don\\'t smell like I\\'ve been rolling around in a dumpster -- still with only two swipes. I also forget to pack deodorant recently while traveling for three days, and Schmidts made it all the way to the third day before starting to lose the battle. Sure, it isn\\'t the best feeling applying the deodorant, but if you press it against your armpit for 5 seconds (as recommended), it really helps. If your armpits are being destroyed or your shirts are getting stained, you may need to cut back on how much you apply. You don\\'t have to smell like a hippy and have a natural deodorant that works!!I love this stuff. I quit antiperspirant and tried to find natural deodorants that don\\'t smell like a hippy.. I love that this smells nice not like I just got done with a drum circle burning sage and rolling around in Petchouli..  WOn\\'t use anything else now. Each stick lasts a long time too at least 6 or more weeks! It works very well if your skin can handle it.Unfortunately for me, it caused me to develop irritation.  I know others are angry about that, but why?  Okay so i will not be able to use it going forward and of course I knocked off a star for that. I did use it for a week however and man this stuff really works. The scent is clean, not artifical to me and lasted an entire day of work in a wool suit all day in 80 plus degree weather, then I went to the gym and sweated my butt off, then I came home and  played with my kids until putting them to sleep, etc... I still smelled great. No funk.  Im a large fella too, and sweaty...well you get the idea.Moral of this review is if you can use this stuff without having a reaction, do not hesitate.  You will never be smelly again. It Works!This deodorant actually works for me unlike other magnesium ones, and my skin seems to like it too.  I got a rash from another brand. It has a nice smell that even a man could use and goes on very smoothly. You don\\'t need to use a lot either. I highly recommend it. Onion Smell Went Away!!So, this is the ONLY deodorant I use since giving up aluminum deodorant. I have always been a sweaty girl, I used to keep a small drug store in my bedroom, different brands, scents and even men\\'s deodorant (unscented). Yes I still sweat (as you will with natural deodorant, it\\'s not an antiperspirant), but the best part is I can smell under my pits without smelling like onions.My diet is clean, I don\\'t eat processed foods, nor pork, lean beef and turkey whenever the mood strikes, at one point I ate all veggies, fruits and salads with noooo change in the onion smell, oh and I drink water like a horse. This is the only deodorant that keeps the onion smell away.I can say DO NOT wear this with a favorite silk shirt, as this product contains shea butter and coconut oil which once warmed by your body will be an oily magnet to those delicate shirts and probably ruin them.For those with the rash under your pits, I had this when I first started courting natural deodorants, two things that saved me, I cleansed my pits by using an ACV and bentonite clay mask a couple times per week for a couple of weeks, to cleanse the bad deodorant and allow the good bacteria to build back up. Second, after I shave, I allow my pits to dry before applying this or any other natural deodorant as it will all sting like tiny armpit bees. After the ACV clay mask, I can use ANY natural deodorant, ones with shea butter, magnesium, arrow root, baking soda, etc., with no issues. Hope that helps, as this stuff is my go to, and yes, I made my fiance smell under my pits because I didn\\'t smell like onions!! Excellent product. Neutral scent, and not very noticeable as a deoderant should be.I find that Schmidts works better than normal antiperspirant even though it is only marketed as deoderant.I put it on after I shower when my armpits are still moist, using only a small amount and I find that it spreads itself out and does what it is supposed to do and more!I was shocked to see pictures of rashes and stories of cysts; even though I am not a medical doctor I firmly believe it may be possible that it is more of a \"purge-like\" reaction if synthetic /aluminum compounds are leaving the skin. Especially if you were like me and NO AMOUNT of antiperspirant would work well enough to keep me from sweating through a tee shirt (without even working out) I gave up using regular deoderant at all years ago except on certain occasions and I had only expected the scent blocking to be useful and not the sweat blocking... It seems as though the aluminum particles clog your pores and make you sweat even MORE with regular use hence having to use more and more. Luckily I haven\\'t experienced any negative effects from using this, but like I mentioned before I haven\\'t used any stick deoderant daily for years... But I\\'m already using this daily.I\\'m legitimately surprised at how well this product works for me and although it is a little more expensive, I estimate I will use less of it per application compared to a regular stick so maybe it would be about the same - would buy again regardless due to the effectiveness.Hoping to see it on store shelves too because I had to wait for it to thaw out after it arrived and sat outside! Fantastic product, but buy from Schmidt\\'s directlySeriously, my husband calls me \"stinky girl\". When I was a little kid, my mom had me using Mitchum! Nope, no good. Schmidt\\'s is a godsend. I have NEVER had a deodorant work as well as this one. I mean, this stuff really does the job.My one great disappointment is I recently found that Schmidt\\'s sold out to Unilever. For a company that was touted as natural and didn\\'t test on animals to align themselves with a company that doesn\\'t value transparency is a sad situation. I can only hope... But, I deducted a star for that reason.Edit 6/28/18: BUY DIRECTLY FROM SCHMIDT\\'S. the product bought through Amazon is defective. It isn\\'t any semblance of smooth! The deoderant is gritty and falls off in little chunky upon application and afterwards. I never had this problem with the one I bought directly from the company. Buyer beware.Thank you for your review. Will Eventually Soil Your ClothingI really like this deodorant but it does stain your clothes after awhile. This would otherwise be the perfect deodorant and the only natural deodorant I\\'ve found to actually work. After a couple months or if you use a lot of product, you will see it does permanently soil the underarms of your clothing. I\\'m guessing this happens because of the ingredients used combined with sweat. I don\\'t even use a lot, I only use one swipe under my arms. Best working deodorant out there!Best deodorant yet! None of the expensive Big Name \"clinical strength\" deodorants worked, so this great smelling/working deodorant from Schmidt\\'sis a Godsend! The other \"scents\" work -- and smell! -- FABULOUS, too! Love this stuff! This stuff works...As a post Lymphoma CA patient (never thought it would happen to me) I now take what I put in and put on my body very seriously. This product is the only one to date that I have found that works for me, and my oncologist ,to keep the \"old man smell\" at bay.The only hint I have for new users is to place the stick under the armpit will brushing the your teeth, this will help warm the product to promote a smooth application of the deodorant .. this is a deodorant not an antiperspirant ... please keep that in mind. Enjoy life everyday as if it is your last. I smell good!!Literally the best natural deodorant I\\'ve ever used. I\\'ve been using \"natural deodorant\" for about 20 years now and this is the 1st one I\\'ve found that keeps me smelling good all day long. I\\'m on my 3rd pack and I\\'m still finding that it\\'s working well. In fact, I just returned from a vacation in DC where I sweated A LOT and not one time did I smell of B.O.! I don\\'t know how they do it, but it\\'s amazing, pricy, but amazing!! Works better than all other deodorants I’ve usedI decided to try this out because my brother-in-law was raving about how it made his BO go away and started sweating less from his armpits. I’ve tried so many different kinds of deodorant and the worst is to reapply multiple times a day and still have BO or have your shirts get stained from having to use so much. I really would have never tried this brand because of the price and the fact that it’s all natural made me doubt it would really work any better than the “good stuff” (I like Old Spice) I get at the store. All it took was one day to make me a believer though. It kept the BO off me all day long (no scent at all when I got home, wife-verified!) and actually bleached out a little of the aluminum stains in my white undershirt (bonus). The texture is sandy and it is pretty expensive compared to my Old Spice but it doesn’t seem to take much to do the job so it’s worth the premium for a product that actually works for me. I wish I would’ve known about this product years ago. Best aluminum-free deodorant on the marketI am HUGELY skeptical of natural deodorants without aluminum. I\\'ve tried dozens over the years, even the ridiculous crystal, which is like protecting yourself from odors with sea glass. My sister told me Schmidt\\'s works, and since it was her wedding, I listened to her by buying her deodorant with aluminum the day of her wedding.Alas, she was right! This stuff works. It doesn\\'t so much prevent odor as cover it up. If you exercise, and you sweat, you will eventually smell until you put more on. But it is effective to a point.It smells great. I especially love the charcoal & bergamot.And what I love is that I am potentially saving myself from Alzheimer\\'s later in life by avoiding aluminum (aluminium, my husband would insist it is called). UPDATE: DO NOT PURCHASE.I am not sure why people say their product arrives in a awful particular way, but mines thankfully came like a complete NEW store-bought!The smell also is actually pleasant. Like oceanic!From the looks of it as shown in Images, it doesn’t look rough, very smooth, almost like other regular deodorants. I’m not very fragile with my skin, so I’m sure I will not have side effects. Don’t let others experiences here keep you from buying! As long as your skin isn’t fragile or have any known allergies, I’m sure this will be fine! Will update further.I most certainly recommend! 100%**UPDATE** Week after USE**My armpits are getting a bit dark of color, and also tend to give a weird itch sometimes. The odor is great, not gonna lie, I don’t stick heavily with heavy routine. And also the sweating has stopped so it works; just the charcoal in it might be causing my under arms to look darker. I’m very white complected, so just a heads up?FURTHER UPDATE: This product is not worth the price. I am beginning to understand Amazon isn\\'t a great place to purchase products for skin care or like this one. They have a weird reaction to my skin (I am sensitive, but compared to products bought In-Store, these are like \\'False\\') and later develop into acne or dark spots(Depends, this product here made my pits  itchy and hard like scabs with a dark tone.) Please avoid! BUY IN YOUR LOCAL STORE INSTEAD. Me no stink!Concerned about aluminum I have been searching for something like this for years.  Unfortunately, while they might help me to no sweat they didn\\'t help with the odor, which was a big deal for me (well I know no one wants to stink I just mean I have strong odor).  These works very well though I do have to put a fair bit on.  One thing I learned in these trials - you need to wear it for a few days (for example while I was trying it out I would only wear it on the weekend so I didn\\'t risk my co-workers, and would use my regular stuff during the week.  But it never seemed to work - even the regular stuff I used.  Once the pandemic hit and I went 3-4-5 days it was clearly working). the bestI am very picky about deodorant, at one time importing a high priced product from Singapore as it worked really well and smelled great. Previous to this, I have been using AESOP deodorant which works well for me but is also quite expensive. I saw this at a store recently and decided to try it - I can say without a doubt that this is the best deodorant I have ever used. It works, smells great and the fragrance is not too overbearing.  best of all it\\'s CHEAP! Bought more from amazon and now I always have a few on hand - fantastic product! Sadly, not for sensitive skin*Edited to include long term experience. Used this product for only a few months because it very quickly my the skin in my underarms look and feel burned and chapped. Skin was red, flaky and sore, and my underarm hair stopped growing where the irritation appeared.So far, so good! Doesn\\'t 100% stop sweat on a very hot day, but definitely kept any bad smells away! It does have a bit of a grainy texture while going on, but once it\\'s on, you don\\'t feel it at all. No stains on any clothing so far. I\\'m hoping it doesn\\'t dry out my skin too much or cause breakout on my sensitive skin. Too early to tell. Amazing!WARNING, if you are not good at following directions this deodorant is NOT for you. This used to come in a jar I believe back when you could only buy it off their website, now that it is mass produced it comes in a stick form. I do NOT recommend anyone using it that way because it will irritate your armpits because if you don\\'t follow the directions and let your armpit warm it up beforehand, it will hurt as you apply it (it is VERY hard). What I do is I bought a deodorant applicator which looks kinda like a small weird spoon, I scrap some off the stick it comes in and then apply it to my armpit. It causes me no irritation (I have sensitive skin). Warning at first you will sweat more than usual only because the regular deodorant you prob. used to wear was full of chemicals that prevented your armpits from sweating at all. After a couple weeks you will go to your \"normal\" sweat level. Again if you can not follow direction or are inpatient do NOT buy this deodorant, for everyone else, it is the BEST! Best Natural Deodorant I\\'ve triedI\\'ve searched for 2 years for a natural deodorant that would keep me dry and fresh. I\\'ve tried several and after about a week always had the same result, painful rash and bumps on my sensitive underarm area. I found Schmidt\\'s in a store locally (lime and bergamot) tried it and loved it, I\\'m pretty active and it lasts me through 2 hours of heavy skating and sweating. When it ran out I had a hard time finding it in stores so I purchased these ( Charcoal & Magnesium) Other reviews complain about it being grainy going on, which I experience as well, but within 30 min it\\'s smoothed out and soaked in. I\\'ve not had any issue with it staining clothing and I\\'m dry and fresh all day. I will continue to purchase these. Life ChangingI sweat A LOT compared to most people, and oh the smell some days was gross. I’ve tried prescription deodorants, everything on the shelves from crystal rocks to stuff strong enough for cave men. This is by far the best! It’s a little weird feeling the grit as you put it on, but you can’t feel it throughout the day or anything.I still sweat, but theres less of it, and even better there’s zero smell. The Stink is GoneNo other \"store bought\" products were working to control odor.  I was so embarrassed because no matter how often I showered within hours I would be stinky again, even after using other products.  After one day of use this product changed everything.  It works really well to control body odor.  It is grainy. and the application isn\\'t as smooth as most products.  I don\\'t mind the \"fragrance\" or smell of the product-it can work for either women or men, but I think its a little more towards a masculine scent.  I am so very grateful to have taken a chance on this product-I\\'m never going to back to the more known drugstore brands. Sensitive Skin Folks, thread carefullyAs someone who has eczema and is highly reactive to scents/fragance, this particular one didn\\'t trigger me much. But for my wife it definitely did. It seems like the baking soda in it might be too harsh. It does build up quite a bit too, so use sparingly and scrub your pits! It lasts all day for me. I\\'ve only had to reapply once during strenuous work.I wish the formula didn\\'t pill, they used to be delivered without bubbles? Lumps? Inside it. Now every time i open one there\\'s always bumps. Not sure what changed. But overall it is still a decent deodorant and causes less issues for me personally than like an old spice. Really loving this deodorantI switched from Primal Pit Paste, which had been effective for years and then all of the sudden stopped working.  I\\'m really happy with this purchase.  Although it becomes a little gritty when applying, it is very effective.  It keeps me body odor free for 24 hours and I don\\'t stink when working out with it either. Works amazingThe only natural deodorant I’ve used that actually works really well, the scent is good, the value is good, & the ingredients are good. The only thing to be aware of is applying it because it’s thick & need a moment of contact with the skin to get warm enough to apply smoothly; it’s a little gritty, but I got used to that quickly & will gladly take that in exchange for a natural deodorant that works Finally found a good natural deodorant!The best natural deodorant for me! I have tried several natural deodorants over the past several years. None of them have worked well for me and I always end up going back to my aluminum filled clinical strength deodorant. I have tried kopari, la vanilla, primal pit paste and tom’s. I was left either sweaty or smelly, or hating the smell of my sweat mixed with the scent of the deodorant. I love the scent of this deodorant! It’s fresh and would work well for women or men. I like the charcoal in deodorant and find that’s it absorbs odor and moisture. The texture is nice and doesn’t hurt to apply. You only need a few swipes, as opposed to the 5-6 i used with my old deodorant. It keeps me dry and odorless at summer concerts, work, at the gym. I would highly recommend it, but I do think everyone has to find the natural deodorant that works best for them and their body’s pH. Best deodorant I have ever used!I’ve been using this product for over a month now and absolutely love it.  I like the charcoal + magnesium better than the jasmine because it doesn’t stain my clothes.  It works better than any regular deodorant that I’ve use, too.  I can even skip a day and I’ve NEVER been able to do that with any other natural OR regular deodorant!  I’m amazed. Smells great, works better, lasts all dayThis deodorant is AMAZING. I\\'ve spent the past 3 years searching for a natural deodorant that works! This product has no ingredients that would scare me or give me cancer. It smells super fresh! And it ACTUALLY LASTS ALL DAY. I haven\\'t found a single natural deodorant that\\'s been able to last all day long without smelling my own stinky-ness a little bit but this one finally did it! So long as they don\\'t change their ingredients, I\\'m going to keep buying this! Love this item!I love this item, I have seen other reviewers complain about a rash or whatnot, but if you follow the instructions properly, you should not have a problem (unless you are allergic to  one or more of the ingredients). This keeps me odor-free all day long, which is something very rare as not every deodorant manages to do this. It is definitely on the pricier side, but completely worth it. Smells great and actually worksFirst of all, this deodorant smells amazing, and not like a bunch of chemicals. I have tried many of the natural deodorants and some definitely work better than others, and this one comes out on top for me. It lasts even if you sweat and it\\'s not overly expensive like other nice natural deodorants. We recently also purchased the lavender version in a store and we love that one as well. Love the new enhanced formula!They changed the face of the product as well as the formula a bit and it’s a lot better! Especially their formula because it’s a lot softer and easier to glide! I’m so happy yal changed this because  that was my main dislike. Otherwise it’s the only deodorant that stays on me all day, and trust me, I’ve tried SEVERAL all natural deodorants 100% odor & wetness protectionThis is the best natural deodorant I\\'ve found for 100% odor & wetness protection. 1 application can last me up to 2 full days! The scent is not overbearing. The only con is that the stick doesn\\'t glide easily over the skin when it\\'s cold but it doesn\\'t bother me. Hold it to your body for a few seconds to warm it up and it helps a lot. Works great without nasty chemicalsWasn’t sure about the fragrance when I first purchased this because I am super sensitive to chemicals. However, I gave it a try anyway. This has become my favorite deodorant. I can wear it everyday without breaking out and it actually works. I often work outside and get pretty hot. This deodorant stands up to the job even though it isn’t full of nasty bad for you chemicals. It works!Ok now I know why the stores around me were all sold out! This is the only ‘natural’ deodorant I’ve found that I can use and it works!Regular deodorants cause me to breakout (probably the aluminum) so i’ve been on the hunt....No more.  This is the only one I’ve found,  and I’ve tried a lot, that keeps me odor free..works for my best friend too. Just because I’m old doesn’t mean I wanna stink! Thank you Schmidt’s! My New Forever Deodorant (please never stop making this)Best deodorant pits down.... \"natural\" or industrial manufacturing byproduct based. Goes on smoothly and keeps my underarms odor free for.... 36 hours (might\\'ve been longer but I showered). Has a subtle scent; hard to describe (earthy citrusy maybe). The BEST natural deodorant.I have tried dozens of natural deodorants and this is the best one yet. Most did not work for me at all or I had to reapply every hour! It has a very pleasant, gender neutral scent, my husband uses it also and loves it! Excellent productFinally a product to take care of odor without skin irritation. Hormonal changes have caused strong armpit odor. Piper Wie was the only product I could use until discovering this product. This will now be my go to deodorant! 30+ years on same brand and this is the only deodorant he would switch toMy husband is a die hard ARRID xtra dry guy.  30+ years it\\'s the only brand he would use.  Then he tried this after getting it as freebie promotion.  Now, he wants only this brand.  Says it works better than everything else. Best deodorant I\\'ve ever usedSome people get skin irritation from deodorants like this but I use it every day and have no problems. The scent goes away quickly but it keeps deodorizing all day. I sweat a lot at work and don\\'t have to reapply, it even works after 24 hours. Best natural deodorant I triedThis is actually the only non-toxic and natural deodorant I have tried that will last! So many natural deodorants wear off in a few hours. I workout a lot and I am an active person so deodorants don’t last very long. This doesn’t irritate the skin in my armpits like other deodorants as well. Will leave a little residue under arms if you let the deodorant stick get to warm, so before putting on a shirt let it dry a minute or two. LOVE SCHMIDTS!The normal formulas with baking soda (including this one) do break out my armpits and cause deep cysts sometimes. If I wash my armpits good before bed every night, it helps. I usually buy the sensitive skin formula, but I LOVE the scent of this one! Worth it. Works great without the chemicalsThis stuff works. Much better than Native brand and without the chemicals found in traditional deodorants. Dont even have to use this everyday. I love the scent (very simple and not overwhelming)I have tried many natural deodorants and this is the only one that works for me. I love the scent (very simple and not overwhelming). The only thing about natural deodorant is that there is not perspirant, so you may sweat a little more. After a week or so my body adjusted. AmazingNot only does this product,  NOT have aluminum!!  Huge Benefit of its own! It smells great AND works great!  Helps to deodorize when it\\'s for antiperspirant!  My husbands deodorant stopped working for him and grabbed mine,  yuck,  haha!  He\\'s hooked!!!  Only con~ just apply a decent amt or it tends to \"grease stain\"in armpit area of Hubbys shirt.  He just backed off realizing ~ he was just using too much is all.  5 stars! I\\'ve been searching for a deoderant stick that doesn\\'t break ...I\\'ve been searching for a deoderant stick that doesn\\'t break me out and actually works for all my rather long life. This is the one, at long last. No negatives. I\\'d give it more stars if I could. Of course we\\'re all different so YMMV. Good product. Pleasant unisex smellLove this product. Only downside is, be aware, it contains charcoal. Not the most comfortable to apply initially, but once it\\'s on, there isn\\'t any additional discomfort. It\\'s not an antiperspirant, don\\'t expect it to stop sweat. It stops oder. Sweating will cause stains, you will need to pretreat your clothing here, and there. Returning once again. Great product.This is our favorite of the Schmidt scents. My other favorite lime and bergamot now gives me a rash under my arms. This charcoal one applies way easier under the arms (both female and male), isn’t overwhelmingly fragrant, seems to last longer, and feels great. We’ve bought it multiple times now :) it works goodYou don\\'t need the same amount as the regular stuff.  More importantly, it doesn\\'t leave any residue and you are able to wash it all off with scrubbing like its your car. Good natural deodorantBIg name brand deo\\'s do go on smoother and easier with no fuss compared to this natural vegan one, so that really is the main drawback. Otherwise, this is a wonderful natural deo with a pleasant fragrance that is not over powering.  I really recommend it if you are looking for a good natural, chemical free deo. Less underarm wetness.Switched to this after using the biggest brand (at least in my dealings with roommates and friends) to this and love it. There were a few rough days where I made sure I layered well, but that was just for the first week or so as my body adjusted.Now I have problems with my “shins sweating” but that is a whole different google search.Recommend Fast Shipping!I have been using this product for several years.  This is the first time I have Ordered it from Amazon, though.  Received it the next day.  I will order it again. Smells great, lasts forever.Smells great, works greater.  If you’re worried about smelling not so fresh, this stuff works wonders.  Use sparingly.  Not much in needed.  If using too much, it was giving me a slight armpit rash.  Once I drew back to a light swipe, worked like a charm. 2nd stick of deodorant has lumps in itReally like how the product works. Goes on smoothly. Noticed in the 2nd stick there are lumps in the product. Doesn\\'t appear to affect the product but wondering what is going on with it. See photos. Best Deo aroundI have tried a lot of deodorants that have been great for a month or two and then my body just learns how to circumvent the natural odor stopping ingredients. This one is the best natural one I have found. The price may appear steep but each container has lasted me two months and the scent is pleasant without being overwhelming. Love itThe only downside to this deodorant is that it stains the insides of my shirts and if it’s a light colored shirt you can see it a little. Otherwise I’m happy! Ive tried several deodorants that are all natural but they either don’t work well or give me an allergic reaction. This one does the job! It works!This deodorant works great, it’s a natural way to keep odor at bay.It’s not an antiperspirant but when u allow your body to work like it should and not use antiperspirant you actually sweat less. WorksI did not have to re-apply all day. I tried making my own natural deodorant and this reminds me of it, with a more pleasant subtle scent. It washes off easily which is what I like. I love this deodorantThis deodorant doesn\\'t have any of the harmful ingredients most deodorant have. It smells great and works way better than anything I\\'ve ever used. I like the charcoal magnesium the best so far. Works very good but messy.Soft.  So it comes off on the outside of the container and wastes product.  This is wonderful deodorant though.  Will buy again. Works but is scratchyDeodorant does a good job! Smell is clean and light-fairly gender neutral. My only issue is that it is hard and scratchy. It definitely doesn’t glide; however, it works and is better for me so I will use it! Best Natural DeoBest natural deodorant—be sure to hold to your skin for a few seconds to warm up the product before swiping.  Otherwise the baking soda makes it abrasive and you can scratch yourself which will be very uncomfortable and cause a rash.  When used properly this Is the only deodorant that eliminates odor and doesn’t stain my clothes. Best yetThis is by far one of my favorites. The smell is great and it lasts all day long. It is the best natural deodorant that I have tried! This stuff works.Best deodorant I\\'ve ever used.  Doesn\\'t prevent sweat, but I can go all day without the stink... in fact, I smell freshly showered.  It\\'s weird, because it goes on gritty (charcoal) but once it\\'s on it just works.  Does leave white marks on black clothes if you\\'re not careful. This two works!This is the only deo. my husband can use that doesn\\'t cause his underarms to itch...as well as highly effective.  Went back to Costco to buy more.  They said we had to order it online so we did.  Willing to go the extra mile for something that works.  Wish it were available at Costco stores! No more stink!I have struggled with underarm odor for years and have been unable to find a product that works, until now. Best product ever! MessyMy biggest problem with this deodorant is that it’s messy. It works better than most other deodorants for me, but it’s also gritty and gets all over the outside of the tube and squished out when you put the lid on. I feel like I waste quite a bit of it this way, and this stuff is expensive. Great productLove that these really work for me! Tried a dozen plus over priced natural deodorants and this one does the trick! Love it!This is the only deodorant I use! I love this scent and I love that it’s a natural deodorant. You will not be disappointed! Smell clean and dry for 48 hrs! All Natural and better than any mainstream deodorant!!This is the BEST deodorant on the market bar none! Antiperspirants contain aluminum and several other dangerous chemicals. I have used only natural deodorants for years but none of them worked for longer than 3-4 hours. Schmidts is AMAZING...pure organic, natural ingredients including charcoal and outperforms ALL OTHER DEODORANTS!!! It\\'s my new deodorantI don\\'t like the smell of perfumes or scents.  I\\'m allergic to anti-persperants.  This has a muted scent I can tolerate and works much better than the stuff I\\'ve used for the last 20 years. GreatAs natural deoderant goes, this is my favorite.  It’s not gritty, smells clean, and seems to have the best strength. Smell that....Aluminum free- yay!I like the scent and it seems to work well.I don’t like the little chunks, they drop off onto the floor, but seem to melt between my pits. Best natural deodorant for smell and the magnesium can’t hurt either.Love this natural deodorant! I’ve been using this for about a year and a half. The magnesium has helped with the elimination of leg cramps at night too! Only one that worksIt\\'s the only one that works for hyper-active sweaty smelly pits. If you gave up looking for aluminum-free deodorant that works, try this. Magnesium works wonders. This one worksBest natural deodorant I have tried.  Not really an anti-perspirant, but that\\'s OK because there is no smell!  Has been great even thru the rising temperatures this spring. Good scent and works.I used to use the Schmidt’s Cedar deodorant until it started irritating my skin. I moved on to this one a few months ago and I’m more than happy with the switch. The best natural deodorantI’ve lost track of how many natural deodorants I’ve tried. This is the best one by far! A little goes a long way. It works great my only complaint is how grainy it is. Other than that I am really happy with the product. longest lastingI have bought several of these, and if in doubt, this doesn\\'t have any perfumy scent, but works allll day!! Five StarsSo good and way better then the brand piperwai! ... the light scent and that fact that it works great for himMy husband loves the light scent and that fact that it works great for him.  I love the ingredients.  Win for everyone! Wonderful Natural deodorant!The best natural deodorant I\\'ve EVER used! I really love it...it lasts all day with no need for re-application! The only reason I gave it 4 stars instead of 5 is that it does get very grainy and can also stain your clothes if you aren\\'t VERY careful putting clothes on over it. It gets a little goopy in the cap and I have to wipe it off daily but overall this is a fine product and the only deodorant I will use!! Very nice deodorantDeodorant lasted all day and  didn\\'t leave any stains on my clothes No harmful ingredientsLove this product because it doesn\\'t have harmful ingredients  and works well Nice fresh scentThis has far exceeded my expectations!  Nice fresh scent, not masculine or feminine.  Works even better than the original line. Overall this deo is actually pretry great, the only problem is sometimes the consistency is ...Overall this deo is actually pretry great, the only problem is sometimes the consistency is gritty and sometimes its this wonderful smooth texture. It doesn\\'t decrease effectiveness however. Word to the wise if you\\'re just starting out and switching to natural deoderants there is a bit of a process in getting used to it.  I actually broke out into a rash for 3 days, but it was a thousand percent worth it over all! This too shall pass. It worksNo b.o., and I\\'ve been using this for about 8 months now.  Works like a charm. It works!So far, this has been the only all natural deodorant that has worked.I am so pleased to have found it, and will be trying the other scents to see if they work as well. Worth your moneyBest natural deodorant! I wear it through HIIT workouts and it still lasts. Extremely happy with this. It is pricey but worth it. Works wellWorks well even for my hard-working husband! It does smell like roses or something feminine. But at least it’s natural and works. We’ve tried a lot of different natural ones that do not work Fresh and cleanMy favorite scent. I may sweat but I never smell. I like this scent better that Rose Vanilla. Fresh and clean Best of the natural deodorants I\\'ve tried.Love this deodorant. All natural but works just as well as the aluminum stuff I used to use... Took a little while for my body to acclimate, but works well now. My stapleDoesn’t really have a smell. I have been using this brand for over a year now. I exercise five times a week and have no issues with this deodorant. Best natural deodorant I\\'ve triedI\\'ve used this deodorant for almost a year and have never caught myself smelling anything other than fresh! I have also tried the green tea scent and that did not maintain freshness like the charcoal does. Lasts all day, but would reapply for after-work events, etc. This is the good stuff. Love this productThis is the good stuff. Love this product. Didn’t have any rash and it hold very well. I recommand this for alternative of any speedstick with aluminium in it. 👍🏼 Five StarsWorks great. Isn\\'t irritating my pits. We love this deodorantHigh quality and very natural.  We use it all the time. Daughter loves!My daughter has a hard time with deodorant but loves this one.  She was so happy to find a deodorant with charcoal in it because charcoal is one of her favorite ingredients in most of the face, teeth and now under arm products she uses. Great!Loved it; re-ordered it! Good product.Works well without aluminum.  Good scent is very mild.  It works well. Best Deodorant On The MarketI recently started using this deodorant and weirdly recommended it to everyone that will listen. The first time I used it, I felt a slight burn, but since then zero burn and zero smell even after hot summer days. Best I have used so farThis deodorant really works, no scent, not sticky It works for a natural productI\\'ve tried many and this one works best for an aluminum free product For me, It works 👍So far, so good 👌 Had a severe problem with regular deodorants some years ago and they would break out my armpit TERRIBLE. Looked into some \"healthier\" more natural alternatives  and no luck. Ran across this one and said what the heck, let\\'s give it a shot. 30 days in and so far so good 👍 Works very wellMy go to deodorant now. This naturally works better than other chemical loaded products.  Why not use this? Better than mostNot an overpowering scent, doesn\\'t take a lot to do the job... excelenteexcelente, precio, calidad y tiempo de entrega 👌👌👌👌👌👌 It\\'s great, but I won\\'t reorder from this storeI ordered this on March 31-- The price went from $15 which was along the norm to $20.  The actual deodorant itself is phenomenal. Eliminates OrdorWorks well in eliminating body order. Much better than crystal rock deodorant. Only downside it the stick it self is somewhat softer than a standard deodorant stick so it gets used pretty quickly. One stick lasted me just under 1 month. Best deodorant I have ever triedI have a terrible BO problem.  I wanted to get away from deodorants with aluminum.  Everything I had tried so far had failure me.  I can put this one on and go a full week without using it again and there is NO BO!  Unbelievable! fMe agrado mucho Works wellSmells good and works well GreatLove it. However, after a while my armpits started to,break out (i have very sensitive skin) still use it once in a while but not,every day due to my sensitivity. Pits like itKeeps me dry and stink free without aluminum No chemicals, no scent. 100% effective!Nothing better...used for years. Works well for a natural productBest all natural deodorant I’ve tried so far. And I’ve tried many! I like this deodorantI like this deodorant.  It does do a good job with odor.  However, I cannot use it on my arm pits, after I have just shaved.  It really, really stings.  I struggle finding a natural deodorant that works and is gentle for sensitive skin. Really like!I like this. I like the lavender scent more Best vegan deodorantNeutral scent.  Lasts all day. Good DeodorantIt arrived quickly, the deodorant seems to work as expected, and it\\'s made from cleaner materials. I love itThe best natural deodorant that I ever used Smells awesome! Works great!This deodorant works great without all the usual chemicals. And it has a really fresh and pleasant scent. My new favoriteI love this deodorant. Has great clean smell. No aluminum is what got me to try it, but it works great and smells great! I’ve been using now for almost a year. but none fought off the sweat and stank like this oneI’ve tried tons of all natural deodorant, but none fought off the sweat and stank like this one. Smells nice too! My new favorite deodorant! Never any body odor.Works well.  Never body odor.  I highly recommend this deodorant. The best and smells nice!So far the best out all other natural deodorants I have tried. BESTThe best natural deodorant ever. Great product. Works as describedGreat product.  Works as described. okOkay no smell works good These are awesome.Great stuff! Effective and great scentExcellent product. It works better than any deodorant I have used, smells great and is natural/aluminum-free. I have recommended to friends and family and have repurchased. Use this and body odor gone!!If your dealing with body odor -your own or a family members.....trust this product to totally neutralize it!!!  Best stuff ever Five StarsWorks great. Love it!!Favorite brand of deo this sent especially! Love this deodorantMy wife and I found this recently. Is great product and worth purchasing two pack. Great productWorks! A Must HaveI cannot go day to day without this product. Perfect coverage with a very nice fragrance. Easy to use.If you read the instructions and use correctly, I didn’t find there to be any problems.  I love the smell it. Smooth without stickinessSmells clean! Goes on smoothly! Lasts long. No sticky residue. For All Natural - it\\'s a Pretty Good DeodorantGiven that aluminum is a standard ingredient in all deodorants, I was very happy to see that there are decent all natural alternatives! Very pleasedOutstanding product Seriously long lasting natural deodorantFinally a natural deodorant for my husband that seems to last the whole day while still smelling great! Thanks! THE BEST!!I sweat very bad and worry about stains and odor. This is an AMAZING product. The best natural deodorant I\\'ve used to date Best one I’ve tried!This actually works! I like the scent and it doesn’t turn gross during the day. Best deodorant on the planet!I gave not found a product that works this well! Amazing. Buy it. It worksOnly deodorant that doesn’t have chemicals and still works! Fresh and naturalThey have an awesome product. The packaging was easy to open. The smell was pleasant and long lasting. My old deoderant was full of chemicals this ones nice and natural. Great product!Perfect deodorant for us! Very affective, no scent and safe. Little tricky getting to know how to use it. Glad we found it and will continue to use it for sure. Fruit loop deodorantThis deodorant works a normal amount but you will super smell like Fruit Loops. My wife loves it !!!My wife has had a hard time finding the proper under on the odorant. She absolutely loves this and it’s working very well Would definitely recommendSo far the best brand of deodorant I have used. It\\'s not oily like the other deodorants. Also previously body odor remarkably well for quite some time. Really worksBest deodorant I’ve used since moving from Anti‑Perspirant now I’ll never go back... It WORKS!I was familiar with the product prior to this purchase. So the product remains awesome! I’m always shopping for a lower cost per item in this scent. Love itI love this Deodorant and plan to use this brand for a loooong time. This stuff is great!I just moved to Texas from Seattle and needed a strong but natural deodorant to endure my new climate. This stuff is great! Best deoderant ever!I have always had s problem with underarm perspiration odor and this is the best product I have ever used -- and it\\'s all natural!!! Great productGreat product It works all day!Smells great. Wanted to switch to a natural deodorant, without aluminum, and this one works just as well as what I was using before Smells GREAT!My son and I LOVE our new deodorants! The best!Best natural deodorant I have found, hands down. First safe and natural deodorant I have ever bought that ...First safe and natural deodorant I have ever bought that works. If you have been using Tom’s of Maine, just stop and buy this instead. Night and day difference. Great deodorantMost other deodorants cause a chemical burn on my skin, this doesn\\'t. Bout only that, but it lasts all day. It works!!Love it. It works. And is not gonna kill me. Lol. I Sweat like a BEASTDont need to use much and it lasts all day. Great product 😃Great stuff. It does leave some residue on your clothes but I spray the fabric with a degreaser and it lifts it right up... Five StarsAs advertised... GreatGreat Finally found a deodorant for my odor!If search for YEARS for a deodorant that actually took away my odor! Finally, my prayers were answered. BEST deodorant ever!! Serene smellThis seems to smell the most pleasant and \"masculine\" , smells really good to i do not do a lot of reviews ...smells really good to i do not do a lot of reviews but i do like this grab  if u like smelling good for the ladys this could help lol Product works well...Much cheaper to purchase at Target or Walmart. Natural and no Aluminum.Product is natural containing no aluminum and it works. Five StarsReally like the smell. Wonderful productI love this product. Only natural deodorant brand that works for me Works great, I’ve had to change deodorant several times this year and this one is still workingI’ve had problems finding a deodorant that doesn’t quit working 1/2 way through my day and this one is it Best EverI live in a very humid hot environment. This deodorant keeps my dry without the worry of odor. I will continue to used this product. product is greatgreat product but I have to use it wisely. I also use Mitchum Lavender. Excellent product!I’ve had a problem with excessive sweating and underarm odor, and this is the first product I’ve found that works! It works!Actually works unlike most natural deodorants. Works great.Works great. No white residue on my shirt underpays. Keeps me dry and smelling good! Definitely a 5 star for sureAbsolutely love this stuff. I\\'m a heavy sweater and this is the only natural solution I have found. My family has switched over too NonallergenicWorks for 48 hours Has a nice scentAs advertised It works and smells great!Both my husband and I love this deodorant! The scent is nice and not overpowering and most importantly, it works! Smelling lovelyAs far as a deodorant goes this is great! A little pricey but I will keep using this. ExcellentGreat works for me. Excellent ! Amazon price is the best one I found.This is the only so called “ natural product” that doesn’t give me a rash.Definitely truly all natural! This product really does it’s job well & I just love it!I like the fresh scent and my under arms are dry. First time a product such as Schmidt’s works on both dryness and scent. Still using itFor the wife Awesome productMy son loves this deodorant. Worth the buy. Won’t go back to my old deodorantWorks for 24 plus! Works longer than any other deodorant I’ve used (I’m 45 so that’s some time) Five StarsWorks great smells great this is now the only deodorant I use Great productOnly product that lasts and that I\\'m not allergic to. Let you traspirate without the odorBest deodorant i tried doesn\\'t leave the white color in your clothes, let you sweat but no smell Five StarsThis stuff works way better than normal deodorant and it doesn’t have aluminum! Works!Works so well! I\\'ve used a few different kinds of natural deodorant but this one works all day! Must haveThe best Really goodReally good deodorant smells good and lasts It really worksIt worked so well for, I sent it to my son to try. Great product & seller!love this stuff! Love itThis stuff works better than any other natural deoderant ive tried! God value for my money, I will buy this product againI have been doing extra exercises and this product keeps me smelling fresh  and dry Best Schmidt’s scentGreat natural deodorant LOVE it! It works greatLOVE it! It works great. I prefer to use a non charcoal Schmidt’s when wearing white. The grey shows a little. But for everyday wear this is great Buena CalidadMejor desodorante Aluminum Free THE BEST DEODORANT EVERI have been searching for 10 years at LEAST  for a good deodorant that would not make my armpits stinky after two hours( Secret..Dove.. Name it I\\'ve tried it)Nothing worked, I was tired of layering on deodorant after deodorant to no avail. I was browsing through Amazon and decided to look at deodorants. I read the reviews and thought what the heck it won\\'t hurt to try. 🗣 LET ME TELL YOU... This is THE best deodorant I have ever used. I wore it to work, left my house at 7am got back home at 7 pm NOT ONE HINT OF ODOR. Even though I did sweat during the day it miraculously took away the odor. The fact that it is also aluminum free is another HUGE PLUS. Have never been this happy with a purchase in a long time. I have ordered 3 more to try out different scents. BestLasts forever Five StarsIt works and smells and feels good. YesYes Works wellGreat product Five StarsGreat product This is it!Love it! GreenSmell and it works good. Best one yetI sweat a lot and this product does a nice job of minimizing while smelling great. Definitely a regular purchase now. Healthy SelectionLong lasting product. No chems. No harm to you. My 18 year old son and I use the product. It is our default until another healthier choice prevails. Five StarsIt\\'s the best, doesn\\'t stain clothing - no weird scents. Warning, is very soft. Odor EliminatorControls odor very well! Gave it 4 out of 5 stars because it doesn\\'t control the wetness as well. I we we weeww to w wI hope you hope all yours is Your armpit scent tells you about your healthGreat product. When wearing light colored clothes use a different natural white colored deodorant. but for ppl wearing white tees as undergarments, it does not matter if the shirt pits get discolored - like period underwear. who cares? you know they are clean after laundry and no one sees them. I really want to add that you need to know your baseline scent and around the house or weekends go without deodorant to evaluate changes in your odor. if you are like any of these commenters saying no natural deodorant works for them - please understand you need to detoxify your blood and organs. having a smell you do not like signals ill health. i am not talking about having a natural scent with no deodorant that you want everybody in the world to smell. i am saying if you produce an odor that when by yourself with no one around to judge by brainwashed social standards, you do not like it, it stinks to you, i suggest you have toxic blood and need to fast or do herbal detox then upgrade to organic home cooked/ raw meals. support local ppl and projects when possible Pros -ConProDeo is really good and smells great. It last all day and only takes a lil for coverage. I don’t sweat at all anymore. 90 degree temps, exercising and still no funk. It’s grainy but all you do is warm against your armpit  a few seconds and it applies smoothly as any other deo. I haven’t experienced staining of clothes because I don’t use as much as I did with other brands.ConAfter a week using I began to see dark spots that look nasty. I’ve heard about possible detoxing effects and hoping that with continued use it will clear up so I’m giving it a few more weeks. Will update findings in a few weeksOverall great product, great scent, great coverage  if you don’t experience reaction It. Works.So I have battled for years having to switch out my deodorants because they always \"stopped working.\" What I didn\\'t realize is that my deodorant choices were what was actually causing me to have to switch to begin with. Point blank: aluminum glycol fragrance filled doedorants is what kept kept my armpits a hot mess. The itchiness. My gosh. It would literally make me feel like I\\'d have to itch off my underarm with a grill brush. Turns out my deodorants were straight up toxic. After using this for two days I\\'M SOLD. The itch is totally gone and so is the rash. I only used 1 swipe on both arms and am not in the least bit sticky or smelly. Really amazed! Great natural deodorant!My guy is one of those rare men who never stinks unless he’s working or working out hard. Then, he smells like a goat. It’s atrocious. He also has super sensitive skin and hadn’t found a standard OTC deodorant that didn’t cause his poor underarms to break out in a rash. Initially, I purchased Piper Wai for him. Piper Wai worked great, we thought, but when he would get a little sweaty he smelled like a chicken dinner. We decided it was herbs (sage) they use to scent it. So, didn’t work as well as we’d hoped.Continued on and found Schmitt’s Charcoal and Magnesium. Bingo! We have a winner! Smells amazing, keeps him dry, and no goats or chicken dinners to be found. No issues here with staining as he rarely wears light colored clothing. Worth it to usMy mother n I love this deodorant we both hav autoimmune problems n must not use chemicals so we found n bought it at Costco in a 3pack for $15.00 n couldn’t find it that cheap anywhere n Costco said it was a onetime deal so gotta pay premium price which here on Amazon under $9.00 per stick is cheaper than anywhere else online that I could find it we have no problems with it’s ingredients no allergic reactions either guess it’s worth the extra $4.00 per stick for us 2 swipes under each pit is all it takes Great Odor Control; Pleasant ScentI have been looking to transition to a natural deodorant but I have been nervous about odor control. I have used this for a week and have been very pleased with the results. I still smell good at the end of the day, even after working up a sweat during my exercise. Quite frankly, I can\\'t tell the difference between the odor control with this and my traditional anti-perspirant. Hopefully this lasts and I don\\'t feel the need to go back to regular deodorant! Wow!!! Impressed!I never write reviews...  but felt so very compelled with this product! I have only used this deodorant once (tonight).... but I am blown away! Went to an outdoor wedding in the Tennessee heat and humidity in August-  and was literally dripping in sweat. I am smelling my pits as I type (gross i know.... just being real) and can’t smell a thing!!!! I have been an avid dove powder fresh girl for years but felt like it didn’t work for me anymore.... I felt stinky even after just applying my dove. I will update my review as time goes on if anything changes- but as of now- wow!!!!! THE BEST natural deodorant I’ve EVER used! Better than Clinical Strength brands!I have never written a review, so please bare with me.....Schmidt’s deodorant isn’t just the best natural deodorant in my opinion, it’s THE best deodorant! I was trying every clinical strength deodorant I could find for the past 10 years because no regular strength brand worked for me. I had to try something different and was searching for natural products overall. I sweat constantly, it’s a running joke among family and friends. What they didn’t know is that I was self-conscious about raising my arms for years because after 4-5 hours, clinical strength didn’t help with moisture, but far worse than that, my underarms smelled awful...very embarrassing. I tried a bunch of natural brands, and ever since the first time I used Schmidt’s charcoal & magnesium 1 year ago, I was hooked! My armpits stay dry for at least 24 hours, even in the hot AZ sun! But BETTER YET, I NEVER develop that afternoon B.O. I constantly dreaded before this product. I wish I found it sooner!Some helpful tips for new users that are accustomed to traditional brands like Dove or Secret... use Schmidt’s sparingly, 2-3 good, slow swipes and you’re set. This will also avoid staining clothing, which I have not had an issue with. Hold against skin just a few seconds, swipe slowly, and you’re all set! I also wait 5 minutes before putting on a shirt, I do that anyway, but that’s my suggestion for those complaining of stains. It isn’t creamy smooth like other deodorants, but feeling confident the entire day, and night, that my underarms do not stink and always stay dry is worth a few little bumps in my deodorant. Everyone’s body is different, but for me this product has been an absolute game changer, I’m hooked. And as a side note, some of you may appreciate me adding this...I have had many spirited, energetic, intimate evenings with my husband. Since I started using this product, it doesn’t matter how many hours or how much sweat, I raise my arms with true confidence for the duration....and My underarms still smell fresh in the morning. Game changer. NO more ring burn rashes under the arms.Like other\\'s have said, I would order this from Schmidt or getting locally.  AND I have to say this stuff has kept me all year round from getting underarm rashes!  I put it on at night (we have a bed that makes us sweat, no denying you still sweat at night, okay?), and it has kept me from the dreaded rashes I use to get from our water source here.  IT works wonders.  It keeps bacteria down and does the job of keeping your armpits dry.  solidly good product.  Now only if I could get my husband to try it out, but it would have to be HIS OWN not mine! After shopping I smelled pretty gross and as a test to see how well ...I am over 300 pounds, female and shower more than twice daily.  I have tried a lot of different deodorants, and reapply my current one at least 5 times a day.  I bought this Saturday at a shop in town instead of online here at Amazon.  After shopping I smelled pretty gross and as a test to see how well it worked before I showered, I put some on.  Within 30 seconds I smelled like....nothing.  It was INCREDIBLE.  My roommate even tried some and was like, \" I don\\'t smell anything now.\"  I put some on after my shower, woke up, smelled nothing.  Usually my bras retain some odor after wear and with this, the armpit areas on my clothes have been saved also from any smell.  BEST DEODORANT I\\'VE EVER TRIED.  I\\'m buying like 5 more. Totally worth itI freaking LOVE this stuff. It has a neutral scent that is great for both men and women. It really works better than any other deodorant I\\'ve tried and it has these little salt Crystal\\'s in it that scrape you a tiny bit but it\\'s actually a quite satisfying feeling lol. The smell, OH the damn smell is so good....  I got mine at my grocery store not on amazon but I wanted to review it because I love it that much. Best natural deodorant on the market!This is the best natural deodorant I’ve tried. I have tried a few other popular brands; but none of them have kept me dry and smelling fresh. I almost gave up on natural deodorant and went back to aluminum filled deodorant before trying this one. I am an active female and I tend to naturally sweat a lot. This is the only natural deodorant that keeps me dry throughout the day and masks any body odor. I also don’t have to reapply it multiple times throughout the day like the others. With the others I was always self conscious and constantly checking to make sure I didn’t smell too bad. The texture is a little different and the smell is light and slightly masculine, which I enjoy. If you are a sweaty person looking for a natural deodorant this is the one to go with. Don’t waste your time with the others. Awesome productI’ve tried all kinds of deodorants including men’s, clinical strength, prescription strength and natural. Nothing and I can say nothing has truly given me a full day of odor free except for this deodorant. It’s unbelievable! At the end of the day zero B/O!!! I can also wear a shirt 2x if I want to. The first week I had an irritation under both arms. I was pretty bummed but I almost pushed through because of the benefits. Now I have no irritation and I put it on once a day. No more carrying around a mini deodorant in my pocketbook for the “just in case”.Once a day application I’m also not having a problem with staining on my clothes. Probably because I wear a lot of black.So I highly recommend this product!!! Sometimes works, and sometimes not. :lSmell is pleasant, not over powering, price is decent, on cooler day\\'s it does a good enough job. Don\\'t shave and use the day or you might get a sensitively.  As it get\\'s warmer it wears off a little sooner than I would wish. I think you might have carry with you and then wipe off and reapply to keep fresh. I like the idea of two major ingredients that have actual properties to fight odor not mask it, and absorb sweat to some degree. I found that at night there are times I sweat, and I wake up with B.O.. I  just wish it would last longer. It works!!It works, I won’t use anything else!!!It took me years to find a deodorant that would fight odor and sweating. I gave this a shot. It’s very different than traditional deodorant in its texture. Follow the instructions that say to hold it on your armpit for 5-10 seconds.Also less is best. With traditional deodorants you have to use a lot. This, just dab it around once it’s softer.The comments about staining- I wear a lot of white and haven’t had this but I can see how it could happen if you’re overusing.The “traditional” deodorants were causing more sweating and odor, AND ruining my clothes due to imbedded pit odor.There’s no going back for me, this has been a lifesaver. The only “natural” deodorant that’s ever worked for meIn my quest to stop using conventional deodorants, I’ve tried many “natural” alternatives.And every single one has done nothing for me.I’d still stink as if I never bothered to put any deodorant on whatsoever. I put this on in the morning, and I don’t smell at all for the duration of the day. It’s lasted through strenuous workouts and hundred-degree days.This particular scent is very pleasing to me, because it doesn’t smell like an older woman’s herb garden. I really don’t care for a lot other scents of natural deodorants, as I am not fond of lavender or patchouli or citrus scents (which are like, the only ones they ever use) This one is hardly noticeable and slightly earthy (maybe it’s the charcoal?)However, you will still sweat. It has no antiperspirant qualities. If you can deal with that, then it’s pretty much perfect. 100 STARS! I love it.  Works for me. I use to STINKI give this deo 100 STARS! I had the worst armpit smell ever. Have tried other natural deos that have not lasted an hr.  I reallllyyy LOVEEEE this company and deo thank you for making an AMazing product that actually WORKS for me!!:) Amount to put on and read ingredients before applyingThis is actually a good product. I’m not sure how some people are getting lumps under their armpits. Should probably read the ingredients before you use it. Also the clumps in the deodorant is fine, it is a natural deodorant. If you read the directions, you’re suppose to put the deodorant close to your armpit so the heat from your armpit can soften it a little then apply a small amount. Try not to vigorously put the deodorant on because of course it will hurt. A little goes a long way for this one. Great product Best deodorant! But don\\'t buy for 9 clams, buy for 5This is the best deodorant I\\'ve found. It lasts all day and night. But don\\'t buy for 9 clams; buy for 5 clams at your local establishment. Search around and you\\'ll see I\\'m right. I\\'ve tried probably 20 other natural deodorants, and they all stop working after a while, but not this one. Truly life changing, thanks!Will be purchasing this deodorant for the rest of my life. It works! I\\'ve had bad underarm odor that I could never get rid of or mask with any other deodorants the only thing that worked for me before was Lime juice. I love it and would definitely recommend. Finally I found the oneFor years now I had trouble finding a deodorant that has no bad chemicals, it is not sticky, and it is quiet strong and good in long hot days at work. I found Underarmed deodorant, which works great, but it is too sticky in my view. This one is dry. I see in some reviews that people say it stains. It doesn’t do that to me. I think some people may apply too much of it. The key is to apply just one thin layer - it will then last all day, feel dry and not leave any stains whatsoever. Great product Best natural deodorant there is!Excellent absorbency w/o all the aluminum from antiperspirants. Charcoal/Magnesium is the best of the  Schmidt\\'s products. Colorless. Had a dark tint, goes on colorless. Will buy until the end of time. It worksBought on a whim, love it. NOTHING worked for me before, I’ve tried every brand and every time-promise (24hr, 48hr etc..) with no luck!This has a different texture but it works so I don’t care about that. All other deodorants end up giving me itchy red bumps, this one hasn’t done that! I’ve gone from having to carry deodorant in my purse and reapply MULTIPLE times a day to cover my odor to applying once in the morning and being good all day!!!! Thank you Schmidt’s 🙌🏼🙌🏼I wear mostly dark colors or black so I haven’t noticed the staining. Hands-down the best deo I\\'ve ever usedMy entire life I\\'ve lived with deodorants that aren\\'t particularly effective. I end up smelling like an overripe honeydew melon that\\'s been sitting in the sun. Not with Schmidt\\'s Magnesium & Charcoal. Just one swipe per armpit and I smell just as fresh as the end of the day as I did at the beginning. Even on hot days when I\\'m commuting to work on my bike! Honestly the best stuff I\\'ve ever used. Follow the direction when applyingI was looking for a vegan deoderant that works well and Im so happy I found this brand. I LOVE the smell, I like the gritty feel before it goes on and the smooth, velvety feel after applied! Here\\'s the best part, it last all day! Be sure to follow the directions of warming it up for a second and I also rub it around after applying. Smells great and works better than most!I switched from anti-persperant to deodorant with this charcoal magnesium Schmidt’s brand. Recommended by a friend, I had wanted to make the natural deodorant switch but did not want to smell bad! The smell of this is super fresh, and it works really well! Sometimes I have to apply it a few times through the day, that’s the only downside. But I’d rather do that then use the aluminum filled other stuff I’ve been using for years. It’s a little rough in texture, but I haven’t found any problems with that. My armpits used to get red bumps now and then and now they never do. Try it! Totally works!!!!This deodorant  is the most effective product I\\'ve  ever used. I was using the prescription  strength Secret and Degree and I still had odor. This product was way more effective  than any other. Miracle Worker!This stuff is amazing! I’ve never had luck with natural deodorant but this stuff has far met my expectations. I never smell and my sweat is so much more managable. I work out everyday too! If your someone that really depends on deodorant this might be your best bet for natural! Say bye bye to BOI have tried almost every regular deodorant. They stopped working and I switched to all natural. They would work for a week then stop working. I have been using this for over 6 months and I do not have a issue with any odor. I have gotten some dark stains on my armpits of clothes but they washed out. AmazingHands down the best deodorant I’ve ever used. The smell isn’t too over powering. Amazing protection and it’s all natural. This product is a superstar. Price and application methodThis product is truly unique. Charcoal is an absorbent; it chelates toxins out of the axillary (underarm) area which cause odor. The scent to me is great and I\\'m told it\\'s a huge improvement. Best of all, there are no harmful parabans nor heavy toxic metals like aluminum which are in most deodorants. Magnesium is an earth metal critical for human health. For example, depressed people, by and large, are low on Mg. So any small amount absorbed through the skin is an added benefit. Consumers who complain about difficulty in application should hold it briefly against a warm part of their skin until it heats up. This will cause it to apply more easily without flaking. Read the label and you will find this listed. And last, you can find it at local stores half the cost it is here. Clumpy batchesClumpy on some batches I wish they could get consistently smooth Four StarsControls odor very well but we occasionally  have mild  skin irritation Works Great 👍🏻The BEST!!!!!! This deodorant is the best product I\\'ve discovered in yearsThis deodorant is the best product I\\'ve discovered in years. I\\'ve tried all of the natural deodorants and I lead an active lifestyle. Nothing has worked, and it used to be embarrassing. Let me start with a brief scenario of how awesome this stuff is: I ride across the state of Iowa every year on a road bike, covering 80 miles a day. At the end of the day, I smell NOTHING but beautiful goodness and some normal sweat smells (the good kind). Gone is the onion smell. Gone is the embarrassment of getting close. I used to wear Toms, Arm & Hammer, etc.. and could not even get through an office day without smelling like onions and garlic. Im a 30 year old guy, 180 lbs, athletic, and I sweat an average amount. I generally smell good, and have better than average hygiene habits, but my BO is usually noticeable when I smell myself at the end of a non-active day, no matter what.Anyone complaining of this stuff ruining clothes is using way too much. I wear white/black dress shirts often, and I\\'ve never noticed staining. A little goes a LONG way, and less is more in this case. You also need to understand, this is NOT an antiperspirant. The only drawbacks are that some scents dont go on very smoothly (lavender, lime) and will chunk up and crumble off the bar (and armpit hair complicates things). Even my wife (hairless) had that problem though..  The Charcoal-Magnesium for some reason goes on super smooth and is a miracle!-------UPDATE 11/16/18: Still love this stuff. My wife cornered me the other day when we were close in the kitchen. At the end of a long day, she asked me (with a very serious face): \"what cologne are you wearing? It smells amazing!\". This is the second person to do this to me.. The other was a man at a taco stand while ordering lunch after I cycled for 10 hours then bathed in hose water on the infield of a softball field in July. I wear nothing beyond deodorant.I did end up with a bar with the weird hard chunks, almost like applying sand paper that others have complained about. It took 6 bars, but I finally got one. I\\'m suffering through it, but I think I\\'ll exchange it for another.. Most are smooth.------ The only non toxic deodorant of over ten I\\'ve tried that worksThis is the only natural, non toxic deodorant that has ever worked for me and I have spent a small fortune trying a number of them.  These from Amazon go on much smoother than the one I purchased locally.  It works most of the time; say 90%.  I use three swipes (down,up,down or vv) and do not have to warm this up like I did my other one.  Sometimes, I have to reapply, as I start getting a sticky feeling shortly after application like it isn\\'t working.  Yes, there can be a slight grit to it; this doesn\\'t bother me on my skin.  I have to actually wipe it off the tube and my bathroom shelf where I store it.  All in all, it works and is non toxic, which is what I\\'m after.Nov 2018: the 2nd set I purchased from Amazon does not go on as smooth.  I guess it is the luck of the draw; so I either keep it to my skin longer or place it under the light for a bit. but once it\\'s on it\\'s perfectly fine. Odor suppression seems to work just fine as ...I\\'ve yet to get any sort of rash from this, so I think this one is a keeper, for me at least. Everyone is different and there\\'s always that one guy that becomes covering in boils for some reason.The texture is kinda gritty and unimpressive when applying it, but once it\\'s on it\\'s perfectly fine.Odor suppression seems to work just fine as well, though I haven\\'t yet used it when I\\'m outside all day in 90-100 degree humid weather. So we\\'ll see. Fresh, natural, doesntThis stuff is amazing!!! Normal deodorant causes me to break out in a rash and mixes with my natural perspiration to cause gross stains on all my clothes. I think it even makes me sweat more. Anyway, this stuff smells great, doesn\\'t stain my clothes at all and it leaves my underarms feeling fresh and comfortable even when I\\'m really sweaty.One note I\\'d give is that the formulation isn\\'t always consistent so I\\'ve had sticks that were really crumbly and messy. Can\\'t just switch from antiperspirant to this overnightI see a lot of people complaining about this brand. Thing is, you can\\'t just switch. Normal deodorant paralyzes your sweat glands. You unblock them, you will stink, burn, and if you don\\'t have armpit hair, good luck. I love this brand. It works great, and I work physically all the time, easily 50 hours a week. I used to stink so bad if I forgot to apply antiperspirant, I was always paranoid at corporate or when going out. Now I rarely do stink, even if I don\\'t apply anything and I\\'m sweating all day. It takes time for your armpits to figure it out. If you have no hair and stop the sweat paralysis, yes, your pits will burn, and stink as everything backed up for years needs to come out. Also, grow your pit hair. They\\'re there for a reason. The only thing that makes hairless pits \\'work\\' is the sweat gland paralysis from antiperspirants. I\\'ve been using this deodorant brand for two years now, grew out my pit hair like a normal human being should, no burns, no ingrown hairs, no smell, no dark skin, my armpits have never been happier or healthier. And yep, they\\'re hairy. Happily. Long lasting, for days even without showers! Smells ggreat tooGreat smelling deodorant and unexpectedly effective. Keeps my pits dry and body odor free. I didn\\'t even need to shower at the end of the day. And the next day I didn\\'t use the deodorant and went all day without a shower as well. Haha, I\\'m serious. On the 3rd day I felt like a hippie so I showered anyway, but still no body odor. After intense and sweaty workouts it did leave a blackish/gray ring around the pits of my shirts, but washed out except for one. I\\'m not sure why, maybe the material of the shirt. P.S. I went 6 days without a shower and only used the deodorant every other day, even with workouts, I only needed to wash my feet and bum. It really works!! Hahah I\\'m a hippiee now! Works better than Old SpiceI spent years looking for a natural deodorant that worked as well as traditional ones. I tried Schmidt’s white baking soda version and couldn’t use it due to skin sensitivity (skin has a pH of about 5.5, baking soda is very basic at around 8.3, and this can cause imbalance and sores over time that feel like painful red cysts). It also left white cast on clothes.This one is a sheer black and is augmented with magnesium. I’ve found my skin likes it a lot better than the other version. I switch it with Jasmine Tea versión for sensitive skin so I don’t get sores etc. but that version works as well as the Old Spice one I use on occasion. So still pretty well, I’m just smelly, and this one keeps me 100% stink free.The smell is a very pleasant citrus that’s definitely unisex. I actually get compliments on it when I wear it. My sister and her husband both buy the packs from CostCo and they get compliments all the time too. I actually heard about it from them.This one is definitely worth a shot. Best Deodorant Ever!Best Deodorant Ever! I put this on once in the morning and I am good all day long. All other natural deodorants I have used requirement to use into her three times a day to be effective. There isn\\'t a weird odor from the deodorant either, just fresh smelling. The best deodorant I’ve ever triedThis cosmetic product is great. Yes, it may cause a skin rash/sensitivity if you discontinue your poison deodorant cold turkey and switch to a large amount of this.My recommendation is to taper off of you regular deodorant and to taper onto this. Maybe a small amount of this to begin with in order to adjust to the new basic pH (baking soda is a base on the pH scale). Then increase the amount over a few weeks to a few months. This will allow your skin and microbiome a chance to equalize.I have noticed a huge improvement since discontinuing traditional antiperspirant. No more funky armpit stench and NO MORE  HYPERHYDROSIS. And believe me, it used to be BAD.I highly recommend this product. Great product!Excellent deodorant that is free of aluminum compounds. I’ve use this for over a year and have had excellent results. I’ve noticed several complaints of some sticks being dry and having lumps in them. This is a common issue with this brand. About 50% of the time it is perfectly smooth but other times I receive a stick and it is too rough to use. Not sure if it is based on how old the deodorant is or if this company just has trouble with production consistency. I have tried many other non-aluminum brands such as Baxter and Native but I smell awful after sweating. This product goes on more like an antiperspirant and works like one too but without toxins. Anyway, I still give it 4 stars but be prepared to return if you get a bad batch. From someone who actually needs deodorant  - this stuff works!I actually need deodorant, lol.  I\\'m not one of those girls who uses this because it smells nice.  If you are trying to start your natural deodorant journey I highly recommend Schmidts.  I\\'ve used Pit Paste, Native, Tom\\'s, Lume - you name it.  NOTHING works better than Schmidts.  Now, I will say that which scents your body responds to is very subjective.  Your body chemistry will actually play a part in these.  There are Schmidts scents that work great for me and others that don\\'t work at all - so you\\'ll need to go on a discovery journey.  However, this scent (Charcoal Magnesium) hands down works the best for me and it smells great! Yeah I was sweating like a pig but no foul odor at allIt was 98 degrees outside, my AC in my car broken, it was pouring down rain so my windows were rolled up But my saving grace was this deodorant. Yeah I was sweating like a pig but no foul odor at all...just a pleasant light perfumed aroma from the deodorant. This stuff is good!Update: This is seriously the best deodorant that I’ve ever used and that includes regular and natural deodorants. It’s been over a month and I love this stuff. I’d give it 10 stars if I could. Try it and you won’t be disappointed. A natural deodorant I can get behind.Most natural deodorants do not work for me, they either leave me all sticky under the pit or plainly do nothing scent-wise. Schmidt\\'s deodorant actually goes to work on me, leaves me smelling fresh without the sticky part. Note, it will take a couple of days to get used to but after a week you should be fine.My favorite scent by Schmidt\\'s is this Charcoal + Magnesium version. My new deodorant!This is my first time trying a natural deodorant and I\\'m pleasantly surprised. It lasts all day and has a lovely lemongrass smell. It does tend to irritate my underarms a little if I shaved that morning, but it doesn\\'t last long. I\\'m sticking with this and even recommended it to my daughter! This stuff really works!!!!!!!This is the best deodorant I\\'ve used in the last 50 years.  And I\\'m not just saying that because my name is Schmidt. Honest!  One of the things I like is it protects a long time.  I get two days per application. The best way to apply it is to do one swipe each side and run it in with one finger. It doesn\\'t feel yucky but gets the deodorant down on the skin where it works the best. Don\\'t waste it and your money by over applying. I like the charcoal and magnesium the best. Love it, but inconsistentRecently developed an allergy to deodorants.  Tried over half a dozen organic brands, some of which still caused allergies.  I found the Schmidt\\'s Charcoal deodorant had the best scent to me and did not cause the contact allergy.  I agree with other reviewers, (1) production quality is inconsistent, about 25% of the sticks are like Elmer\\'s School Paste and (2) it can stain white T-shirts gray over time, so I use it mostly with dark shirts.  I keep trying other brands, but I keep coming back to the Schmidt\\'s Charcoal deodorant. After a year, I still have to pinch myself that I found one that worksI have tried so many natural deodorants trying to avoid anti-perspirant. Nothing has worked Until this one. I work a lot and executive conference rooms, and do not need to worry whether or not my deodorant is going to work. I’ve been wearing the sling for about a year now through two summers until this one. I work a lot and executive conference rooms, and do not need to worry whether or not my deodorant is going to work. I’ve been wearing the sling for about a year now through two summers,  and it has not let me down. I had a really hard time trusting it and believing that I had actually found a natural deodorant that worked. #LoyalCustomerForLife Works better than anti-perspirant for meThis deodorant works better than any that I have tried. I used to use clinical strength anti-perspirant, but that occaisonaly caused swelling under my arms. I wanted to get away from anti-perspirant and tried many doeodorants. Most of them did little to nothing. For me, this works better than the clinical anti-perspirant for both odor and sweating.  I would give it 5 stars, but it did cause a little redness under one arm. It does have a gritty texture and it is not quite a solid, more like a paste. Holy grail of deodorant!!The smell is actually beautiful, fragrant but light. It’s perfect! Not perfumey at all, but it doesn’t smell (and I’m sorry) too hippe, Just nice. Best of all it is super neutralizing! I cannot smell my armpits at ALL, and I sweat when I work! I’ll check again in the morning and I’m still good! I check and have my boyfriend check! It’s an amazing find! Bye Bye OdorI love this deodorant.  It really works and lasts a long time.  It takes a little patience when applying as it is very hard and needs the warmth to allow it to glide on. Allow around 10 seconds or so. Just hold it against your armpit to let it soften. I can go all day and into the next day before having to reapply. Best Natural Deodorant EVERI have spent the last decade searching for a natural deodorant that didn\\'t leave me smelling like day old tacos and this is it. I have gotten several friends and half my family addicted to this amazing deodorant. It actually works like a traditional deodorant which means less sweat and no funk. Love it! Best deodorant, dont need antiperspirantThis is the best deodorant I have ever used.  I tried arm and hammer, some cool looking band at Target and even lemons in the shower (seriously).  This deodorant give me confidence that I do not smell, it simply works.  For me antiperspirant also worked, almost any brand, but they cause me to have underarm rashes. I used to use antiperspirant on special occasions (weddings, business meetings) but now this natural deodorant takes its place.  Rock on Schmidts. Great deodorant.I\\'ve tried a few different deodorants, looking for a good aluminum free option. This is the best by far. Lasts long, smells good, and a little goes a long way. Decent natural deodorantI think I’ve tried every natural deodorant on the market and I find most of them lacking. I need a strong deodorant that stands up to all day outdoor working. This one has come the closest. My only complaints are that some of the containers have been gritty and agitated my underarms and the price is a bit high. Seems to work for meI\\'ve been using one of the big-brand anti-perspirants for decades. I\\'ve tried a few other natural deodorants but found them too sweet-smelling; my tastes skew more toward the powdery, soapy aromas, which Schmidt\\'s Charcoal subtly has. I was wary of switching from anti-perspirant to deodorant as I\\'m a sweaty guy but, so far, it hasn\\'t been a problem. It\\'s a little bit coarse and, hence, a little bit painful to apply, hence the four stars instead of five. Maybe the pits\\'ll toughen up over time. Pits of steel! Best deodorant everThis stuff is amazing. I can put it on in the morning, teach two fitness classes, spend the whole day on the go then go out at night and when I come home I can still smell the scent of the deodorant and zero body odor. I\\'m a guy. A guy who sweats a lot. Buy this stuff. Effective and non-irritating.Many deodorants cause a rash after I’ve used them for a few days. Others don’t irritate, but aren’t as effective. This product seems to resolve both issues, and after six weeks of use I’m very pleased. The stick can be grainy upon application, but it quickly smooths out. ABSOLUTELY WONDERFUL!My husband cannot use any other deodorant.  But Schmidt\\'s has worked so wonderfully for him.  He says it works so well for him during his 12+ hour shifts, he doesn\\'t need to worry about re-applying.  He races about it being the best he\\'s ever used. Works Well But Leaves a Bit BehindI like that this is a “Natural” product with few ingredients. I also like that it contains charcoal, which pulls toxins out of the body. It does leave a residue under my arms that can wipe off on clothing if you’re not careful. But it’s one of the few Natural brands that actually works to keep me from sweating. I heard that the company was recently “bought out” so I’ll be on the lookout to see if ingredients change... But for now this one is working well for me! A deodorant that works!Finally! So many natural products are worthless. This one works! Both me and my boyfriend use it. I love the smell. It’s mostly baking soda so there is a trick to putting it on. Rub it in your pits thickly, then press the excess product back into the bar. Otherwise you will use way too much. Once I got the technique down, I love this stuff. I am actually wearing deodorant again! Okay so far.It works pretty well. I’m only in my first month of using this natural deodarant. No stains but with the hot and humid temps in Texas we will see if It will keep up. The smell is great and can work for anyone. Really good product - finally something that works!This is nontoxic and actually works!  I have tried about 5 different natural deodorants and this works better than anything I’ve used!It works better than the ones with all the chemicals.  I hope amazon keeps selling it. This natural deodorant actually WORKSFINALLY, a natural deodorant, with no aluminum or other toxins, that actually WORKS !!! Good natural deodorantGood scent, works well on my sensitive skin. I use natural deodorant because I get skin irritation when I use regular brands and this is the best I\\'ve found so far cause it lasts longer than most but I still have to reapply more than I\\'d like to, though Ill still continue buying it as it is the best and most affordable natural deodorant I have found so far Works after a week.Controls sweat better than Mitchum. I sweat a lot and this worked. Some people talk about a detox period. These seemed to be true. After a few days this was working better than Mitchum professional strength. Recommend trying. Really natural that really works.  Worth the money.This is one natural deodorant that works, even on stress sweat.  Don\\'t use  on just shaved pits but other than that...its my go to for my most hectic days BEST NATURAL DEO EVERI can\\'t tell you how many natural deodorants I have tried over the years. SO many cause irritation and redness, plus I would still manage to smell a little at the end of a busy hot day. This is literally the only one that makes me smell great, all the time, and has never caused a rash or any irritation. I have many other Schmidts DO sticks and this is by far the best one. Clean and effective!I can\\'t believe how great this product is! I was having problems with the rest of the deodorants I was using, and this one does the trick. I highly recommend it! Good for you & worksSo pleased with this deodorant! 18 yr old Son breaks out in rashes when he uses deodorants with all those added ingredients.  Lasts thru a long, hot day in Arizona. Strong competition with TomsThis product is Tom\\'s biggest competition. Personally, it works better on me and does not \"fail\" like Tom\\'s. One application easily gets me through the day. It additionally does not have the excessive sweating problem associated with Tom\\'s. Buy it!I highly recommend you try this deodorant. I am one of those people that need deodorant as soon as I get out of the shower. I was shocked when this worked for me. I took a few days for my skin to adjust and it was worth it! Best I\\'ve foundThis is one of the few natural deodorants I\\'ve found that actually works. I\\'ve never had any problems like I\\'m seeing on these reviews. I try a lot of natural deodorants and this one is the best. Good stuff. Works well for hubby tooGood stuff.  Works well for hubby too. Four Starsworks great and lasts! Must apply gently but thoroughly Great fragrance and successful deorderantDon\\'t be thrown off by the charcoal on the label. This stuff smells incredible AND it doesn\\'t leave stains on your clothes. Looking for a non toxic deoderant? Give this one a try. The best natural deodorantThis is the best natural deodorant I have ever found. I have looked for a long time and none seemed to work. I highly recommend this product! Awesome! It really works and it\\'s natural!the only natural deod that works for hubby. in fact it keeps odor at bay at least 2-3 times better than the commercial Degree deod he used to use.  I love when Sprouts has this on BOGO free sale. Five StarsAll day, natural protection! Five Starsworks, even with heavy sweat. Favorite deodorantThis is the best deodorant I’ve ever found. Love it!  Love that I get some transdermal magnesium and that it works all day for me. No need to reapply even after exercise. Best one on the marketNo stickiness, no stains, no smells, works great. Best non- aluminum deodorant I have found.I first found this product at Costco a few years ago.  You must adjust to using it.  Let it momentarily warm against your skin (underarm) and then apply.  It is the best non-aluminum deodorant that I have found. No problemsDoes the job I work in hot humid warehouse. Works greatAfter looking for a brand that doesn\\'t use aluminum, this is the best I\\'ve found. Really glad it\\'s becoming more popular. Love it. NO MORE ODORI sweat A LOT. I\\'m not proud of it but I am even less proud when I can smell how hot it\\'s been! This deodorant really and totally prevents odor.Get it. Use it. Love it.NO MORE ODOR! Feels good!Product works, scent mild and reordered a couple of times already. Five StarsBest deodorant I\\'ve ever used.  Love this stuff! Good Product.Good Product. Highly recommend. This works well and I love the scentIt is very good at dealing with the bad smell. No harmful aluminumNice. Works well. Fresh scent. I like it. Will continue buying. Lasts All DayThis is the first natural deodorant that actually works for me!!!! Thank you!!!Thank you!!! Works better than anything elseMy favorite deodorant by far Only natural deodorant that worksAlways fresh, only natural deodorant that works for me A natural deodorant that worksA product that works. Feels clean like mainstream bars w out a million chemicals. Works awesome!Only natural deodorant that works for me. I was on prescription strength anti persperent switched to this and works great! Aluminum freeI have been using this for a while now. It works great and is scent free Helps with body odor.This is a deodorant and not an antiperspirant but works for odor control. Good alternative to traditional deodorantsWorks well not quite as effective as some of the more traditional deodorants but then again you don\\'t have to worry about aluminum toxicity It works without aluminumMy all time favorite deodorant! Got it quickly too. Reduce your funk naturally.Best natural deodorant, apply once and your good all day. Lasts and lastsGreat odor control for more than 24hrs.  Gave me a slight rash the 1st few days but that has since subsided.  Definitely recommend. RefreshingThis product is better to me than all of the personal hygiene products I have previously used No rashI have a very hard time finding natural deodorant that actually work and don’t give me a crazy rash. This one works for me! Wow!This works and feels great!  I\\'m a sweaty guy And this has been working for me. It actually helps with sweating not just smell. Not as grainyHappy that this batch was much better then my previous one (super grainy) but not as smooth as my very first batch. I love this deodorantI love this deodorant!!!!!!!!!! I seriously spent almost two years trying different ones but this is by far the best!! Worth it worth it worth it It works!It’s natural and it works! The one and only!!This keeps my arms dry, smelling great. And I tried nearly every aluminum-free product out there. Best started in cooler weather. Great detoxGreat detox ExcellentExcellent deodorant Four thumbs up!Great smell and effective! My husband and I both use this scent (more on the masculine side but I’ve always used men’s deodorants). Best ever!!Works amazing!!! Careful not to get it on clothes though. So far she goodSeems to work well IT WORKS!After trying about everything out there in the natural deodorant market, this is the one I\\'ve stuck with.  The only downside is that depending on the temperature of the room it can be difficult to apply.  That mixed with a cold skinned person like me can lead to a lot of trouble applying in the winter.  What I do instead of trying to rub it onto my armpit directly is to rub it onto the palm of my hand and then use my hand to rub it on.  Yes it\\'s a bit of a pain but I feel that it\\'s totally worth it to have a natural deodorant that is so effective.  I don\\'t have any trouble applying it in the summer.  I am a group fitness instructor and I have never had any issues with odor even in the hot summer. Actually works!!!Really like this. I don’t smell after all day. But the cover gets a bit of deodorant on it every time in out the cap back on. Works greatGood product Love it.Amazing stuff! Five StarsWorks absolutely great -Good product It WORKSI tried so many natural deodorants over the years that did nothing. This stuff really works. Anyone leaving a bad review about the rough texture probably didn\\'t read the instructions (not accusing, because who would think to read deodorant instructions?) You\\'re supposed to hold it against your skin for 5 seconds before using it so that your body temperature warms up and softens the bar, loosening up any roughness from the baking soda. I have extremely sensitive skin, and I have zero issues with this as long as I follow the instructions. Good stuff!Works, doesn\\'t itch and no aluminum. No stains so far. Excellent healthy deodorantWorks great without aluminum another not so good things in regular deodorant Four StarsWish it was white charcoal. Grey is staining my shirts. ExcellentEffective Great productSmells great and actually super effective. Usually hard to find an effective healthy deodorant - this is worth it! Great deodorant.I smell fresh. Five StarsAll natural.  Nuff said. Five Starsworks great, not sticky, no stains Great natural brandSmells good and works to protect against wetness and odor. Way cheapier then piper wai! Best deodorantBest deodorant I have found, non-irritating, and natural to boot. Five StarsBest natural deodorant I have used. Definitely holds up in the summer months. ... past year and this one is by far the best.I\\'ve tried many natural deodorant over the past year and this one is by far the best. Chemical free.I like that its chemical free. Fantastic StuffI will never buy another deodorant!!! GoodWorks great and smells good! Free of Aluminum, Parabens, & Gluten.Great product. Great buy!Really great deodorant! Since I\\'ve been using it, no under arm odor whatsoever. The best I\\'ve ever used. All NaturalPleasant scent. Keeps me dry. No metal by-products. All natural. Five StarsThe ONLY natural deodorant that works for me! It works!It\\'s probably my favorite deodorant of all time. It’s a different experience, better than the rest100% protection, great fresh smell. Don’t be surprised that doesn’t glide on; and the fact that you might need to brush off bigger pieces that come off. TOTALLY WORTH IT. I bought Native for a while and like it. Had no luck with Tom\\'s or Schmidt\\'s ...I bought Native for a while and like it. Had no luck with Tom\\'s or Schmidt\\'s in the past, but I love this product. The granular nature probably makes it a lower choice in nicer sleeveless clothing, but for everything else I love it. Instantly started eliminating (completely) odors with no get-used-to-it time frame. I think I sweat a lot less too. For background, I have sensitive skin and before using native I was using the dove dry sprays. I still use the dry spray with nicer clothing. This is easier than ordering native, I think. Best natural deodorant ever!Love this deodorant. By far the best natural deodorant I have ever used. It really works well for me! I am not some \"natural is better\" person either.I DO NOT buy into all the \"natural is better\" garbage. It is often NOT scientifically  supported (at least in MOST studies using non-biased organizations, proper blinding and methodologies) so this is not a \"ITS NATURAL!\" point of view. The fact is all that is natural is not healthy and all that is man made (using natural chemicals BTW. Its not like they use things from some other \"unnatural\" world) is not unhealthy. Use logic and critical thinking and you will likely find that you are simply paying more or using less effective products or products using the SAME ingredients under different (less syllables so not as scary) names for things because they are not forced by the FDA (or similar) to use the proper chemical names for ingredients...So my point? This stuff actually works very well for me! I purchased it by accident when in a rush shopping at Costco. I purchased the Charcoal and Magnesium three pack. I live in the Northern USA and it was middle of Winter so I was not worried. I noticed it seemed to work when I went jogging or sledding with my children, etc. But I figured the real test would be in hot weather. Now after two weeks at my vacation home in Florida, in the low to mid 80s (to hot for me) I worked on my house planting new bushes, other yard work, going to beach with my children and chasing them all day...I am absolutely shocked at this stuff! I always blow through my antiperspirant deodorant, sometimes in only a few hours. Not this stuff! I have asked my wife, parents...they all agree, no BO at all!  No sweaty armpit smell (and I typically do stink enough that it bother me!)My shirts do not smell at all at the end of the day. Not in the least. Its amazing! So it is an example of when I have to learn and adjust my thinking and expectations about something labeled \"natural/organic/non-GMO..........whatever other catch words used to get people to pay more for less but  then you can pat yourself on the back about it in front of your friends while you make fun of \"ignorant climate change deniers (and yes the climate is changing and yes we are contributing to it) while at same time you do not get your children immunized, you get water pumped up your rear-ends and drink your \"cleansing potions\"...all while the OVERWHELMING preponderance of legitimate research does not support your beliefs. Funny how individuals will use research when it \"fits\" and deny it when it does not.OK that was one heck of a tangent. Back to my point, these results may be very different from others but I am buying again even though it is more expensive BECAUSE IT WORKS! Works Well But Weird Effect On Armpit Hair?Purchased this at Walmart for about $5 USD, sad to see the price here being so high, even if its two sticks but will review anyway.I try to avoid deodorants with too many ingredients, and aluminum especially.I only really use this or one of Tom\\'s Brand aluminum-free deodorants.I enjoy the smell of this product and it last quite awhile, from application and the amount needed being very little; in my case.Only issue I had was that my armpit hair; which is a medium/dark brown became lighter and slightly orange over time which was kind of strange but not a major issue.I saw some reviews of rashes occuring and I have experienced no issue, but as mentioned above I do not apply very much and have plenty of hair so its never really rubbed directly on my skin. Works like magicI purchased this at target for half the price, but I was so amazed that it worked, that I had to write this here. I am a bigger guy (6\\'2\\'\\' 220lbs) and usually by 4 pm my scent is less than attractive. I have tried Mitchem, Degree, Dove care, and speed stick. They all tend to keep my dry, but don\\'t keep the stench off. I am also a critic of natural cleaners/products due to the lack of scientific data to back them up. I am utterly amazed at how this stuff keeps my pits from smelling terrible! They are admittedly a little damp (only if I\\'m doing some labor) but there is virtually no smell. I am amazed... Not to say this will work for everyone since everyone\\'s epidermal biome is different, but it worked like magic for me. Also, again, target charges half this price... Best deoderant ever!I have never used a deodorant that actually worked. This prevented any BO even when I\\'m not wearing it.  Up until I bought this stuff recently at the big box membership store at a great price, I had been making my own roll on out of Magnesium. But I tried this and can\\'t believe how well it works and it has a pleasant scent to it as well but is not perfumey. I gave one each to my daughter and son and I haven\\'t smelled any gross teen spirit around the house since. My son does complain about the scratchiness of the texture and claims that it doesn\\'t go on well. He has sensory issues but I\\'m making him power through it because it works so well. Daughter likes it and it got rid of her funky teen smelll. We are now customers for life. Great scent, medium effectivenessI\\'ve yet to find a deodorant, natural or otherwise that works to keep my pit smell at bay, but this particular scent of Schmidt\\'s gets closer than most. It\\'s the charcoal & magnesium.Bulletpoints:—The scent is vaguely orange/citrus. Very fresh.—It will get on your clothes, but it won\\'t stain them like the Waves scent will.—The formula does tend to get separated in the summer heat.—It may cause a rash on folks with sensitive skin.But the effectiveness I would say is 75-80%, which is better than most I\\'ve tried (and might be even better for you - I have very stubbornly smelly pits).Good luck! Best deodorant Free of aluminum and propylene glycol,Great product! Free of aluminum, propylene glycol, parabens & phthalates Is exactly why I purchased this deodorant. I’m indoors most of the day and I don’t need to reapply. Once a day is all I need. I’ve only tried two different ones. The charcoal magnesium was great. The Rose Vanilla smells and works great but gives me a tiny amount of redness and irritation under the arms. Since this is free of all the things I am trying to avoid in a deodorant the tiny irritation is very very minor. I used Tom’s for a few months and the rashes under my arms were so bad I had to discontinue using their deodorants. So this is my new favorite.. Walmart sells these for around $5.00 each. My skin is not your skin.I have used plenty of other natural deodorants - this is hands-down the best I’ve used. I do sweat a little more when I use it for about the first 30-45 mins, but in order to salvage my extensive possession of button down/expensive shirts, I ALWAYS wear an undershirt. The first few days of using any new deodorant I sweat even more until my body adapts - that being said, there are sweat stains on my undershirts, but that’s better than the itching, irritation and burning I get with standard (aluminum) deodorant. When I sweat the scent comes out mildly to where only I can smell it. Highly recommend! I am s glad I gave this a try!I am so happy to finally find an alum-free, paraban-free deodorant I can work with! I usually make my own deodorant, but need something for when I am traveling or in a hurry. I have seriously tried over a dozen natural deodorants. None of them have worked. I then came across Schmidt\\'s Charcoal + Magnesium deodorant and thought I would give natural deodorant one last try, since magnesium and charcoal are in the ingredients of my DIY deo. I am s glad I gave this a try! This deodorant is more difficult to apply then most, but once you get used to it, it is not a problem. It has a pleasant smell. I live in Georgia where it gets hot and humid, so I have to apply a dusting of arrowroot powder (mixed with a little but of activated charcoal applied with a kabuki brush) over this before I get dressed. This combination works like a charm for me. Is it messy? Somewhat. But knowing I am using a healthier alternative is worth a bit of messiness. First deodorant that eliminates smellI tried this on a whim not expecting it to be too different from past deodorants I have tried using (primarily Old Spice varieties). With Old Spice, I would apply in the morning, and have shirts that really stunk by mid afternoon. I was very surprised when I made it throughout the entire day with Schmidts and my shirts did not stink. Even after I had been sweating - my shirt pretty much just smelled like the deodorant. It was night and day difference for me. I did develop a painful bump in one armpit that lasted ~2 days. I didn\\'t realize that this may be the baking soda in this deodorant, this has happened twice, but very inconsistently. Perhaps it is if I skip a shower before bed and have it on my skin overnight? This product works so well with the smell that I am willing to chance the occasional arm pit irritation Works great for me-wait a minute after applying before putting on a shirtI was used to a homemade deodorant that had many of the same so I tried this when I didn\\'t have time to look up the ingredients and mix more. This works amazingly well. I\\'ve had no stained garments--it goes on clear. It is a bit gritty, but I am used to that from the homemade one, and I put the top of the stick against my pit firmly, count to three and apply.  I wait for it to soak in before putting on my shirt--I just do something else while I wait. It lasts all day, no acrid hints of failure.  I bought mine at Walmart for $4.72 plus tax but I was already in the store then --looks like shipping is figured into these prices? Works great in 90 degree heat and humidity. I\\'m trying lavender and sage next! The BEST!  I will never use another deodorant!This deodorant is AMAZING!!  It works great and not just for a \"natural\" deodorant but across the board, it\\'s better than ANY deodorant I\\'ve ever used.  My mom and my husband agree.  I\\'ve used clinical strength deodorant that didn\\'t hold up but this stuff does and it lasts all day without reapplying.  I highly recommend!!  It is gritty and can ruin clothing but the great thing is that you don\\'t need to apply it thick like other deodorants because it actually works so I just don\\'t coat it on and I don\\'t have any issues. Better than the chemically laden antiperspirantsI\\'ve been on the natural deodorant kick for a few months now, but always carry around that stick of Degree in case I have a business meeting, formal event, or something for which I really need not to stink. I\\'m shocked at how dry this deodorant has kept me, and literally ALL DAY LONG. Natural deodorants always have to be applied like 3 times per day for me, but I feel like I didn\\'t even break a sweat. You use less of it than a normal antiperspirant (like half), and it doesn\\'t feel sticky or get on your clothes as bad as the other naturals. This is important: DO NOT USE AS MUCH AS YOU WOULD NORMALLY. My armpits were a little irritated until I took the amount down to 2 quick swipes. Now I have no irritation, and it actually is keeping me more dry. It also has you smelling like a functional member of society rather than a hippie, which is great for work. The smell sticks around and doesn\\'t yield to BO over the course of the day like the other naturals. Highly recommend. I\\'ve tried just about every aluminum free deodorant and this is by far the best. Not only is this free of very harmful ...Im deathly allergic to aluminum, it causes me to have body aches, rashes, severe joint pain and fatigue. I\\'ve tried just about every aluminum free deodorant and this is by far the best. Not only is this free of very harmful metals, but it has worked better than any deodorant I have used (dove, axe degree, gillette, old spice, you name it). I can go to work, sweat all day and not one hint of odor. It doesn\\'t give me rashes either. Love this stuff. Ive bought a case of this deodorant incase the company stops making it. Its the only aluminum free deodorant that has ever worked for me. *Heads up* You can get this product much cheaper at wall mart. Scent is good but my armpits have a darker color to them!I actually found this at Costco and purchased a three pack. The deodorant does go on tough at first but over time it gets smoother to apply. The biggest complaint I have from this is that my armpits have developed a darker color to them because of the activated charcoal. I noticed that after about a week or so of not using it, my armpits returned to their normal color. I’ve never had dark armpits before so when I noticed it I was a bit shocked and then put two and two together. The scent is nice and it does last but I find that alternating deodorants helps with my body not getting too comfortable with one since for me they typically stop working as well after a while. Keeps you smelling fresh! Don’t over apply, take it easy.I’ve only been using this product a couple of days but so far I’m impressed. It has kept me b.o. free unlike other natural deodorants I’ve tried that bring out your natural hippie smell lol. I used a very small amount, like swipe once or twice at most under arms. I think those who are getting rashes are probably over applying. It does have a grainy texture so I could see how that could happen. I’m happy to have found a natural solution. I didn’t wear any deodorant at all for a while bc I’d rather stink than put chemicals under my arms. Worth a try. Shop around for best price. I found for $4 something. Very effective at controlling body odor.Excellent at controlling body odor for at least 24 hours, sometimes longer.  It is not the cleanest applying product, but it is comfortable and smells okay. Not recommended with white or very light shirts, although it washes out okay with a hot water wash.If controlling underarm stink is your goal, Schmidt\\'s Charcoal Deodorant is a great answer. Best deodorant ever.I have been using this for about six months. It is by far the best deodorant I have ever used. I was reading through some of the other reviews, after a couple weeks of using this I too experienced a bunch of little pimples or bumps under my armpits. But I seem to figure out is this stuff is very thick and was probably clogging them up. I decided to adjust it so that way it\\'s even with the plastic edge so it barely goes on. And then I take one of my fingers and I rub it in so that way it gets evenly applied with a lighter once I started doing this the temples eventually went away and I\\'ve not had an issue with it since. So if you have this deodorant and are experiencing that put a very very light coat and rub it in and you should be golden.b So worth trying!First time using a natural deodorant. I’m so impressed! I’m glad I didn’t read other reviews, I might of not tried it. I’ve never found a female deodorant that actually works. Tried several men’s brands but didn’t like any. I don’t have sensitive skin, no issues for me. Application tip: apply softly. Needs to warm up to get the best coverage. Best odor-killer ever, but best money-killer, tooCAREFUL!  If odor has been a lifelong issue for you, this is going to be the end of your search.  I finally found the holy grail with this stuff. HOWEVER, I am not giving it 5 stars for 2 reasons: First, price (obviously), but who cares when you finally find something that works? Second, it is a regular sized container, but I think I went through mine in about 2 weeks, which does not make this cost efficient.  Next time, I think I could stretch it out better, because it is really soft when you apply it to your body and it warms up, but I still think it would go too fast. Buy at Target InsteadI just bought this yesterday for under $5 per stick at Target. It\\'s more expensive at Whole Foods, and I\\'m surprised it\\'s more expensive here on Amazon than at Target.I haven\\'t gotten a chance to use this yet, but I\\'m expecting good things based on the ingredient list, blog reviews, and customer reviews. I previously tried Tom\\'s, but that ingredient list doesn\\'t really stack up here and it gave me a small rash. The fact that this has Arrowroot, Baking Soda, and Coconut Oil leads me to believe it\\'ll work well. I did decide to detox my armpits before using though. Never smell again!Actually works! I hold it against my underarm for a second or so to warm it, then spread it across and it works like a charm. I never apply after shaving (as the warning label directs) and I never have any issues of irritation. Only natural product I\\'ve tried that actually stops the smell of B.O.; in fact works better then my old clinical strength deo I used before I switched! Best Schmidts \"flavor\" for meI\\'ve tried the sage/lavender, the ylang ylang one, and the bergamot/lime but I end of having a weird after smell at the end of the day. The magnesium/charcoal however has me smelling like a rose all day long. One day, regular deodorant just wasn\\'t working for me and since I\\'ve heard that antiperspirant may not be the best for you I decided to give a natural deodorant a try. I\\'m glad Schmidt\\'s works. Hopefully they don\\'t discover charcoal gives you cancer 10 years from now. :/ Finally!!! A Natural Deodorant that WORKS!!!I am beyond impressed with this natural product! I had been searching for a natural alternative to the toxic deodorants out there and I have tried several that just didn’t make the cut. This deodorant is perfect. I got mine from a local health food store. You apply once and lasts all day even in the humid summers. This is perfect for the gym, jogging outdoors, etc. Such simple, clean ingredients, I love it! I love this deodorantI love this deodorant.  It works great.  I did develop a rash, so stopped for a while, started again, and the rash returned.  So I do not use it anymore.  I gather that some people\\'s skin will be sensitive to this product.  I highly recommend it if your skin can tolerate it. Really worksI did the 48 hour test . It\\'s so subtle I was very surprised the odor fighting capabilities held up so well.  Fragrance is not over powering. I have several other fragrance I haven\\'t tried yet. A Natural Deodordant That Actually WorksBy far, the best natural deodorant that I have ever come across. Will not melt away. Four StarsGreat deodorant, but the last week\\'s worth won\\'t stay in the dispenser and gets wasted. Works greatWorks great for my husband. No sores or rashes. Keeps him dry and smelling good. Great Smell, and WorksI love the smell of this deodorant! It smells so fresh, I only use this deodorant now. I also think it has more antiperspirant properties than the other types of Schmidt\\'s deodorants, because of the charcoal and magnesium in it. This is a great deodorant! IT works so I put up with treating stainsI love this.  It si the only thing that works thats natural!!!  It definitely leaves stains but I pretreat armpits with detergent when I wash the clothing.  IT would get 10 stars if it didn\\'t stain shirts. No Aluminum and Keeps you dry !No Aluminum no parabens and keeps me dry. Blows away every deodorant I have tried! Your body needs Magnesium!'"
      ]
     },
     "execution_count": 55,
     "metadata": {},
     "output_type": "execute_result"
    }
   ],
   "source": [
    "pos"
   ]
  },
  {
   "cell_type": "code",
   "execution_count": 58,
   "metadata": {},
   "outputs": [],
   "source": [
    "wordcloudpos = WordCloud(stopwords=stopwords, background_color='white').generate(pos)"
   ]
  },
  {
   "cell_type": "code",
   "execution_count": 61,
   "metadata": {},
   "outputs": [
    {
     "data": {
      "image/png": "[encoded data removed]",
      "text/plain": [
       "<Figure size 432x288 with 1 Axes>"
      ]
     },
     "metadata": {
      "needs_background": "light"
     },
     "output_type": "display_data"
    }
   ],
   "source": [
    "plt.imshow(wordcloudpos, interpolation='bilinear')\n",
    "plt.axis(\"off\")\n",
    "plt.savefig('wordcloudpositive.png')"
   ]
  },
  {
   "cell_type": "code",
   "execution_count": 69,
   "metadata": {},
   "outputs": [],
   "source": [
    "neg = ' '.join(review for review in negative.subject_review)"
   ]
  },
  {
   "cell_type": "code",
   "execution_count": 73,
   "metadata": {},
   "outputs": [],
   "source": [
    "wordcloudneg = WordCloud(stopwords=stopwords, background_color='white').generate(neg)"
   ]
  },
  {
   "cell_type": "code",
   "execution_count": 74,
   "metadata": {},
   "outputs": [
    {
     "data": {
      "image/png": "[encoded data removed]",
      "text/plain": [
       "<Figure size 432x288 with 1 Axes>"
      ]
     },
     "metadata": {
      "needs_background": "light"
     },
     "output_type": "display_data"
    }
   ],
   "source": [
    "plt.imshow(wordcloudneg, interpolation='bilinear')\n",
    "plt.axis(\"off\")\n",
    "plt.savefig('wordcloudnegative.png')"
   ]
  },
  {
   "cell_type": "code",
   "execution_count": null,
   "metadata": {},
   "outputs": [],
   "source": []
  }
 ],
 "metadata": {
  "kernelspec": {
   "display_name": "myvenv",
   "language": "python",
   "name": "myvenv"
  },
  "language_info": {
   "codemirror_mode": {
    "name": "ipython",
    "version": 3
   },
   "file_extension": ".py",
   "mimetype": "text/x-python",
   "name": "python",
   "nbconvert_exporter": "python",
   "pygments_lexer": "ipython3",
   "version": "3.8.5"
  },
  "pycharm": {
   "stem_cell": {
    "cell_type": "raw",
    "metadata": {
     "collapsed": false
    },
    "source": [
     "import spacy\n",
     "\n",
     "\n",
     "\n"
    ]
   }
  }
 },
 "nbformat": 4,
 "nbformat_minor": 4
}
